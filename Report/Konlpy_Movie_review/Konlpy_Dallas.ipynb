{
 "cells": [
  {
   "cell_type": "code",
   "execution_count": null,
   "metadata": {},
   "outputs": [],
   "source": [
    "import matplotlib as mpl # 기본 설정 만지는 용도\n",
    "import matplotlib.pyplot as plt # 그래프 그리는 용도\n",
    "import matplotlib.font_manager as fm # 폰트 관련 용도\n",
    "import numpy as np\n",
    "\n",
    "%matplotlib inline"
   ]
  },
  {
   "cell_type": "code",
   "execution_count": 1,
   "metadata": {},
   "outputs": [],
   "source": [
    "import konlpy\n",
    "import nltk\n",
    "from wordcloud import WordCloud, STOPWORDS\n",
    "from PIL import Image"
   ]
  },
  {
   "cell_type": "code",
   "execution_count": null,
   "metadata": {},
   "outputs": [],
   "source": [
    "from konlpy.tag import Okt\n",
    "\n",
    "t = Okt()\n",
    "\n",
    "doc_dallas = open('달라스바이어스클럽_리뷰_06_17.txt').read()\n",
    "nouns_dallas = t.nouns(doc_dallas)\n",
    "\n",
    "f = open('stopwords_extreme.txt')\n",
    "\n",
    "lines = f.readlines()\n",
    "\n",
    "stop_words = []\n",
    "\n",
    "for one in lines:\n",
    "    stop_words.append(one.strip())\n",
    "\n",
    "new_ko = []\n",
    "\n",
    "for one_word in nouns_dallas:\n",
    "    if one_word not in stop_words:\n",
    "        new_ko.append(one_word)\n",
    "\n",
    "new_ko = nltk.Text(new_ko, name='달라스바이어스클럽')\n",
    "\n",
    "new_ko[:50]"
   ]
  },
  {
   "cell_type": "code",
   "execution_count": null,
   "metadata": {},
   "outputs": [],
   "source": [
    "Car_mask = np.array(Image.open(\"movie_image_white.jpg\"))\n",
    "\n",
    "data = new_ko.vocab().most_common(1000)\n",
    "\n",
    "wc = WordCloud(background_color='white', \n",
    "               max_words=200,\n",
    "               mask=Car_mask,   \n",
    "               contour_width=3, \n",
    "               contour_color=\"steelblue\", \n",
    "               font_path=path).generate_from_frequencies(dict(data))"
   ]
  },
  {
   "cell_type": "code",
   "execution_count": null,
   "metadata": {},
   "outputs": [],
   "source": [
    "plt.figure(figsize=(12,8))\n",
    "plt.imshow(wc)\n",
    "plt.axis(\"off\")\n",
    "plt.show()"
   ]
  },
  {
   "cell_type": "code",
   "execution_count": null,
   "metadata": {},
   "outputs": [],
   "source": []
  },
  {
   "cell_type": "code",
   "execution_count": null,
   "metadata": {},
   "outputs": [],
   "source": []
  },
  {
   "cell_type": "code",
   "execution_count": null,
   "metadata": {},
   "outputs": [],
   "source": []
  }
 ],
 "metadata": {
  "kernelspec": {
   "display_name": "Python 3",
   "language": "python",
   "name": "python3"
  },
  "language_info": {
   "codemirror_mode": {
    "name": "ipython",
    "version": 3
   },
   "file_extension": ".py",
   "mimetype": "text/x-python",
   "name": "python",
   "nbconvert_exporter": "python",
   "pygments_lexer": "ipython3",
   "version": "3.8.5"
  }
 },
 "nbformat": 4,
 "nbformat_minor": 4
}
