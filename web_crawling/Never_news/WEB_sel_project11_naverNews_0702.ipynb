{
 "cells": [
  {
   "cell_type": "markdown",
   "metadata": {},
   "source": [
    "### 네이버 뉴스 정보 가져오기"
   ]
  },
  {
   "cell_type": "markdown",
   "metadata": {},
   "source": [
    "### 학습 내용 \n",
    " * 네이버 뉴스 여러개 단어 검색\n",
    " * 페이지별 언론사, 뉴스기사, URL"
   ]
  },
  {
   "cell_type": "markdown",
   "metadata": {},
   "source": [
    "### 01. 웹 브라우저 띄우기"
   ]
  },
  {
   "cell_type": "code",
   "execution_count": 1,
   "metadata": {},
   "outputs": [],
   "source": [
    "from selenium import webdriver\n",
    "from bs4 import BeautifulSoup\n",
    "import pandas as pd"
   ]
  },
  {
   "cell_type": "markdown",
   "metadata": {},
   "source": [
    "### 네이버 뉴스 검색"
   ]
  },
  {
   "cell_type": "code",
   "execution_count": 2,
   "metadata": {},
   "outputs": [],
   "source": [
    "driver = webdriver.Chrome('chromedriver_90')\n",
    "\n",
    "url = 'https://search.naver.com/search.naver?query=apple&where=news'\n",
    "driver.get(url)\n",
    "\n",
    "import time\n",
    "time.sleep(3)  # 홈페이지 로딩 시간 3초"
   ]
  },
  {
   "cell_type": "code",
   "execution_count": 3,
   "metadata": {},
   "outputs": [],
   "source": [
    "\n",
    "keyword_multi = ['2021년 봄 패션 트렌드', \n",
    "                 '2021년 여름 패션 트렌드', \n",
    "                 '코로나 검사', \n",
    "                 '코로나 확진자', \n",
    "                 '백신 현황']\n",
    "\n",
    "pages = 30"
   ]
  },
  {
   "cell_type": "code",
   "execution_count": 4,
   "metadata": {},
   "outputs": [],
   "source": [
    "### 뉴스 검색 : //*[@id=\"nx_query\"]\n",
    "### 검색 버튼 : //*[@id=\"lnb.searchForm\"]/fieldset/button"
   ]
  },
  {
   "cell_type": "code",
   "execution_count": 5,
   "metadata": {},
   "outputs": [
    {
     "name": "stdout",
     "output_type": "stream",
     "text": [
      "1\n"
     ]
    },
    {
     "data": {
      "text/plain": [
       "'2021_0702_16'"
      ]
     },
     "execution_count": 5,
     "metadata": {},
     "output_type": "execute_result"
    }
   ],
   "source": [
    "from datetime import datetime\n",
    "\n",
    "now = datetime.now()\n",
    "file_make_time = \"%04d_%02d%02d_%02d\" % (now.year, now.month, now.day, now.hour)\n",
    "print(now.day - 1)\n",
    "now_day = now.day\n",
    "now_hour = now.hour\n",
    "file_make_time"
   ]
  },
  {
   "cell_type": "code",
   "execution_count": 6,
   "metadata": {},
   "outputs": [],
   "source": [
    "import re\n",
    "from datetime import timedelta"
   ]
  },
  {
   "cell_type": "code",
   "execution_count": 7,
   "metadata": {},
   "outputs": [],
   "source": [
    "def date_cal(now_time):\n",
    "    now = datetime.now()\n",
    "\n",
    "    # 시간이 포함되어 있고,\n",
    "    chk_time = now_time.find(\"시간\")\n",
    "    chk_day = now_time.find(\"일\")\n",
    "    if chk_time>=0: \n",
    "        hour = int( re.findall(\"\\d+\", now_time)[0] )\n",
    "        \n",
    "        # 현재 시간 - 적힌 시간이 음수가 나오면 현재 날짜에 -1을 해 준다. \n",
    "        cal_hour = now.hour - hour\n",
    "        # print(cal_hour)\n",
    "        if cal_hour < 0:\n",
    "            news_date = timedelta(days = 1)\n",
    "            cal_now = now - news_date\n",
    "            #print(\"현재 날짜 :\",  cal_now )\n",
    "        else:\n",
    "            news_date = timedelta(days = 0)\n",
    "            cal_now = now - news_date\n",
    "            #print(\"현재 날짜 :\",  cal_now )\n",
    "            \n",
    "        cal_date_time = \"%04d-%02d-%02d\" % (cal_now.year, cal_now.month, cal_now.day)\n",
    "        print(\"뉴스 날짜 : \", cal_date_time)\n",
    "    \n",
    "    # 일이 포함되어 있고,\n",
    "    elif chk_day>=0: \n",
    "        news_day = int( re.findall(\"\\d+\", now_time)[0] )\n",
    "        # print(news_day)\n",
    "        \n",
    "        # 현재 날짜 -1일전을 계산한다.\n",
    "        news_date = timedelta(days = news_day)\n",
    "        cal_now = now - news_date\n",
    "        \n",
    "        cal_date_time = \"%04d-%02d-%02d\" % (cal_now.year, cal_now.month, cal_now.day)\n",
    "        # print(\"뉴스 날짜 : \", cal_date_time)\n",
    "    else:\n",
    "        cal_date_time = now_time\n",
    "    return cal_date_time    "
   ]
  },
  {
   "cell_type": "code",
   "execution_count": 8,
   "metadata": {},
   "outputs": [],
   "source": [
    "# date_cal(\"3일 전\")"
   ]
  },
  {
   "cell_type": "code",
   "execution_count": 9,
   "metadata": {},
   "outputs": [],
   "source": [
    "def keyword_news_n(keyword1, now_time):\n",
    "    now_page_num = 0\n",
    "    all_company1 = []\n",
    "    all_article1 = []\n",
    "    all_link1 = []\n",
    "    all_date1 = []\n",
    "    \n",
    "    for i in range(1,pages,1):\n",
    "        # 페이지 부분 정보 획득\n",
    "        sel_num = driver.find_element_by_class_name(\"sc_page_inner\")\n",
    "        sel_all = sel_num.find_elements_by_class_name(\"btn\")\n",
    "        \n",
    "        # 화면에 보이는 페이지 확인\n",
    "        print(\"현재 페이지 : \", now_page_num+1, \"키워드 : \", keyword1, \"작성시간: \", now_time)\n",
    "        len_all = len(sel_all)\n",
    "        \n",
    "        # 페이지 번호 확인 후, 해당되는 버튼 클릭\n",
    "        for i in range(1, len_all+1 ):\n",
    "            tmp_pre = '//*[@id=\"main_pack\"]/div[2]/div/div/a[' + str(i) + ']'\n",
    "            sel_num = driver.find_element_by_xpath(tmp_pre)\n",
    "            sel_page_num = int(sel_num.text)\n",
    "            if sel_page_num == (now_page_num+1):\n",
    "                # 정보를 가져와서 클릭\n",
    "                # 현재 페이지 입력\n",
    "                sel_num.click()\n",
    "                time.sleep(1)\n",
    "                now_page_num += 1 \n",
    "                print(now_page_num)\n",
    "                break\n",
    "\n",
    "        page = driver.page_source\n",
    "        soup = BeautifulSoup(page, 'html.parser')\n",
    "        all_ul = soup.find(\"ul\", class_=\"list_news\").find_all(\"li\", class_=\"bx\")\n",
    "\n",
    "        for one in all_ul:\n",
    "            # 언론사\n",
    "            com = one.find(\"a\", class_=\"info press\").text\n",
    "            com_a = com.replace(\"언론사 선정\", \"\")\n",
    "\n",
    "            # print(one)\n",
    "            tmp = one.find(\"a\", class_=\"news_tit\")\n",
    "\n",
    "            article_n = tmp.text\n",
    "            tmp_link = tmp.attrs['href']\n",
    "            \n",
    "            # 날짜\n",
    "            date_one = one.find('div', class_='info_group').find(\"span\", class_=\"info\").text\n",
    "            now_dates = date_cal(date_one)  # 날짜 계산\n",
    "            \n",
    "            print(article_n, com_a, now_dates)\n",
    "            print(\"url : \", tmp_link)\n",
    "\n",
    "            all_company1.append(com_a)\n",
    "            all_article1.append(article_n)\n",
    "            all_link1.append(tmp_link)\n",
    "            all_date1.append(now_dates)\n",
    "            \n",
    "        print(len(all_article))\n",
    "    return all_company1, all_article1, all_link1, all_date1"
   ]
  },
  {
   "cell_type": "code",
   "execution_count": 10,
   "metadata": {},
   "outputs": [],
   "source": [
    "import pandas as pd\n",
    "from datetime import datetime\n",
    "import os"
   ]
  },
  {
   "cell_type": "markdown",
   "metadata": {},
   "source": [
    "### 폴더 생성"
   ]
  },
  {
   "cell_type": "code",
   "execution_count": 11,
   "metadata": {},
   "outputs": [
    {
     "name": "stdout",
     "output_type": "stream",
     "text": [
      "folder creating ok\n"
     ]
    }
   ],
   "source": [
    "now = datetime.now()\n",
    "file_make_time = \"%04d_%02d%02d_%02d\" % (now.year, now.month, now.day, now.hour)\n",
    "\n",
    "try:\n",
    "    if not os.path.exists(file_make_time):\n",
    "        os.makedirs(file_make_time)\n",
    "        print(\"folder creating ok\")\n",
    "except OSError:\n",
    "    print(\"Error : Creating directory \", file_make_time)"
   ]
  },
  {
   "cell_type": "code",
   "execution_count": null,
   "metadata": {},
   "outputs": [],
   "source": [
    "now = datetime.now()\n",
    "file_make_time = \"%04d_%02d%02d_%02d\" % (now.year, now.month, now.day, now.hour)\n",
    "\n",
    "all_company = []\n",
    "all_article = []\n",
    "all_link = []\n",
    "all_date = []\n",
    "\n",
    "for one in keyword_multi:\n",
    "    url = 'https://search.naver.com/search.naver?query=' + one + '&where=news'\n",
    "    driver.get(url)\n",
    "    time.sleep(3)\n",
    "    \n",
    "    sel_search = driver.find_element_by_xpath('//*[@id=\"nx_query\"]') \n",
    "    sel_btn = driver.find_element_by_xpath('//*[@id=\"nx_search_form\"]/fieldset/button') \n",
    "    \n",
    "    sel_search.clear()\n",
    "    sel_search.send_keys(one)\n",
    "    sel_btn.click()\n",
    "    \n",
    "    all_company, all_article, all_link, all_date = keyword_news_n(one, \n",
    "                                                                  file_make_time)\n",
    "    \n",
    "    dict_dat = {\"언론사\": all_company, \"기사명\" : all_article, \n",
    "                \"날짜\":all_date, \"URL\":all_link}\n",
    "    \n",
    "    dat = pd.DataFrame(dict_dat)\n",
    "    dat['키워드'] = one\n",
    "    dat.columns = ['키워드', \"언론사\", \"기사명\", \"날짜\", \"URL\"]\n",
    "    \n",
    "    fname_csv = file_make_time + \"/\" + one + \"_\" + file_make_time +\".csv\"\n",
    "    fname_xlsx = file_make_time + \"/\" + one + \"_\" + file_make_time +\".xlsx\"\n",
    "    dat.to_csv(fname_csv, index=False)\n",
    "    dat.to_excel(fname_xlsx, index=False)"
   ]
  },
  {
   "cell_type": "code",
   "execution_count": null,
   "metadata": {},
   "outputs": [],
   "source": []
  },
  {
   "cell_type": "code",
   "execution_count": null,
   "metadata": {},
   "outputs": [],
   "source": []
  },
  {
   "cell_type": "code",
   "execution_count": null,
   "metadata": {},
   "outputs": [],
   "source": []
  },
  {
   "cell_type": "code",
   "execution_count": null,
   "metadata": {},
   "outputs": [],
   "source": []
  }
 ],
 "metadata": {
  "kernelspec": {
   "display_name": "Python 3",
   "language": "python",
   "name": "python3"
  },
  "language_info": {
   "codemirror_mode": {
    "name": "ipython",
    "version": 3
   },
   "file_extension": ".py",
   "mimetype": "text/x-python",
   "name": "python",
   "nbconvert_exporter": "python",
   "pygments_lexer": "ipython3",
   "version": "3.8.5"
  }
 },
 "nbformat": 4,
 "nbformat_minor": 4
}
