{
 "cells": [
  {
   "cell_type": "markdown",
   "metadata": {},
   "source": [
    "## 네이버 댓글 정보 가져와보기"
   ]
  },
  {
   "cell_type": "markdown",
   "metadata": {},
   "source": [
    "### 스파이더맨 영화정보 7페이지 정도 가져오기"
   ]
  },
  {
   "cell_type": "code",
   "execution_count": null,
   "metadata": {},
   "outputs": [],
   "source": [
    "from urllib.request import urlopen\n",
    "from bs4 import BeautifulSoup\n",
    "# import re\n",
    "\n",
    "# pattern = re.compile(r'\\s+')\n",
    "\n",
    "url = 'https://movie.naver.com/movie/point/af/list.nhn?st=mcode&sword=171725&target=after&page=1'\n",
    "page = urlopen(url)\n",
    "soup = BeautifulSoup(page, 'html.parser')\n",
    "\n",
    "sentence = soup.findAll('td', class_='title')\n",
    "# sentence\n",
    "\n",
    "for idx, i in enumerate(sentence):\n",
    "    print(idx+1, i.text.split('\\n')[5])"
   ]
  },
  {
   "cell_type": "markdown",
   "metadata": {},
   "source": [
    "### 5페이지 긁어오기"
   ]
  },
  {
   "cell_type": "code",
   "execution_count": null,
   "metadata": {},
   "outputs": [],
   "source": [
    "from urllib.request import urlopen\n",
    "from bs4 import BeautifulSoup\n",
    "import time\n",
    "\n",
    "url = 'https://movie.naver.com/movie/point/af/list.nhn?st=mcode&sword=171725&target=after&page='\n",
    "comments = []\n",
    "\n",
    "for i in range(1, 6):\n",
    "    total_url = url + str(i)\n",
    "    page = urlopen(total_url)\n",
    "    soup = BeautifulSoup(page, 'html.parser')\n",
    "\n",
    "    sentence = soup.findAll('td', class_='title')\n",
    "    print('<', i, '번째 페이지', '>')\n",
    "    \n",
    "    for idx, k in enumerate(sentence):\n",
    "        comment = k.text.split('\\n')[5]\n",
    "        print(idx+1, comment)\n",
    "        comments.append(comment)\n",
    "        \n",
    "    print()\n",
    "    time.sleep(2)"
   ]
  },
  {
   "cell_type": "code",
   "execution_count": null,
   "metadata": {},
   "outputs": [],
   "source": [
    "import pandas as pd\n",
    "import os\n",
    "\n",
    "dict_doc = {\"text\": comments}\n",
    "\n",
    "doc = pd.DataFrame(dict_doc)\n",
    "doc.to_csv('스파이더맨_리뷰_06_17.csv', index=False)\n",
    "\n",
    "os.listdir(os.getcwd())"
   ]
  },
  {
   "cell_type": "markdown",
   "metadata": {},
   "source": [
    "### 워드 클라우드 시각화"
   ]
  },
  {
   "cell_type": "code",
   "execution_count": null,
   "metadata": {},
   "outputs": [],
   "source": [
    "from wordcloud import WordCloud\n",
    "import numpy as np\n",
    "from PIL import Image"
   ]
  },
  {
   "cell_type": "code",
   "execution_count": null,
   "metadata": {},
   "outputs": [],
   "source": [
    "f = open('스파이더맨_리뷰_06_17.csv', encoding='utf-8')\n",
    "text = f.read()\n",
    "f.close()"
   ]
  },
  {
   "cell_type": "code",
   "execution_count": null,
   "metadata": {},
   "outputs": [],
   "source": [
    "from matplotlib import rc\n",
    "rc('font', family='NanumGothic')"
   ]
  },
  {
   "cell_type": "code",
   "execution_count": null,
   "metadata": {},
   "outputs": [],
   "source": [
    "wcloud = WordCloud('./data/D2Coding-Ver1.3.2-20180524.ttf', max_words=1000, \n",
    "                  relative_scaling = 0.2).generate(text)\n",
    "\n",
    "import matplotlib.pyplot as plt\n",
    "plt.figure(figsize=(12, 12))\n",
    "plt.imshow(wcloud, interpolation='bilinear')\n",
    "plt.axis('off')"
   ]
  },
  {
   "cell_type": "markdown",
   "metadata": {},
   "source": [
    "### 오늘의 실습\n",
    "01. 영화를 하나 정해서 리뷰를 50페이지 정도 가지고와서 csv파일에 내용을 저장한다.\n",
    "02. 해당 csv파일을 불러와 워드 클라우드 시각화를 실행한다.\n",
    "03. slack에 한 내용(capture)을 공유한다.\n",
    "04. 구글드라이브 체크"
   ]
  },
  {
   "cell_type": "code",
   "execution_count": null,
   "metadata": {},
   "outputs": [],
   "source": [
    "from urllib.request import urlopen\n",
    "from bs4 import BeautifulSoup\n",
    "import time\n",
    "\n",
    "url = 'https://movie.naver.com/movie/point/af/list.nhn?st=mcode&sword=181711&target=&page='\n",
    "comments = []\n",
    "\n",
    "for i in range(1, 51):\n",
    "    total_url = url + str(i)\n",
    "    page = urlopen(total_url)\n",
    "    soup = BeautifulSoup(page, 'html.parser')\n",
    "\n",
    "    sentence = soup.findAll('td', class_='title')\n",
    "    print('<', i, '번째 페이지', '>')\n",
    "    \n",
    "    for idx, k in enumerate(sentence):\n",
    "        comment = k.text.split('\\n')[5]\n",
    "#         print(idx+1, comment)\n",
    "        comments.append(comment)\n",
    "        \n",
    "    print()\n",
    "    time.sleep(1)"
   ]
  },
  {
   "cell_type": "code",
   "execution_count": null,
   "metadata": {},
   "outputs": [],
   "source": [
    "import pandas as pd\n",
    "import os\n",
    "\n",
    "dict_doc = {\"text\": comments}\n",
    "\n",
    "doc = pd.DataFrame(dict_doc)\n",
    "doc.to_csv('달리스바이어스클럽_리뷰_06_17.csv', index=False)\n",
    "\n",
    "os.listdir(os.getcwd())"
   ]
  },
  {
   "cell_type": "code",
   "execution_count": null,
   "metadata": {},
   "outputs": [],
   "source": [
    "from wordcloud import WordCloud\n",
    "import numpy as np\n",
    "from PIL import Image\n",
    "\n",
    "f = open('달라스바이어스클럽_리뷰_06_17.csv', encoding='utf-8')\n",
    "text = f.read()\n",
    "f.close()"
   ]
  },
  {
   "cell_type": "code",
   "execution_count": null,
   "metadata": {},
   "outputs": [],
   "source": [
    "from matplotlib import rc\n",
    "rc('font', family='NanumGothic')\n",
    "\n",
    "wcloud = WordCloud('./data/D2Coding-Ver1.3.2-20180524.ttf', max_words=1000, \n",
    "                  stopwords=['진짜', '정말', '그', '너무', '그리고', '수', \n",
    "                            '연기가', '연기에', '연기를', '연기는', '영화가', '영화를',  \n",
    "                            '더', '이', '다', '잘', '내가', '본', '없다', \n",
    "                            '있는', '것'], \n",
    "                   relative_scaling = 0.2).generate(text)\n",
    "\n",
    "import matplotlib.pyplot as plt\n",
    "plt.figure(figsize=(12, 12))\n",
    "plt.imshow(wcloud, interpolation='bilinear')\n",
    "plt.axis('off')"
   ]
  },
  {
   "cell_type": "markdown",
   "metadata": {},
   "source": [
    "### 네이버 영화 리스트, 평점, 예매율, 감독 정보 긁어오기"
   ]
  },
  {
   "cell_type": "code",
   "execution_count": null,
   "metadata": {},
   "outputs": [],
   "source": [
    "total_movie = []\n",
    "total_score = []\n",
    "total_pop = []\n",
    "total_rate = []\n",
    "total_direc = []\n",
    "cnt_num = 0\n",
    "\n",
    "A = soup.find('div', class_='lst_wrap')\n",
    "\n",
    "Movie = A.findAll('img')\n",
    "for i in Movie:\n",
    "    total_movie.append(i.get('alt'))\n",
    "#     print(i.get('alt'))\n",
    "\n",
    "Score = A.findAll('span', class_='num')\n",
    "\n",
    "for j in range(len(Score)):\n",
    "    if j % 2 == 0:\n",
    "        total_score.append(Score[j].text)\n",
    "    else:\n",
    "        total_rate.append(Score[j].text)\n",
    "        cnt_num += 1\n",
    "        if cnt_num == 127:\n",
    "            break\n",
    "for a in range(6):\n",
    "    total_rate.append('0')\n",
    "for b in range(254, 260):\n",
    "    total_score.append(Score[b].text)\n",
    "        \n",
    "Pop = A.findAll('span', class_='num2')\n",
    "for pop_ in Pop:\n",
    "    total_pop.append(pop_.text)\n",
    "\n",
    "    \n",
    "Direc = A.findAll('dt', class_='tit_t2')\n",
    "for direc in Direc:\n",
    "    direc = direc.find_next().find('a').text\n",
    "    total_direc.append(direc)\n",
    "#     print(direc)\n",
    "    \n",
    "\n",
    "dat = {'제목':total_movie, '평점':total_score, '참여 인원':total_pop , \n",
    "       '예매율':total_rate, '감독':total_direc }\n",
    "\n",
    "dat = pd.DataFrame(dat)\n",
    "dat\n",
    "\n",
    "# print(total_movie)\n",
    "# print(total_score)\n",
    "# print(total_pop)\n",
    "# print(total_rate)\n",
    "# print(total_direc)\n",
    "\n",
    "# print(len(total_movie))\n",
    "# print(len(total_score))\n",
    "# print(len(total_pop))\n",
    "# print(len(total_rate))\n",
    "# print(len(total_direc))"
   ]
  },
  {
   "cell_type": "code",
   "execution_count": null,
   "metadata": {},
   "outputs": [],
   "source": [
    "dat.to_csv(\"네이버 영화 정보.csv\", index=False)\n",
    "\n",
    "## 확인\n",
    "import os\n",
    "print(os.getcwd())  # 현재 위치\n",
    "print(os.listdir(os.getcwd()))"
   ]
  },
  {
   "cell_type": "code",
   "execution_count": null,
   "metadata": {},
   "outputs": [],
   "source": []
  }
 ],
 "metadata": {
  "kernelspec": {
   "display_name": "Python 3",
   "language": "python",
   "name": "python3"
  },
  "language_info": {
   "codemirror_mode": {
    "name": "ipython",
    "version": 3
   },
   "file_extension": ".py",
   "mimetype": "text/x-python",
   "name": "python",
   "nbconvert_exporter": "python",
   "pygments_lexer": "ipython3",
   "version": "3.8.5"
  }
 },
 "nbformat": 4,
 "nbformat_minor": 4
}
