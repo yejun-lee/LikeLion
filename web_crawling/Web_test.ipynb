{
 "cells": [
  {
   "cell_type": "markdown",
   "metadata": {},
   "source": [
    "### 개봉 예정 작 제목 가져오기"
   ]
  },
  {
   "cell_type": "code",
   "execution_count": 1,
   "metadata": {},
   "outputs": [
    {
     "data": {
      "text/plain": [
       "'2046'"
      ]
     },
     "execution_count": 1,
     "metadata": {},
     "output_type": "execute_result"
    }
   ],
   "source": [
    "from urllib.request import urlopen\n",
    "from bs4 import BeautifulSoup\n",
    "\n",
    "url = 'https://movie.naver.com/movie/running/premovie.nhn'\n",
    "page = urlopen(url)\n",
    "soup = BeautifulSoup(page, 'lxml')\n",
    "\n",
    "soup.find('div', class_='thumb').img.get('alt')"
   ]
  },
  {
   "cell_type": "markdown",
   "metadata": {},
   "source": [
    "### 개봉 예정 작 전체 제목 가져오기"
   ]
  },
  {
   "cell_type": "code",
   "execution_count": 4,
   "metadata": {},
   "outputs": [
    {
     "name": "stdout",
     "output_type": "stream",
     "text": [
      "['2046', '킬러의 보디가드 2', '발신제한', '메이드 인 루프탑', '데이팅 앰버', '흩어진 밤', '뱅퀴시', '식물카페, 온정', '신해석 삼국지', '크레센도', '북샵', '진삼국무쌍', '아사다 가족', '미드나이트', '우리는 매일매일', '괴기맨숀', '다크 앤드 위키드', '더 배니싱', '레일로드 워', '블라이스 스피릿', '빛나는 순간', '열아홉', '웬디', '이보다 더 좋을 순 없다', '인 더 하이츠', '저승보다 낯선', '좀비크러쉬: 헤이리', '체르노빌 1986', '기적', '암살자들', '켈리 갱', '매직아치', '시카다 3301', '아이윌 송', '블랙 위도우', '미션 임파서블: 루벤', '트립 투 그리스', '꽃다발 같은 사랑을 했다', '더 퍼지: 포에버', '오필리아', '이스케이프 룸 2: 노 웨이 아웃', '와인 패밀리', '죽어도 좋은 경험', '극장판 짱구는 못말려: 격돌! 낙서왕국과 얼추 네 명의 용사들', '나는 나대로 혼자서 간다', '나만 보이니', '더 나이트', '랑종', '스페이스 잼: 새로운 시대', '액션히어로', '옥스포드 살인사건', '워스', '은혼 더 파이널', '이번엔 잘 되겠지', '정글 크루즈', '페이블', '피어 오브 레인', '호스트: 접속금지', '베놈 2: 렛 데어 비 카니지', '007 노 타임 투 다이', '웨스트 사이드 스토리', '모비우스', '쥬라기 월드: 도미니언', '미니언즈2']\n"
     ]
    }
   ],
   "source": [
    "all_title = soup.find('div', class_='obj_section').findAll('dt', class_='tit')\n",
    "title_list = []\n",
    "\n",
    "for title in all_title:\n",
    "#     print(title.a.text)\n",
    "    title_list.append(title.a.text)\n",
    "    \n",
    "print(title_list)"
   ]
  },
  {
   "cell_type": "code",
   "execution_count": null,
   "metadata": {},
   "outputs": [],
   "source": []
  }
 ],
 "metadata": {
  "kernelspec": {
   "display_name": "Python 3",
   "language": "python",
   "name": "python3"
  },
  "language_info": {
   "codemirror_mode": {
    "name": "ipython",
    "version": 3
   },
   "file_extension": ".py",
   "mimetype": "text/x-python",
   "name": "python",
   "nbconvert_exporter": "python",
   "pygments_lexer": "ipython3",
   "version": "3.8.5"
  }
 },
 "nbformat": 4,
 "nbformat_minor": 4
}
