{
 "cells": [
  {
   "cell_type": "markdown",
   "metadata": {},
   "source": [
    "### 네이버 영화 제목 추출"
   ]
  },
  {
   "cell_type": "code",
   "execution_count": null,
   "metadata": {},
   "outputs": [],
   "source": [
    "from urllib.request import urlopen\n",
    "from bs4 import BeautifulSoup\n",
    "from selenium import webdriver\n",
    "\n",
    "url = 'https://movie.naver.com/movie/running/premovie.nhn'\n",
    "page = urlopen(url)\n",
    "soup = BeautifulSoup(page, 'lxml')\n",
    "\n",
    "soup.find('div', class_='thumb').img.get('alt')"
   ]
  },
  {
   "cell_type": "code",
   "execution_count": null,
   "metadata": {},
   "outputs": [],
   "source": [
    "url = 'https://pythonstart.github.io/web'\n",
    "driver.get(url)\n",
    "\n",
    "page = driver.page_source\n",
    "soup = BeautifulSoup(page, 'lxml')\n",
    "all_link = soup.findAll('a')\n",
    "\n",
    "for one in all_link:\n",
    "    print(one.text)\n",
    "    \n",
    "    if one.get('href')[0] == '.':\n",
    "        print(url+one.get('href')[1:])\n",
    "    else:\n",
    "        print(one.get('href'))   \n",
    "    print()"
   ]
  },
  {
   "cell_type": "markdown",
   "metadata": {},
   "source": [
    "- selenium은 목표로 하는 여러 요소나 한 요소를 특정한 parameter를 기준으로 정보를 crawling 할 수 있게 해준다.\n",
    "``` python\n",
    "driver.find_element..\n",
    "driver.find_elements..\n",
    "```\n",
    "```python\n",
    ".. by_tag_name : 태그이름으로 가져온다.\n",
    ".. by_link_list : link text로 가져온다.\n",
    ".. by_name : name 속성으로 가져온다.\n",
    ".. by_selector : selector를 이용해서 가져온다. (body태그 > ul > a태그)\n",
    ".. by_partial_link_text : 부분적인 link text로 가져온다.\n",
    ".. by_xpath : xpath로 가져온다.\n",
    "```"
   ]
  },
  {
   "cell_type": "code",
   "execution_count": null,
   "metadata": {},
   "outputs": [],
   "source": [
    "from urllib.request import urlopen\n",
    "from bs4 import BeautifulSoup\n",
    "from selenium import webdriver\n",
    "\n",
    "driver = webdriver.Chrome('chromedriver_90')\n",
    "\n",
    "url_1 = 'https://pythonstart.github.io/web/02.html'\n",
    "url_2 = 'https://pythonstart.github.io/web/03.html'\n",
    "\n",
    "driver.get(url_1)\n",
    "list_2 = driver.find_elements_by_tag_name('p')\n",
    "for one in list_2:\n",
    "    print(one.text)\n",
    "\n",
    "print()\n",
    "    \n",
    "driver.get(url_2)\n",
    "list_3 = driver.find_elements_by_xpath('//a[@href]')\n",
    "for two in list_3:\n",
    "    print(two.text, ':', two.get_attribute('href'))"
   ]
  },
  {
   "cell_type": "code",
   "execution_count": null,
   "metadata": {},
   "outputs": [],
   "source": []
  }
 ],
 "metadata": {
  "kernelspec": {
   "display_name": "Python 3",
   "language": "python",
   "name": "python3"
  },
  "language_info": {
   "codemirror_mode": {
    "name": "ipython",
    "version": 3
   },
   "file_extension": ".py",
   "mimetype": "text/x-python",
   "name": "python",
   "nbconvert_exporter": "python",
   "pygments_lexer": "ipython3",
   "version": "3.8.5"
  }
 },
 "nbformat": 4,
 "nbformat_minor": 4
}
