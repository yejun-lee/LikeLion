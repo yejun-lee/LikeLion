{
 "cells": [
  {
   "cell_type": "code",
   "execution_count": 1,
   "id": "olympic-michael",
   "metadata": {
    "_cell_guid": "b1076dfc-b9ad-4769-8c92-a6c4dae69d19",
    "_uuid": "8f2839f25d086af736a60e9eeb907d3b93b6e0e5",
    "execution": {
     "iopub.execute_input": "2021-07-06T05:28:01.451318Z",
     "iopub.status.busy": "2021-07-06T05:28:01.450123Z",
     "iopub.status.idle": "2021-07-06T05:28:01.465598Z",
     "shell.execute_reply": "2021-07-06T05:28:01.464135Z",
     "shell.execute_reply.started": "2021-07-06T05:24:53.317973Z"
    },
    "papermill": {
     "duration": 0.063493,
     "end_time": "2021-07-06T05:28:01.465920",
     "exception": false,
     "start_time": "2021-07-06T05:28:01.402427",
     "status": "completed"
    },
    "tags": []
   },
   "outputs": [
    {
     "name": "stdout",
     "output_type": "stream",
     "text": [
      "/kaggle/input/titanic/train.csv\n",
      "/kaggle/input/titanic/test.csv\n",
      "/kaggle/input/titanic/gender_submission.csv\n"
     ]
    }
   ],
   "source": [
    "import numpy as np # linear algebra\n",
    "import pandas as pd # data processing, CSV file I/O (e.g. pd.read_csv)\n",
    "import os\n",
    "for dirname, _, filenames in os.walk('/kaggle/input'):\n",
    "    for filename in filenames:\n",
    "        print(os.path.join(dirname, filename))"
   ]
  },
  {
   "cell_type": "code",
   "execution_count": 2,
   "id": "strange-haven",
   "metadata": {
    "execution": {
     "iopub.execute_input": "2021-07-06T05:28:01.562122Z",
     "iopub.status.busy": "2021-07-06T05:28:01.561367Z",
     "iopub.status.idle": "2021-07-06T05:28:01.593037Z",
     "shell.execute_reply": "2021-07-06T05:28:01.593540Z",
     "shell.execute_reply.started": "2021-07-06T05:24:53.330429Z"
    },
    "papermill": {
     "duration": 0.082325,
     "end_time": "2021-07-06T05:28:01.593760",
     "exception": false,
     "start_time": "2021-07-06T05:28:01.511435",
     "status": "completed"
    },
    "tags": []
   },
   "outputs": [
    {
     "data": {
      "text/plain": [
       "((891, 12), (418, 11))"
      ]
     },
     "execution_count": 2,
     "metadata": {},
     "output_type": "execute_result"
    }
   ],
   "source": [
    "train = pd.read_csv('/kaggle/input/titanic/train.csv')\n",
    "test = pd.read_csv('/kaggle/input/titanic/test.csv')\n",
    "\n",
    "train.shape, test.shape"
   ]
  },
  {
   "cell_type": "code",
   "execution_count": 3,
   "id": "short-trout",
   "metadata": {
    "execution": {
     "iopub.execute_input": "2021-07-06T05:28:01.696102Z",
     "iopub.status.busy": "2021-07-06T05:28:01.695063Z",
     "iopub.status.idle": "2021-07-06T05:28:01.698863Z",
     "shell.execute_reply": "2021-07-06T05:28:01.699608Z",
     "shell.execute_reply.started": "2021-07-06T05:24:53.356324Z"
    },
    "papermill": {
     "duration": 0.062781,
     "end_time": "2021-07-06T05:28:01.699908",
     "exception": false,
     "start_time": "2021-07-06T05:28:01.637127",
     "status": "completed"
    },
    "tags": []
   },
   "outputs": [
    {
     "data": {
      "text/plain": [
       "(Index(['PassengerId', 'Survived', 'Pclass', 'Name', 'Sex', 'Age', 'SibSp',\n",
       "        'Parch', 'Ticket', 'Fare', 'Cabin', 'Embarked'],\n",
       "       dtype='object'),\n",
       " Index(['PassengerId', 'Pclass', 'Name', 'Sex', 'Age', 'SibSp', 'Parch',\n",
       "        'Ticket', 'Fare', 'Cabin', 'Embarked'],\n",
       "       dtype='object'))"
      ]
     },
     "execution_count": 3,
     "metadata": {},
     "output_type": "execute_result"
    }
   ],
   "source": [
    "train.columns, test.columns"
   ]
  },
  {
   "cell_type": "code",
   "execution_count": 4,
   "id": "relative-lawrence",
   "metadata": {
    "execution": {
     "iopub.execute_input": "2021-07-06T05:28:01.815534Z",
     "iopub.status.busy": "2021-07-06T05:28:01.814519Z",
     "iopub.status.idle": "2021-07-06T05:28:03.439502Z",
     "shell.execute_reply": "2021-07-06T05:28:03.438919Z",
     "shell.execute_reply.started": "2021-07-06T05:24:53.366579Z"
    },
    "papermill": {
     "duration": 1.67927,
     "end_time": "2021-07-06T05:28:03.439678",
     "exception": false,
     "start_time": "2021-07-06T05:28:01.760408",
     "status": "completed"
    },
    "tags": []
   },
   "outputs": [],
   "source": [
    "import seaborn as sns\n",
    "\n",
    "anscombe = sns.load_dataset('anscombe')"
   ]
  },
  {
   "cell_type": "code",
   "execution_count": 5,
   "id": "worth-efficiency",
   "metadata": {
    "execution": {
     "iopub.execute_input": "2021-07-06T05:28:03.555959Z",
     "iopub.status.busy": "2021-07-06T05:28:03.555156Z",
     "iopub.status.idle": "2021-07-06T05:28:03.558518Z",
     "shell.execute_reply": "2021-07-06T05:28:03.559365Z",
     "shell.execute_reply.started": "2021-07-06T05:24:53.386578Z"
    },
    "papermill": {
     "duration": 0.074707,
     "end_time": "2021-07-06T05:28:03.559620",
     "exception": false,
     "start_time": "2021-07-06T05:28:03.484913",
     "status": "completed"
    },
    "tags": []
   },
   "outputs": [
    {
     "name": "stdout",
     "output_type": "stream",
     "text": [
      "<class 'pandas.core.frame.DataFrame'>\n",
      "RangeIndex: 44 entries, 0 to 43\n",
      "Data columns (total 3 columns):\n",
      " #   Column   Non-Null Count  Dtype  \n",
      "---  ------   --------------  -----  \n",
      " 0   dataset  44 non-null     object \n",
      " 1   x        44 non-null     float64\n",
      " 2   y        44 non-null     float64\n",
      "dtypes: float64(2), object(1)\n",
      "memory usage: 1.2+ KB\n"
     ]
    }
   ],
   "source": [
    "anscombe.info()"
   ]
  },
  {
   "cell_type": "code",
   "execution_count": 6,
   "id": "collect-postage",
   "metadata": {
    "execution": {
     "iopub.execute_input": "2021-07-06T05:28:03.656890Z",
     "iopub.status.busy": "2021-07-06T05:28:03.655875Z",
     "iopub.status.idle": "2021-07-06T05:28:03.660566Z",
     "shell.execute_reply": "2021-07-06T05:28:03.659937Z",
     "shell.execute_reply.started": "2021-07-06T05:24:53.409381Z"
    },
    "papermill": {
     "duration": 0.056098,
     "end_time": "2021-07-06T05:28:03.660743",
     "exception": false,
     "start_time": "2021-07-06T05:28:03.604645",
     "status": "completed"
    },
    "tags": []
   },
   "outputs": [
    {
     "data": {
      "text/plain": [
       "III    11\n",
       "II     11\n",
       "I      11\n",
       "IV     11\n",
       "Name: dataset, dtype: int64"
      ]
     },
     "execution_count": 6,
     "metadata": {},
     "output_type": "execute_result"
    }
   ],
   "source": [
    "anscombe.dataset.value_counts()"
   ]
  },
  {
   "cell_type": "code",
   "execution_count": 7,
   "id": "presidential-determination",
   "metadata": {
    "execution": {
     "iopub.execute_input": "2021-07-06T05:28:03.757336Z",
     "iopub.status.busy": "2021-07-06T05:28:03.756323Z",
     "iopub.status.idle": "2021-07-06T05:28:03.760181Z",
     "shell.execute_reply": "2021-07-06T05:28:03.759561Z",
     "shell.execute_reply.started": "2021-07-06T05:24:53.42695Z"
    },
    "papermill": {
     "duration": 0.05495,
     "end_time": "2021-07-06T05:28:03.760349",
     "exception": false,
     "start_time": "2021-07-06T05:28:03.705399",
     "status": "completed"
    },
    "tags": []
   },
   "outputs": [],
   "source": [
    "import matplotlib.pyplot as plt"
   ]
  },
  {
   "cell_type": "code",
   "execution_count": 8,
   "id": "insured-straight",
   "metadata": {
    "execution": {
     "iopub.execute_input": "2021-07-06T05:28:03.869984Z",
     "iopub.status.busy": "2021-07-06T05:28:03.869268Z",
     "iopub.status.idle": "2021-07-06T05:28:04.034262Z",
     "shell.execute_reply": "2021-07-06T05:28:04.033506Z",
     "shell.execute_reply.started": "2021-07-06T05:24:53.436418Z"
    },
    "papermill": {
     "duration": 0.229678,
     "end_time": "2021-07-06T05:28:04.034439",
     "exception": false,
     "start_time": "2021-07-06T05:28:03.804761",
     "status": "completed"
    },
    "tags": []
   },
   "outputs": [
    {
     "data": {
      "text/plain": [
       "(array([ 1.,  3.,  6.,  7.,  9., 11.,  3.,  1.,  1.,  2.]),\n",
       " array([ 3.1  ,  4.064,  5.028,  5.992,  6.956,  7.92 ,  8.884,  9.848,\n",
       "        10.812, 11.776, 12.74 ]),\n",
       " <BarContainer object of 10 artists>)"
      ]
     },
     "execution_count": 8,
     "metadata": {},
     "output_type": "execute_result"
    },
    {
     "data": {
      "image/png": "[encoded data removed]",
      "text/plain": [
       "<Figure size 432x288 with 1 Axes>"
      ]
     },
     "metadata": {
      "needs_background": "light"
     },
     "output_type": "display_data"
    }
   ],
   "source": [
    "plt.hist(anscombe['y'])"
   ]
  },
  {
   "cell_type": "code",
   "execution_count": 9,
   "id": "sudden-juice",
   "metadata": {
    "execution": {
     "iopub.execute_input": "2021-07-06T05:28:04.153375Z",
     "iopub.status.busy": "2021-07-06T05:28:04.152598Z",
     "iopub.status.idle": "2021-07-06T05:28:05.006177Z",
     "shell.execute_reply": "2021-07-06T05:28:05.005572Z",
     "shell.execute_reply.started": "2021-07-06T05:24:53.635935Z"
    },
    "papermill": {
     "duration": 0.925099,
     "end_time": "2021-07-06T05:28:05.006341",
     "exception": false,
     "start_time": "2021-07-06T05:28:04.081242",
     "status": "completed"
    },
    "tags": []
   },
   "outputs": [
    {
     "data": {
      "image/png": "[encoded data removed]",
      "text/plain": [
       "<Figure size 405.75x360 with 1 Axes>"
      ]
     },
     "metadata": {
      "needs_background": "light"
     },
     "output_type": "display_data"
    }
   ],
   "source": [
    "anscomb_plot = sns.lmplot(x='x', y='y', data=anscombe, hue='dataset')"
   ]
  },
  {
   "cell_type": "code",
   "execution_count": 10,
   "id": "seasonal-bibliography",
   "metadata": {
    "execution": {
     "iopub.execute_input": "2021-07-06T05:28:05.109929Z",
     "iopub.status.busy": "2021-07-06T05:28:05.109172Z",
     "iopub.status.idle": "2021-07-06T05:28:05.825495Z",
     "shell.execute_reply": "2021-07-06T05:28:05.824792Z",
     "shell.execute_reply.started": "2021-07-06T05:24:54.536903Z"
    },
    "papermill": {
     "duration": 0.771968,
     "end_time": "2021-07-06T05:28:05.825663",
     "exception": false,
     "start_time": "2021-07-06T05:28:05.053695",
     "status": "completed"
    },
    "tags": []
   },
   "outputs": [
    {
     "data": {
      "text/plain": [
       "<seaborn.axisgrid.FacetGrid at 0x7fcd01c43f90>"
      ]
     },
     "execution_count": 10,
     "metadata": {},
     "output_type": "execute_result"
    },
    {
     "data": {
      "image/png": "[encoded data removed]",
      "text/plain": [
       "<Figure size 411.875x360 with 1 Axes>"
      ]
     },
     "metadata": {
      "needs_background": "light"
     },
     "output_type": "display_data"
    }
   ],
   "source": [
    "### 실습 1-4 Age, Fare lmplot을 그려보자, 생존자(생존, 사망) 구분\n",
    "\n",
    "sns.lmplot(x='Age', y='Fare', data=train, hue='Survived')\n",
    "\n",
    "# outlier 발견"
   ]
  },
  {
   "cell_type": "code",
   "execution_count": 11,
   "id": "duplicate-element",
   "metadata": {
    "execution": {
     "iopub.execute_input": "2021-07-06T05:28:05.935501Z",
     "iopub.status.busy": "2021-07-06T05:28:05.934379Z",
     "iopub.status.idle": "2021-07-06T05:28:05.955354Z",
     "shell.execute_reply": "2021-07-06T05:28:05.955874Z",
     "shell.execute_reply.started": "2021-07-06T05:24:55.1652Z"
    },
    "papermill": {
     "duration": 0.081019,
     "end_time": "2021-07-06T05:28:05.956099",
     "exception": false,
     "start_time": "2021-07-06T05:28:05.875080",
     "status": "completed"
    },
    "tags": []
   },
   "outputs": [
    {
     "data": {
      "text/html": [
       "<div>\n",
       "<style scoped>\n",
       "    .dataframe tbody tr th:only-of-type {\n",
       "        vertical-align: middle;\n",
       "    }\n",
       "\n",
       "    .dataframe tbody tr th {\n",
       "        vertical-align: top;\n",
       "    }\n",
       "\n",
       "    .dataframe thead th {\n",
       "        text-align: right;\n",
       "    }\n",
       "</style>\n",
       "<table border=\"1\" class=\"dataframe\">\n",
       "  <thead>\n",
       "    <tr style=\"text-align: right;\">\n",
       "      <th></th>\n",
       "      <th>PassengerId</th>\n",
       "      <th>Survived</th>\n",
       "      <th>Pclass</th>\n",
       "      <th>Name</th>\n",
       "      <th>Sex</th>\n",
       "      <th>Age</th>\n",
       "      <th>SibSp</th>\n",
       "      <th>Parch</th>\n",
       "      <th>Ticket</th>\n",
       "      <th>Fare</th>\n",
       "      <th>Cabin</th>\n",
       "      <th>Embarked</th>\n",
       "    </tr>\n",
       "  </thead>\n",
       "  <tbody>\n",
       "    <tr>\n",
       "      <th>258</th>\n",
       "      <td>259</td>\n",
       "      <td>1</td>\n",
       "      <td>1</td>\n",
       "      <td>Ward, Miss. Anna</td>\n",
       "      <td>female</td>\n",
       "      <td>35.0</td>\n",
       "      <td>0</td>\n",
       "      <td>0</td>\n",
       "      <td>PC 17755</td>\n",
       "      <td>512.3292</td>\n",
       "      <td>NaN</td>\n",
       "      <td>C</td>\n",
       "    </tr>\n",
       "    <tr>\n",
       "      <th>679</th>\n",
       "      <td>680</td>\n",
       "      <td>1</td>\n",
       "      <td>1</td>\n",
       "      <td>Cardeza, Mr. Thomas Drake Martinez</td>\n",
       "      <td>male</td>\n",
       "      <td>36.0</td>\n",
       "      <td>0</td>\n",
       "      <td>1</td>\n",
       "      <td>PC 17755</td>\n",
       "      <td>512.3292</td>\n",
       "      <td>B51 B53 B55</td>\n",
       "      <td>C</td>\n",
       "    </tr>\n",
       "    <tr>\n",
       "      <th>737</th>\n",
       "      <td>738</td>\n",
       "      <td>1</td>\n",
       "      <td>1</td>\n",
       "      <td>Lesurer, Mr. Gustave J</td>\n",
       "      <td>male</td>\n",
       "      <td>35.0</td>\n",
       "      <td>0</td>\n",
       "      <td>0</td>\n",
       "      <td>PC 17755</td>\n",
       "      <td>512.3292</td>\n",
       "      <td>B101</td>\n",
       "      <td>C</td>\n",
       "    </tr>\n",
       "  </tbody>\n",
       "</table>\n",
       "</div>"
      ],
      "text/plain": [
       "     PassengerId  Survived  Pclass                                Name  \\\n",
       "258          259         1       1                    Ward, Miss. Anna   \n",
       "679          680         1       1  Cardeza, Mr. Thomas Drake Martinez   \n",
       "737          738         1       1              Lesurer, Mr. Gustave J   \n",
       "\n",
       "        Sex   Age  SibSp  Parch    Ticket      Fare        Cabin Embarked  \n",
       "258  female  35.0      0      0  PC 17755  512.3292          NaN        C  \n",
       "679    male  36.0      0      1  PC 17755  512.3292  B51 B53 B55        C  \n",
       "737    male  35.0      0      0  PC 17755  512.3292         B101        C  "
      ]
     },
     "execution_count": 11,
     "metadata": {},
     "output_type": "execute_result"
    }
   ],
   "source": [
    "train[train['Fare']>500]"
   ]
  },
  {
   "cell_type": "code",
   "execution_count": 12,
   "id": "neither-dynamics",
   "metadata": {
    "execution": {
     "iopub.execute_input": "2021-07-06T05:28:06.063972Z",
     "iopub.status.busy": "2021-07-06T05:28:06.063169Z",
     "iopub.status.idle": "2021-07-06T05:28:06.793926Z",
     "shell.execute_reply": "2021-07-06T05:28:06.793264Z",
     "shell.execute_reply.started": "2021-07-06T05:24:55.185675Z"
    },
    "papermill": {
     "duration": 0.788626,
     "end_time": "2021-07-06T05:28:06.794097",
     "exception": false,
     "start_time": "2021-07-06T05:28:06.005471",
     "status": "completed"
    },
    "tags": []
   },
   "outputs": [
    {
     "data": {
      "text/plain": [
       "<AxesSubplot:xlabel='Pclass', ylabel='Fare'>"
      ]
     },
     "execution_count": 12,
     "metadata": {},
     "output_type": "execute_result"
    },
    {
     "data": {
      "image/png": "[encoded data removed]",
      "text/plain": [
       "<Figure size 864x432 with 2 Axes>"
      ]
     },
     "metadata": {
      "needs_background": "light"
     },
     "output_type": "display_data"
    }
   ],
   "source": [
    "Cabin_na = train[train['Cabin'].isnull()]\n",
    "Cabin_notna = train[train['Cabin'].notna()]\n",
    "\n",
    "plt.figure(figsize=(12,6))\n",
    "\n",
    "plt.subplot(1,2,1)\n",
    "sns.barplot(x='Pclass', y='Fare', hue='Survived', data=Cabin_na)\n",
    "\n",
    "plt.subplot(1,2,2)\n",
    "sns.barplot(x='Pclass', y='Fare', hue='Survived', data=Cabin_notna)"
   ]
  },
  {
   "cell_type": "code",
   "execution_count": 13,
   "id": "olive-correlation",
   "metadata": {
    "execution": {
     "iopub.execute_input": "2021-07-06T05:28:06.897901Z",
     "iopub.status.busy": "2021-07-06T05:28:06.897207Z",
     "iopub.status.idle": "2021-07-06T05:28:08.663172Z",
     "shell.execute_reply": "2021-07-06T05:28:08.663711Z",
     "shell.execute_reply.started": "2021-07-06T05:24:55.895569Z"
    },
    "papermill": {
     "duration": 1.820557,
     "end_time": "2021-07-06T05:28:08.663946",
     "exception": false,
     "start_time": "2021-07-06T05:28:06.843389",
     "status": "completed"
    },
    "tags": []
   },
   "outputs": [
    {
     "data": {
      "text/plain": [
       "<seaborn.axisgrid.FacetGrid at 0x7fccff738b10>"
      ]
     },
     "execution_count": 13,
     "metadata": {},
     "output_type": "execute_result"
    },
    {
     "data": {
      "image/png": "[encoded data removed]",
      "text/plain": [
       "<Figure size 1131.88x360 with 3 Axes>"
      ]
     },
     "metadata": {
      "needs_background": "light"
     },
     "output_type": "display_data"
    }
   ],
   "source": [
    "sns.lmplot(x='Age', y='Parch', data=train,\n",
    "                           hue='Survived',\n",
    "                           col='Pclass', col_wrap=3)   # col_wrap = 한 행에 몇 개까지 출력?"
   ]
  },
  {
   "cell_type": "code",
   "execution_count": 14,
   "id": "heard-latin",
   "metadata": {
    "execution": {
     "iopub.execute_input": "2021-07-06T05:28:08.776327Z",
     "iopub.status.busy": "2021-07-06T05:28:08.775550Z",
     "iopub.status.idle": "2021-07-06T05:28:10.370694Z",
     "shell.execute_reply": "2021-07-06T05:28:10.370049Z",
     "shell.execute_reply.started": "2021-07-06T05:24:57.465205Z"
    },
    "papermill": {
     "duration": 1.654518,
     "end_time": "2021-07-06T05:28:10.370910",
     "exception": false,
     "start_time": "2021-07-06T05:28:08.716392",
     "status": "completed"
    },
    "tags": []
   },
   "outputs": [
    {
     "data": {
      "text/plain": [
       "<seaborn.axisgrid.FacetGrid at 0x7fccff83a4d0>"
      ]
     },
     "execution_count": 14,
     "metadata": {},
     "output_type": "execute_result"
    },
    {
     "data": {
      "image/png": "[encoded data removed]",
      "text/plain": [
       "<Figure size 1131.88x360 with 3 Axes>"
      ]
     },
     "metadata": {
      "needs_background": "light"
     },
     "output_type": "display_data"
    }
   ],
   "source": [
    "train['Family_size'] = train['SibSp'] + train['Parch'] + 1\n",
    "\n",
    "sns.lmplot(x='Age', y='Family_size', data=train, hue='Survived', \n",
    "          col='Pclass', col_wrap=3)"
   ]
  },
  {
   "cell_type": "code",
   "execution_count": 15,
   "id": "simple-disney",
   "metadata": {
    "execution": {
     "iopub.execute_input": "2021-07-06T05:28:10.513506Z",
     "iopub.status.busy": "2021-07-06T05:28:10.512792Z",
     "iopub.status.idle": "2021-07-06T05:28:11.441302Z",
     "shell.execute_reply": "2021-07-06T05:28:11.441825Z",
     "shell.execute_reply.started": "2021-07-06T05:24:59.029687Z"
    },
    "papermill": {
     "duration": 1.014707,
     "end_time": "2021-07-06T05:28:11.442044",
     "exception": false,
     "start_time": "2021-07-06T05:28:10.427337",
     "status": "completed"
    },
    "tags": []
   },
   "outputs": [
    {
     "data": {
      "text/plain": [
       "<seaborn.axisgrid.FacetGrid at 0x7fccff384d10>"
      ]
     },
     "execution_count": 15,
     "metadata": {},
     "output_type": "execute_result"
    },
    {
     "data": {
      "image/png": "[encoded data removed]",
      "text/plain": [
       "<Figure size 1080x360 with 3 Axes>"
      ]
     },
     "metadata": {
      "needs_background": "light"
     },
     "output_type": "display_data"
    }
   ],
   "source": [
    "test['Family_size'] = test['SibSp'] + test['Parch'] + 1\n",
    "\n",
    "sns.lmplot(x='Age', y='Family_size', data=test, \n",
    "          col='Pclass', col_wrap=3)"
   ]
  },
  {
   "cell_type": "code",
   "execution_count": 16,
   "id": "ready-jenny",
   "metadata": {
    "execution": {
     "iopub.execute_input": "2021-07-06T05:28:11.564324Z",
     "iopub.status.busy": "2021-07-06T05:28:11.563488Z",
     "iopub.status.idle": "2021-07-06T05:28:13.225005Z",
     "shell.execute_reply": "2021-07-06T05:28:13.225591Z",
     "shell.execute_reply.started": "2021-07-06T05:24:59.953208Z"
    },
    "papermill": {
     "duration": 1.727036,
     "end_time": "2021-07-06T05:28:13.225856",
     "exception": false,
     "start_time": "2021-07-06T05:28:11.498820",
     "status": "completed"
    },
    "tags": []
   },
   "outputs": [
    {
     "data": {
      "image/png": "[encoded data removed]",
      "text/plain": [
       "<Figure size 699.875x432 with 6 Axes>"
      ]
     },
     "metadata": {
      "needs_background": "light"
     },
     "output_type": "display_data"
    }
   ],
   "source": [
    "facet = sns.FacetGrid(train, col='Pclass', row='Sex', hue='Survived')\n",
    "facet = facet.map(plt.scatter, 'Age', 'Fare')\n",
    "facet = facet.add_legend()"
   ]
  },
  {
   "cell_type": "code",
   "execution_count": 17,
   "id": "potential-helen",
   "metadata": {
    "execution": {
     "iopub.execute_input": "2021-07-06T05:28:13.347955Z",
     "iopub.status.busy": "2021-07-06T05:28:13.347195Z",
     "iopub.status.idle": "2021-07-06T05:28:15.992882Z",
     "shell.execute_reply": "2021-07-06T05:28:15.992143Z",
     "shell.execute_reply.started": "2021-07-06T05:25:01.845595Z"
    },
    "papermill": {
     "duration": 2.707582,
     "end_time": "2021-07-06T05:28:15.993044",
     "exception": false,
     "start_time": "2021-07-06T05:28:13.285462",
     "status": "completed"
    },
    "tags": []
   },
   "outputs": [
    {
     "name": "stderr",
     "output_type": "stream",
     "text": [
      "/opt/conda/lib/python3.7/site-packages/seaborn/axisgrid.py:643: UserWarning: Using the barplot function without specifying `order` is likely to produce an incorrect plot.\n",
      "  warnings.warn(warning)\n"
     ]
    },
    {
     "data": {
      "image/png": "[encoded data removed]",
      "text/plain": [
       "<Figure size 699.875x432 with 6 Axes>"
      ]
     },
     "metadata": {
      "needs_background": "light"
     },
     "output_type": "display_data"
    }
   ],
   "source": [
    "facet = sns.FacetGrid(train, col='Pclass', row='Sex', hue='Survived')\n",
    "facet = facet.map(sns.barplot, 'SibSp', 'Age')\n",
    "facet = facet.add_legend()"
   ]
  },
  {
   "cell_type": "code",
   "execution_count": 18,
   "id": "attached-dance",
   "metadata": {
    "execution": {
     "iopub.execute_input": "2021-07-06T05:28:16.158079Z",
     "iopub.status.busy": "2021-07-06T05:28:16.141596Z",
     "iopub.status.idle": "2021-07-06T05:28:18.596915Z",
     "shell.execute_reply": "2021-07-06T05:28:18.596172Z",
     "shell.execute_reply.started": "2021-07-06T05:25:04.404525Z"
    },
    "papermill": {
     "duration": 2.544945,
     "end_time": "2021-07-06T05:28:18.597092",
     "exception": false,
     "start_time": "2021-07-06T05:28:16.052147",
     "status": "completed"
    },
    "tags": []
   },
   "outputs": [
    {
     "name": "stderr",
     "output_type": "stream",
     "text": [
      "/opt/conda/lib/python3.7/site-packages/seaborn/axisgrid.py:643: UserWarning: Using the barplot function without specifying `order` is likely to produce an incorrect plot.\n",
      "  warnings.warn(warning)\n"
     ]
    },
    {
     "data": {
      "image/png": "[encoded data removed]",
      "text/plain": [
       "<Figure size 699.875x432 with 6 Axes>"
      ]
     },
     "metadata": {
      "needs_background": "light"
     },
     "output_type": "display_data"
    }
   ],
   "source": [
    "facet = sns.FacetGrid(train, col='Pclass', row='Sex', hue='Survived')\n",
    "facet = facet.map(sns.barplot, 'Parch', 'Age')\n",
    "facet = facet.add_legend()"
   ]
  },
  {
   "cell_type": "code",
   "execution_count": 19,
   "id": "distributed-banking",
   "metadata": {
    "execution": {
     "iopub.execute_input": "2021-07-06T05:28:18.730818Z",
     "iopub.status.busy": "2021-07-06T05:28:18.730027Z",
     "iopub.status.idle": "2021-07-06T05:28:20.237750Z",
     "shell.execute_reply": "2021-07-06T05:28:20.237029Z",
     "shell.execute_reply.started": "2021-07-06T05:25:06.958613Z"
    },
    "papermill": {
     "duration": 1.576848,
     "end_time": "2021-07-06T05:28:20.237917",
     "exception": false,
     "start_time": "2021-07-06T05:28:18.661069",
     "status": "completed"
    },
    "tags": []
   },
   "outputs": [
    {
     "data": {
      "image/png": "[encoded data removed]",
      "text/plain": [
       "<Figure size 699.875x432 with 6 Axes>"
      ]
     },
     "metadata": {
      "needs_background": "light"
     },
     "output_type": "display_data"
    }
   ],
   "source": [
    "facet = sns.FacetGrid(train, col='Pclass', row='Sex', hue='Survived')\n",
    "facet = facet.map(plt.hist, 'Age')\n",
    "facet = facet.add_legend()"
   ]
  },
  {
   "cell_type": "markdown",
   "id": "numerous-elizabeth",
   "metadata": {
    "papermill": {
     "duration": 0.061581,
     "end_time": "2021-07-06T05:28:20.361495",
     "exception": false,
     "start_time": "2021-07-06T05:28:20.299914",
     "status": "completed"
    },
    "tags": []
   },
   "source": [
    "### 결측치 처리"
   ]
  },
  {
   "cell_type": "code",
   "execution_count": 20,
   "id": "likely-luther",
   "metadata": {
    "execution": {
     "iopub.execute_input": "2021-07-06T05:28:20.493964Z",
     "iopub.status.busy": "2021-07-06T05:28:20.492822Z",
     "iopub.status.idle": "2021-07-06T05:28:20.514124Z",
     "shell.execute_reply": "2021-07-06T05:28:20.514652Z",
     "shell.execute_reply.started": "2021-07-06T05:25:08.575957Z"
    },
    "papermill": {
     "duration": 0.091522,
     "end_time": "2021-07-06T05:28:20.514887",
     "exception": false,
     "start_time": "2021-07-06T05:28:20.423365",
     "status": "completed"
    },
    "tags": []
   },
   "outputs": [
    {
     "name": "stdout",
     "output_type": "stream",
     "text": [
      "<class 'pandas.core.frame.DataFrame'>\n",
      "RangeIndex: 1309 entries, 0 to 1308\n",
      "Data columns (total 12 columns):\n",
      " #   Column       Non-Null Count  Dtype  \n",
      "---  ------       --------------  -----  \n",
      " 0   PassengerId  1309 non-null   int64  \n",
      " 1   Pclass       1309 non-null   int64  \n",
      " 2   Name         1309 non-null   object \n",
      " 3   Sex          1309 non-null   object \n",
      " 4   Age          1046 non-null   float64\n",
      " 5   SibSp        1309 non-null   int64  \n",
      " 6   Parch        1309 non-null   int64  \n",
      " 7   Ticket       1309 non-null   object \n",
      " 8   Fare         1308 non-null   float64\n",
      " 9   Cabin        295 non-null    object \n",
      " 10  Embarked     1307 non-null   object \n",
      " 11  Family_size  1309 non-null   int64  \n",
      "dtypes: float64(2), int64(5), object(5)\n",
      "memory usage: 122.8+ KB\n"
     ]
    }
   ],
   "source": [
    "all_df = pd.concat([train, test], join='inner', ignore_index=True)  # join : 공통된 열만 연결\n",
    "\n",
    "# Survived 사라짐\n",
    "all_df.info()"
   ]
  },
  {
   "cell_type": "code",
   "execution_count": 21,
   "id": "alternative-reducing",
   "metadata": {
    "execution": {
     "iopub.execute_input": "2021-07-06T05:28:20.642645Z",
     "iopub.status.busy": "2021-07-06T05:28:20.641580Z",
     "iopub.status.idle": "2021-07-06T05:28:20.663897Z",
     "shell.execute_reply": "2021-07-06T05:28:20.664398Z",
     "shell.execute_reply.started": "2021-07-06T05:25:08.604183Z"
    },
    "papermill": {
     "duration": 0.088302,
     "end_time": "2021-07-06T05:28:20.664620",
     "exception": false,
     "start_time": "2021-07-06T05:28:20.576318",
     "status": "completed"
    },
    "tags": []
   },
   "outputs": [
    {
     "name": "stdout",
     "output_type": "stream",
     "text": [
      "<class 'pandas.core.frame.DataFrame'>\n",
      "RangeIndex: 1309 entries, 0 to 1308\n",
      "Data columns (total 12 columns):\n",
      " #   Column       Non-Null Count  Dtype  \n",
      "---  ------       --------------  -----  \n",
      " 0   PassengerId  1309 non-null   int64  \n",
      " 1   Pclass       1309 non-null   int64  \n",
      " 2   Name         1309 non-null   object \n",
      " 3   Sex          1309 non-null   object \n",
      " 4   Age          1046 non-null   float64\n",
      " 5   SibSp        1309 non-null   int64  \n",
      " 6   Parch        1309 non-null   int64  \n",
      " 7   Ticket       1309 non-null   object \n",
      " 8   Fare         1309 non-null   float64\n",
      " 9   Cabin        295 non-null    object \n",
      " 10  Embarked     1309 non-null   object \n",
      " 11  Family_size  1309 non-null   int64  \n",
      "dtypes: float64(2), int64(5), object(5)\n",
      "memory usage: 122.8+ KB\n"
     ]
    }
   ],
   "source": [
    "all_df['Fare'] = all_df['Fare'].fillna(all_df['Fare'].mean())\n",
    "all_df['Embarked'] = all_df['Embarked'].fillna('S')\n",
    "\n",
    "all_df.info()"
   ]
  },
  {
   "cell_type": "code",
   "execution_count": 22,
   "id": "compatible-viewer",
   "metadata": {
    "execution": {
     "iopub.execute_input": "2021-07-06T05:28:20.797810Z",
     "iopub.status.busy": "2021-07-06T05:28:20.796044Z",
     "iopub.status.idle": "2021-07-06T05:28:20.806609Z",
     "shell.execute_reply": "2021-07-06T05:28:20.805974Z",
     "shell.execute_reply.started": "2021-07-06T05:25:08.627398Z"
    },
    "papermill": {
     "duration": 0.077885,
     "end_time": "2021-07-06T05:28:20.806796",
     "exception": false,
     "start_time": "2021-07-06T05:28:20.728911",
     "status": "completed"
    },
    "tags": []
   },
   "outputs": [
    {
     "data": {
      "text/plain": [
       "S    916\n",
       "C    270\n",
       "Q    123\n",
       "Name: Embarked, dtype: int64"
      ]
     },
     "execution_count": 22,
     "metadata": {},
     "output_type": "execute_result"
    }
   ],
   "source": [
    "all_df['Embarked'].value_counts()"
   ]
  },
  {
   "cell_type": "code",
   "execution_count": 23,
   "id": "apart-output",
   "metadata": {
    "execution": {
     "iopub.execute_input": "2021-07-06T05:28:20.935567Z",
     "iopub.status.busy": "2021-07-06T05:28:20.934934Z",
     "iopub.status.idle": "2021-07-06T05:28:20.942438Z",
     "shell.execute_reply": "2021-07-06T05:28:20.942988Z",
     "shell.execute_reply.started": "2021-07-06T05:25:08.640265Z"
    },
    "papermill": {
     "duration": 0.074319,
     "end_time": "2021-07-06T05:28:20.943167",
     "exception": false,
     "start_time": "2021-07-06T05:28:20.868848",
     "status": "completed"
    },
    "tags": []
   },
   "outputs": [],
   "source": [
    "## 실습 3-2 Name_title, Cabin_bool\n",
    "\n",
    "all_df['Cabin_bool'] = all_df['Cabin'].notna().map({True:1, False:0})"
   ]
  },
  {
   "cell_type": "code",
   "execution_count": 24,
   "id": "understanding-receipt",
   "metadata": {
    "execution": {
     "iopub.execute_input": "2021-07-06T05:28:21.070123Z",
     "iopub.status.busy": "2021-07-06T05:28:21.069397Z",
     "iopub.status.idle": "2021-07-06T05:28:21.083634Z",
     "shell.execute_reply": "2021-07-06T05:28:21.084140Z",
     "shell.execute_reply.started": "2021-07-06T05:25:08.651025Z"
    },
    "papermill": {
     "duration": 0.079482,
     "end_time": "2021-07-06T05:28:21.084320",
     "exception": false,
     "start_time": "2021-07-06T05:28:21.004838",
     "status": "completed"
    },
    "tags": []
   },
   "outputs": [
    {
     "data": {
      "text/plain": [
       "array(['Mr', 'Mrs', 'Miss', 'Master', 'Don', 'Rev', 'Dr', 'Mme', 'Ms',\n",
       "       'Major', 'Lady', 'Sir', 'Mlle', 'Col', 'Capt', 'Countess',\n",
       "       'Jonkheer', 'Dona'], dtype=object)"
      ]
     },
     "execution_count": 24,
     "metadata": {},
     "output_type": "execute_result"
    }
   ],
   "source": [
    "all_df['Title'] = all_df['Name'].str.extract('([A-Za-z]+)\\.', expand=False)\n",
    "\n",
    "all_df['Title'].unique()"
   ]
  },
  {
   "cell_type": "code",
   "execution_count": 25,
   "id": "undefined-university",
   "metadata": {
    "execution": {
     "iopub.execute_input": "2021-07-06T05:28:21.215962Z",
     "iopub.status.busy": "2021-07-06T05:28:21.215245Z",
     "iopub.status.idle": "2021-07-06T05:28:21.227002Z",
     "shell.execute_reply": "2021-07-06T05:28:21.227479Z",
     "shell.execute_reply.started": "2021-07-06T05:25:08.674039Z"
    },
    "papermill": {
     "duration": 0.077996,
     "end_time": "2021-07-06T05:28:21.227665",
     "exception": false,
     "start_time": "2021-07-06T05:28:21.149669",
     "status": "completed"
    },
    "tags": []
   },
   "outputs": [],
   "source": [
    "all_df['Title'] = all_df['Title'].replace(['Don', 'Rev', 'Dr', 'Mme', 'Ms', 'Major',\n",
    "                                           'Lady', 'Sir', 'Mlle', 'Col', 'Capt', \n",
    "                                           'Countess', 'Jonkheer', 'Dona'], 'Rare')\n",
    "\n",
    "all_df['Title'] = all_df['Title'].replace('Mme', \"Mrs\")\n",
    "all_df['Title'] = all_df['Title'].replace('Mlle', \"Miss\")\n",
    "all_df['Title'] = all_df['Title'].replace('Ms', \"Miss\")"
   ]
  },
  {
   "cell_type": "code",
   "execution_count": 26,
   "id": "arranged-mechanics",
   "metadata": {
    "execution": {
     "iopub.execute_input": "2021-07-06T05:28:21.356422Z",
     "iopub.status.busy": "2021-07-06T05:28:21.355744Z",
     "iopub.status.idle": "2021-07-06T05:28:21.366071Z",
     "shell.execute_reply": "2021-07-06T05:28:21.366541Z",
     "shell.execute_reply.started": "2021-07-06T05:25:08.687693Z"
    },
    "papermill": {
     "duration": 0.076346,
     "end_time": "2021-07-06T05:28:21.366743",
     "exception": false,
     "start_time": "2021-07-06T05:28:21.290397",
     "status": "completed"
    },
    "tags": []
   },
   "outputs": [
    {
     "data": {
      "text/plain": [
       "0       0\n",
       "1       4\n",
       "2       1\n",
       "3       4\n",
       "4       1\n",
       "       ..\n",
       "1304    1\n",
       "1305    4\n",
       "1306    0\n",
       "1307    1\n",
       "1308    3\n",
       "Name: Fare_code, Length: 1309, dtype: int64"
      ]
     },
     "execution_count": 26,
     "metadata": {},
     "output_type": "execute_result"
    }
   ],
   "source": [
    "all_df['Fare_code'] = pd.qcut(all_df['Fare'], 5, labels=False)\n",
    "all_df['Fare_code']"
   ]
  },
  {
   "cell_type": "code",
   "execution_count": 27,
   "id": "expanded-point",
   "metadata": {
    "execution": {
     "iopub.execute_input": "2021-07-06T05:28:21.495322Z",
     "iopub.status.busy": "2021-07-06T05:28:21.494653Z",
     "iopub.status.idle": "2021-07-06T05:28:21.501937Z",
     "shell.execute_reply": "2021-07-06T05:28:21.502375Z",
     "shell.execute_reply.started": "2021-07-06T05:25:08.705782Z"
    },
    "papermill": {
     "duration": 0.073404,
     "end_time": "2021-07-06T05:28:21.502592",
     "exception": false,
     "start_time": "2021-07-06T05:28:21.429188",
     "status": "completed"
    },
    "tags": []
   },
   "outputs": [
    {
     "data": {
      "text/plain": [
       "(array(['Mr', 'Mrs', 'Miss', 'Master', 'Rare'], dtype=object),\n",
       " array(['S', 'C', 'Q'], dtype=object),\n",
       " array(['male', 'female'], dtype=object))"
      ]
     },
     "execution_count": 27,
     "metadata": {},
     "output_type": "execute_result"
    }
   ],
   "source": [
    "all_df['Title'].unique(), all_df['Embarked'].unique(), all_df['Sex'].unique()"
   ]
  },
  {
   "cell_type": "code",
   "execution_count": 28,
   "id": "fifth-rouge",
   "metadata": {
    "execution": {
     "iopub.execute_input": "2021-07-06T05:28:21.631903Z",
     "iopub.status.busy": "2021-07-06T05:28:21.631256Z",
     "iopub.status.idle": "2021-07-06T05:28:21.655302Z",
     "shell.execute_reply": "2021-07-06T05:28:21.655811Z",
     "shell.execute_reply.started": "2021-07-06T05:25:08.72154Z"
    },
    "papermill": {
     "duration": 0.090596,
     "end_time": "2021-07-06T05:28:21.655993",
     "exception": false,
     "start_time": "2021-07-06T05:28:21.565397",
     "status": "completed"
    },
    "tags": []
   },
   "outputs": [
    {
     "data": {
      "text/html": [
       "<div>\n",
       "<style scoped>\n",
       "    .dataframe tbody tr th:only-of-type {\n",
       "        vertical-align: middle;\n",
       "    }\n",
       "\n",
       "    .dataframe tbody tr th {\n",
       "        vertical-align: top;\n",
       "    }\n",
       "\n",
       "    .dataframe thead th {\n",
       "        text-align: right;\n",
       "    }\n",
       "</style>\n",
       "<table border=\"1\" class=\"dataframe\">\n",
       "  <thead>\n",
       "    <tr style=\"text-align: right;\">\n",
       "      <th></th>\n",
       "      <th>PassengerId</th>\n",
       "      <th>Pclass</th>\n",
       "      <th>Name</th>\n",
       "      <th>Sex</th>\n",
       "      <th>Age</th>\n",
       "      <th>SibSp</th>\n",
       "      <th>Parch</th>\n",
       "      <th>Ticket</th>\n",
       "      <th>Fare</th>\n",
       "      <th>Cabin</th>\n",
       "      <th>Embarked</th>\n",
       "      <th>Family_size</th>\n",
       "      <th>Cabin_bool</th>\n",
       "      <th>Title</th>\n",
       "      <th>Fare_code</th>\n",
       "    </tr>\n",
       "  </thead>\n",
       "  <tbody>\n",
       "    <tr>\n",
       "      <th>0</th>\n",
       "      <td>1</td>\n",
       "      <td>3</td>\n",
       "      <td>Braund, Mr. Owen Harris</td>\n",
       "      <td>1</td>\n",
       "      <td>22.0</td>\n",
       "      <td>1</td>\n",
       "      <td>0</td>\n",
       "      <td>A/5 21171</td>\n",
       "      <td>7.2500</td>\n",
       "      <td>NaN</td>\n",
       "      <td>1</td>\n",
       "      <td>2</td>\n",
       "      <td>0</td>\n",
       "      <td>1</td>\n",
       "      <td>0</td>\n",
       "    </tr>\n",
       "    <tr>\n",
       "      <th>1</th>\n",
       "      <td>2</td>\n",
       "      <td>1</td>\n",
       "      <td>Cumings, Mrs. John Bradley (Florence Briggs Th...</td>\n",
       "      <td>2</td>\n",
       "      <td>38.0</td>\n",
       "      <td>1</td>\n",
       "      <td>0</td>\n",
       "      <td>PC 17599</td>\n",
       "      <td>71.2833</td>\n",
       "      <td>C85</td>\n",
       "      <td>2</td>\n",
       "      <td>2</td>\n",
       "      <td>1</td>\n",
       "      <td>2</td>\n",
       "      <td>4</td>\n",
       "    </tr>\n",
       "    <tr>\n",
       "      <th>2</th>\n",
       "      <td>3</td>\n",
       "      <td>3</td>\n",
       "      <td>Heikkinen, Miss. Laina</td>\n",
       "      <td>2</td>\n",
       "      <td>26.0</td>\n",
       "      <td>0</td>\n",
       "      <td>0</td>\n",
       "      <td>STON/O2. 3101282</td>\n",
       "      <td>7.9250</td>\n",
       "      <td>NaN</td>\n",
       "      <td>1</td>\n",
       "      <td>1</td>\n",
       "      <td>0</td>\n",
       "      <td>3</td>\n",
       "      <td>1</td>\n",
       "    </tr>\n",
       "    <tr>\n",
       "      <th>3</th>\n",
       "      <td>4</td>\n",
       "      <td>1</td>\n",
       "      <td>Futrelle, Mrs. Jacques Heath (Lily May Peel)</td>\n",
       "      <td>2</td>\n",
       "      <td>35.0</td>\n",
       "      <td>1</td>\n",
       "      <td>0</td>\n",
       "      <td>113803</td>\n",
       "      <td>53.1000</td>\n",
       "      <td>C123</td>\n",
       "      <td>1</td>\n",
       "      <td>2</td>\n",
       "      <td>1</td>\n",
       "      <td>2</td>\n",
       "      <td>4</td>\n",
       "    </tr>\n",
       "    <tr>\n",
       "      <th>4</th>\n",
       "      <td>5</td>\n",
       "      <td>3</td>\n",
       "      <td>Allen, Mr. William Henry</td>\n",
       "      <td>1</td>\n",
       "      <td>35.0</td>\n",
       "      <td>0</td>\n",
       "      <td>0</td>\n",
       "      <td>373450</td>\n",
       "      <td>8.0500</td>\n",
       "      <td>NaN</td>\n",
       "      <td>1</td>\n",
       "      <td>1</td>\n",
       "      <td>0</td>\n",
       "      <td>1</td>\n",
       "      <td>1</td>\n",
       "    </tr>\n",
       "  </tbody>\n",
       "</table>\n",
       "</div>"
      ],
      "text/plain": [
       "   PassengerId  Pclass                                               Name  \\\n",
       "0            1       3                            Braund, Mr. Owen Harris   \n",
       "1            2       1  Cumings, Mrs. John Bradley (Florence Briggs Th...   \n",
       "2            3       3                             Heikkinen, Miss. Laina   \n",
       "3            4       1       Futrelle, Mrs. Jacques Heath (Lily May Peel)   \n",
       "4            5       3                           Allen, Mr. William Henry   \n",
       "\n",
       "   Sex   Age  SibSp  Parch            Ticket     Fare Cabin  Embarked  \\\n",
       "0    1  22.0      1      0         A/5 21171   7.2500   NaN         1   \n",
       "1    2  38.0      1      0          PC 17599  71.2833   C85         2   \n",
       "2    2  26.0      0      0  STON/O2. 3101282   7.9250   NaN         1   \n",
       "3    2  35.0      1      0            113803  53.1000  C123         1   \n",
       "4    1  35.0      0      0            373450   8.0500   NaN         1   \n",
       "\n",
       "   Family_size  Cabin_bool  Title  Fare_code  \n",
       "0            2           0      1          0  \n",
       "1            2           1      2          4  \n",
       "2            1           0      3          1  \n",
       "3            2           1      2          4  \n",
       "4            1           0      1          1  "
      ]
     },
     "execution_count": 28,
     "metadata": {},
     "output_type": "execute_result"
    }
   ],
   "source": [
    "all_df['Title'] = all_df['Title'].map({'Mr':1, 'Mrs':2, 'Miss':3, 'Master':4, 'Rare':5})\n",
    "all_df['Embarked'] = all_df['Embarked'].map({'S':1, 'C':2, 'Q':3})\n",
    "all_df['Sex'] = all_df['Sex'].map({'male':1, 'female':2})\n",
    "\n",
    "all_df.head()"
   ]
  },
  {
   "cell_type": "code",
   "execution_count": 29,
   "id": "emerging-guard",
   "metadata": {
    "execution": {
     "iopub.execute_input": "2021-07-06T05:28:21.787901Z",
     "iopub.status.busy": "2021-07-06T05:28:21.787239Z",
     "iopub.status.idle": "2021-07-06T05:28:21.801350Z",
     "shell.execute_reply": "2021-07-06T05:28:21.800552Z",
     "shell.execute_reply.started": "2021-07-06T05:25:08.75357Z"
    },
    "papermill": {
     "duration": 0.082377,
     "end_time": "2021-07-06T05:28:21.801520",
     "exception": false,
     "start_time": "2021-07-06T05:28:21.719143",
     "status": "completed"
    },
    "tags": []
   },
   "outputs": [
    {
     "name": "stdout",
     "output_type": "stream",
     "text": [
      "Z    1014\n",
      "C      94\n",
      "B      65\n",
      "D      46\n",
      "E      41\n",
      "A      22\n",
      "F      21\n",
      "G       5\n",
      "T       1\n",
      "Name: Cabin_First, dtype: int64\n"
     ]
    }
   ],
   "source": [
    "all_df.loc[all_df['Cabin'].isna(), 'Cabin_First'] = 'Z'\n",
    "all_df.loc[all_df['Cabin'].notna(), 'Cabin_First'] = all_df['Cabin'].str.slice(0, 1)\n",
    "print(all_df['Cabin_First'].value_counts())"
   ]
  },
  {
   "cell_type": "code",
   "execution_count": 30,
   "id": "resident-sentence",
   "metadata": {
    "execution": {
     "iopub.execute_input": "2021-07-06T05:28:21.943223Z",
     "iopub.status.busy": "2021-07-06T05:28:21.942542Z",
     "iopub.status.idle": "2021-07-06T05:28:22.149477Z",
     "shell.execute_reply": "2021-07-06T05:28:22.148878Z",
     "shell.execute_reply.started": "2021-07-06T05:25:08.770869Z"
    },
    "papermill": {
     "duration": 0.282421,
     "end_time": "2021-07-06T05:28:22.149639",
     "exception": false,
     "start_time": "2021-07-06T05:28:21.867218",
     "status": "completed"
    },
    "tags": []
   },
   "outputs": [
    {
     "data": {
      "text/plain": [
       "<AxesSubplot:ylabel='Cabin_First'>"
      ]
     },
     "execution_count": 30,
     "metadata": {},
     "output_type": "execute_result"
    },
    {
     "data": {
      "image/png": "[encoded data removed]",
      "text/plain": [
       "<Figure size 1080x720 with 1 Axes>"
      ]
     },
     "metadata": {},
     "output_type": "display_data"
    }
   ],
   "source": [
    "tmp = all_df['Cabin_First'].value_counts()\n",
    "tmp.plot(kind='pie', autopct='%1.2f%%', figsize=(15,10))"
   ]
  },
  {
   "cell_type": "code",
   "execution_count": 31,
   "id": "voluntary-ensemble",
   "metadata": {
    "execution": {
     "iopub.execute_input": "2021-07-06T05:28:22.300575Z",
     "iopub.status.busy": "2021-07-06T05:28:22.297640Z",
     "iopub.status.idle": "2021-07-06T05:28:22.305302Z",
     "shell.execute_reply": "2021-07-06T05:28:22.304741Z",
     "shell.execute_reply.started": "2021-07-06T05:25:08.970372Z"
    },
    "papermill": {
     "duration": 0.086069,
     "end_time": "2021-07-06T05:28:22.305451",
     "exception": false,
     "start_time": "2021-07-06T05:28:22.219382",
     "status": "completed"
    },
    "tags": []
   },
   "outputs": [
    {
     "data": {
      "text/plain": [
       "6.0    1014\n",
       "2.0      94\n",
       "1.0      65\n",
       "3.0      46\n",
       "4.0      41\n",
       "0.0      22\n",
       "5.0      21\n",
       "Name: Cabin_First, dtype: int64"
      ]
     },
     "execution_count": 31,
     "metadata": {},
     "output_type": "execute_result"
    }
   ],
   "source": [
    "all_df['Cabin_First'] = all_df['Cabin_First'].replace(['G','T'],\"Rare\")\n",
    "Cabin_First_dic = {\"A\":0, \"B\":1, \"C\":2, \"D\":3, \"E\":4, \"F\":5, \"Z\":6}\n",
    "\n",
    "all_df['Cabin_First'] = all_df['Cabin_First'].map(Cabin_First_dic)\n",
    "all_df['Cabin_First'].value_counts()"
   ]
  },
  {
   "cell_type": "code",
   "execution_count": 32,
   "id": "blessed-chase",
   "metadata": {
    "execution": {
     "iopub.execute_input": "2021-07-06T05:28:22.444970Z",
     "iopub.status.busy": "2021-07-06T05:28:22.444117Z",
     "iopub.status.idle": "2021-07-06T05:28:22.447894Z",
     "shell.execute_reply": "2021-07-06T05:28:22.447246Z",
     "shell.execute_reply.started": "2021-07-06T05:25:08.986786Z"
    },
    "papermill": {
     "duration": 0.075661,
     "end_time": "2021-07-06T05:28:22.448036",
     "exception": false,
     "start_time": "2021-07-06T05:28:22.372375",
     "status": "completed"
    },
    "tags": []
   },
   "outputs": [],
   "source": [
    "all_df['Cabin_First'] = all_df['Cabin_First'].fillna('6.0')"
   ]
  },
  {
   "cell_type": "code",
   "execution_count": 33,
   "id": "funded-sacramento",
   "metadata": {
    "execution": {
     "iopub.execute_input": "2021-07-06T05:28:22.598105Z",
     "iopub.status.busy": "2021-07-06T05:28:22.594713Z",
     "iopub.status.idle": "2021-07-06T05:28:22.613740Z",
     "shell.execute_reply": "2021-07-06T05:28:22.613050Z",
     "shell.execute_reply.started": "2021-07-06T05:25:09.000574Z"
    },
    "papermill": {
     "duration": 0.1003,
     "end_time": "2021-07-06T05:28:22.613888",
     "exception": false,
     "start_time": "2021-07-06T05:28:22.513588",
     "status": "completed"
    },
    "tags": []
   },
   "outputs": [
    {
     "name": "stdout",
     "output_type": "stream",
     "text": [
      "<class 'pandas.core.frame.DataFrame'>\n",
      "RangeIndex: 1309 entries, 0 to 1308\n",
      "Data columns (total 16 columns):\n",
      " #   Column       Non-Null Count  Dtype  \n",
      "---  ------       --------------  -----  \n",
      " 0   PassengerId  1309 non-null   int64  \n",
      " 1   Pclass       1309 non-null   int64  \n",
      " 2   Name         1309 non-null   object \n",
      " 3   Sex          1309 non-null   int64  \n",
      " 4   Age          1309 non-null   float64\n",
      " 5   SibSp        1309 non-null   int64  \n",
      " 6   Parch        1309 non-null   int64  \n",
      " 7   Ticket       1309 non-null   object \n",
      " 8   Fare         1309 non-null   float64\n",
      " 9   Cabin        295 non-null    object \n",
      " 10  Embarked     1309 non-null   int64  \n",
      " 11  Family_size  1309 non-null   int64  \n",
      " 12  Cabin_bool   1309 non-null   int64  \n",
      " 13  Title        1309 non-null   int64  \n",
      " 14  Fare_code    1309 non-null   int64  \n",
      " 15  Cabin_First  1309 non-null   object \n",
      "dtypes: float64(2), int64(10), object(4)\n",
      "memory usage: 163.8+ KB\n"
     ]
    }
   ],
   "source": [
    "mean_title = all_df.groupby('Title')['Age'].mean()\n",
    "\n",
    "all_df.loc[(all_df['Age'].isna()) & (all_df['Title']==1), 'Age'] = mean_title[1]\n",
    "all_df.loc[(all_df['Age'].isna()) & (all_df['Title']==2), 'Age'] = mean_title[2]\n",
    "all_df.loc[(all_df['Age'].isna()) & (all_df['Title']==3), 'Age'] = mean_title[3]\n",
    "all_df.loc[(all_df['Age'].isna()) & (all_df['Title']==4), 'Age'] = mean_title[4]\n",
    "all_df.loc[(all_df['Age'].isna()) & (all_df['Title']==5), 'Age'] = mean_title[5]\n",
    "\n",
    "all_df.info()"
   ]
  },
  {
   "cell_type": "code",
   "execution_count": 34,
   "id": "integrated-applicant",
   "metadata": {
    "execution": {
     "iopub.execute_input": "2021-07-06T05:28:22.753573Z",
     "iopub.status.busy": "2021-07-06T05:28:22.752556Z",
     "iopub.status.idle": "2021-07-06T05:28:22.783212Z",
     "shell.execute_reply": "2021-07-06T05:28:22.782556Z",
     "shell.execute_reply.started": "2021-07-06T05:25:09.034754Z"
    },
    "papermill": {
     "duration": 0.102098,
     "end_time": "2021-07-06T05:28:22.783356",
     "exception": false,
     "start_time": "2021-07-06T05:28:22.681258",
     "status": "completed"
    },
    "tags": []
   },
   "outputs": [
    {
     "data": {
      "text/html": [
       "<div>\n",
       "<style scoped>\n",
       "    .dataframe tbody tr th:only-of-type {\n",
       "        vertical-align: middle;\n",
       "    }\n",
       "\n",
       "    .dataframe tbody tr th {\n",
       "        vertical-align: top;\n",
       "    }\n",
       "\n",
       "    .dataframe thead th {\n",
       "        text-align: right;\n",
       "    }\n",
       "</style>\n",
       "<table border=\"1\" class=\"dataframe\">\n",
       "  <thead>\n",
       "    <tr style=\"text-align: right;\">\n",
       "      <th></th>\n",
       "      <th>PassengerId</th>\n",
       "      <th>Pclass</th>\n",
       "      <th>Name</th>\n",
       "      <th>Sex</th>\n",
       "      <th>Age</th>\n",
       "      <th>SibSp</th>\n",
       "      <th>Parch</th>\n",
       "      <th>Ticket</th>\n",
       "      <th>Fare</th>\n",
       "      <th>Cabin</th>\n",
       "      <th>Embarked</th>\n",
       "      <th>Family_size</th>\n",
       "      <th>Cabin_bool</th>\n",
       "      <th>Title</th>\n",
       "      <th>Fare_code</th>\n",
       "      <th>Cabin_First</th>\n",
       "      <th>Age_code</th>\n",
       "    </tr>\n",
       "  </thead>\n",
       "  <tbody>\n",
       "    <tr>\n",
       "      <th>0</th>\n",
       "      <td>1</td>\n",
       "      <td>3</td>\n",
       "      <td>Braund, Mr. Owen Harris</td>\n",
       "      <td>1</td>\n",
       "      <td>22.000000</td>\n",
       "      <td>1</td>\n",
       "      <td>0</td>\n",
       "      <td>A/5 21171</td>\n",
       "      <td>7.2500</td>\n",
       "      <td>NaN</td>\n",
       "      <td>1</td>\n",
       "      <td>2</td>\n",
       "      <td>0</td>\n",
       "      <td>1</td>\n",
       "      <td>0</td>\n",
       "      <td>6.0</td>\n",
       "      <td>1</td>\n",
       "    </tr>\n",
       "    <tr>\n",
       "      <th>1</th>\n",
       "      <td>2</td>\n",
       "      <td>1</td>\n",
       "      <td>Cumings, Mrs. John Bradley (Florence Briggs Th...</td>\n",
       "      <td>2</td>\n",
       "      <td>38.000000</td>\n",
       "      <td>1</td>\n",
       "      <td>0</td>\n",
       "      <td>PC 17599</td>\n",
       "      <td>71.2833</td>\n",
       "      <td>C85</td>\n",
       "      <td>2</td>\n",
       "      <td>2</td>\n",
       "      <td>1</td>\n",
       "      <td>2</td>\n",
       "      <td>4</td>\n",
       "      <td>2.0</td>\n",
       "      <td>3</td>\n",
       "    </tr>\n",
       "    <tr>\n",
       "      <th>2</th>\n",
       "      <td>3</td>\n",
       "      <td>3</td>\n",
       "      <td>Heikkinen, Miss. Laina</td>\n",
       "      <td>2</td>\n",
       "      <td>26.000000</td>\n",
       "      <td>0</td>\n",
       "      <td>0</td>\n",
       "      <td>STON/O2. 3101282</td>\n",
       "      <td>7.9250</td>\n",
       "      <td>NaN</td>\n",
       "      <td>1</td>\n",
       "      <td>1</td>\n",
       "      <td>0</td>\n",
       "      <td>3</td>\n",
       "      <td>1</td>\n",
       "      <td>6.0</td>\n",
       "      <td>1</td>\n",
       "    </tr>\n",
       "    <tr>\n",
       "      <th>3</th>\n",
       "      <td>4</td>\n",
       "      <td>1</td>\n",
       "      <td>Futrelle, Mrs. Jacques Heath (Lily May Peel)</td>\n",
       "      <td>2</td>\n",
       "      <td>35.000000</td>\n",
       "      <td>1</td>\n",
       "      <td>0</td>\n",
       "      <td>113803</td>\n",
       "      <td>53.1000</td>\n",
       "      <td>C123</td>\n",
       "      <td>1</td>\n",
       "      <td>2</td>\n",
       "      <td>1</td>\n",
       "      <td>2</td>\n",
       "      <td>4</td>\n",
       "      <td>2.0</td>\n",
       "      <td>3</td>\n",
       "    </tr>\n",
       "    <tr>\n",
       "      <th>4</th>\n",
       "      <td>5</td>\n",
       "      <td>3</td>\n",
       "      <td>Allen, Mr. William Henry</td>\n",
       "      <td>1</td>\n",
       "      <td>35.000000</td>\n",
       "      <td>0</td>\n",
       "      <td>0</td>\n",
       "      <td>373450</td>\n",
       "      <td>8.0500</td>\n",
       "      <td>NaN</td>\n",
       "      <td>1</td>\n",
       "      <td>1</td>\n",
       "      <td>0</td>\n",
       "      <td>1</td>\n",
       "      <td>1</td>\n",
       "      <td>6.0</td>\n",
       "      <td>3</td>\n",
       "    </tr>\n",
       "    <tr>\n",
       "      <th>5</th>\n",
       "      <td>6</td>\n",
       "      <td>3</td>\n",
       "      <td>Moran, Mr. James</td>\n",
       "      <td>1</td>\n",
       "      <td>32.252151</td>\n",
       "      <td>0</td>\n",
       "      <td>0</td>\n",
       "      <td>330877</td>\n",
       "      <td>8.4583</td>\n",
       "      <td>NaN</td>\n",
       "      <td>3</td>\n",
       "      <td>1</td>\n",
       "      <td>0</td>\n",
       "      <td>1</td>\n",
       "      <td>1</td>\n",
       "      <td>6.0</td>\n",
       "      <td>2</td>\n",
       "    </tr>\n",
       "    <tr>\n",
       "      <th>6</th>\n",
       "      <td>7</td>\n",
       "      <td>1</td>\n",
       "      <td>McCarthy, Mr. Timothy J</td>\n",
       "      <td>1</td>\n",
       "      <td>54.000000</td>\n",
       "      <td>0</td>\n",
       "      <td>0</td>\n",
       "      <td>17463</td>\n",
       "      <td>51.8625</td>\n",
       "      <td>E46</td>\n",
       "      <td>1</td>\n",
       "      <td>1</td>\n",
       "      <td>1</td>\n",
       "      <td>1</td>\n",
       "      <td>4</td>\n",
       "      <td>4.0</td>\n",
       "      <td>4</td>\n",
       "    </tr>\n",
       "    <tr>\n",
       "      <th>7</th>\n",
       "      <td>8</td>\n",
       "      <td>3</td>\n",
       "      <td>Palsson, Master. Gosta Leonard</td>\n",
       "      <td>1</td>\n",
       "      <td>2.000000</td>\n",
       "      <td>3</td>\n",
       "      <td>1</td>\n",
       "      <td>349909</td>\n",
       "      <td>21.0750</td>\n",
       "      <td>NaN</td>\n",
       "      <td>1</td>\n",
       "      <td>5</td>\n",
       "      <td>0</td>\n",
       "      <td>4</td>\n",
       "      <td>2</td>\n",
       "      <td>6.0</td>\n",
       "      <td>0</td>\n",
       "    </tr>\n",
       "    <tr>\n",
       "      <th>8</th>\n",
       "      <td>9</td>\n",
       "      <td>3</td>\n",
       "      <td>Johnson, Mrs. Oscar W (Elisabeth Vilhelmina Berg)</td>\n",
       "      <td>2</td>\n",
       "      <td>27.000000</td>\n",
       "      <td>0</td>\n",
       "      <td>2</td>\n",
       "      <td>347742</td>\n",
       "      <td>11.1333</td>\n",
       "      <td>NaN</td>\n",
       "      <td>1</td>\n",
       "      <td>3</td>\n",
       "      <td>0</td>\n",
       "      <td>2</td>\n",
       "      <td>2</td>\n",
       "      <td>6.0</td>\n",
       "      <td>2</td>\n",
       "    </tr>\n",
       "    <tr>\n",
       "      <th>9</th>\n",
       "      <td>10</td>\n",
       "      <td>2</td>\n",
       "      <td>Nasser, Mrs. Nicholas (Adele Achem)</td>\n",
       "      <td>2</td>\n",
       "      <td>14.000000</td>\n",
       "      <td>1</td>\n",
       "      <td>0</td>\n",
       "      <td>237736</td>\n",
       "      <td>30.0708</td>\n",
       "      <td>NaN</td>\n",
       "      <td>2</td>\n",
       "      <td>2</td>\n",
       "      <td>0</td>\n",
       "      <td>2</td>\n",
       "      <td>3</td>\n",
       "      <td>6.0</td>\n",
       "      <td>0</td>\n",
       "    </tr>\n",
       "    <tr>\n",
       "      <th>10</th>\n",
       "      <td>11</td>\n",
       "      <td>3</td>\n",
       "      <td>Sandstrom, Miss. Marguerite Rut</td>\n",
       "      <td>2</td>\n",
       "      <td>4.000000</td>\n",
       "      <td>1</td>\n",
       "      <td>1</td>\n",
       "      <td>PP 9549</td>\n",
       "      <td>16.7000</td>\n",
       "      <td>G6</td>\n",
       "      <td>1</td>\n",
       "      <td>3</td>\n",
       "      <td>1</td>\n",
       "      <td>3</td>\n",
       "      <td>2</td>\n",
       "      <td>6.0</td>\n",
       "      <td>0</td>\n",
       "    </tr>\n",
       "    <tr>\n",
       "      <th>11</th>\n",
       "      <td>12</td>\n",
       "      <td>1</td>\n",
       "      <td>Bonnell, Miss. Elizabeth</td>\n",
       "      <td>2</td>\n",
       "      <td>58.000000</td>\n",
       "      <td>0</td>\n",
       "      <td>0</td>\n",
       "      <td>113783</td>\n",
       "      <td>26.5500</td>\n",
       "      <td>C103</td>\n",
       "      <td>1</td>\n",
       "      <td>1</td>\n",
       "      <td>1</td>\n",
       "      <td>3</td>\n",
       "      <td>3</td>\n",
       "      <td>2.0</td>\n",
       "      <td>4</td>\n",
       "    </tr>\n",
       "    <tr>\n",
       "      <th>12</th>\n",
       "      <td>13</td>\n",
       "      <td>3</td>\n",
       "      <td>Saundercock, Mr. William Henry</td>\n",
       "      <td>1</td>\n",
       "      <td>20.000000</td>\n",
       "      <td>0</td>\n",
       "      <td>0</td>\n",
       "      <td>A/5. 2151</td>\n",
       "      <td>8.0500</td>\n",
       "      <td>NaN</td>\n",
       "      <td>1</td>\n",
       "      <td>1</td>\n",
       "      <td>0</td>\n",
       "      <td>1</td>\n",
       "      <td>1</td>\n",
       "      <td>6.0</td>\n",
       "      <td>0</td>\n",
       "    </tr>\n",
       "    <tr>\n",
       "      <th>13</th>\n",
       "      <td>14</td>\n",
       "      <td>3</td>\n",
       "      <td>Andersson, Mr. Anders Johan</td>\n",
       "      <td>1</td>\n",
       "      <td>39.000000</td>\n",
       "      <td>1</td>\n",
       "      <td>5</td>\n",
       "      <td>347082</td>\n",
       "      <td>31.2750</td>\n",
       "      <td>NaN</td>\n",
       "      <td>1</td>\n",
       "      <td>7</td>\n",
       "      <td>0</td>\n",
       "      <td>1</td>\n",
       "      <td>3</td>\n",
       "      <td>6.0</td>\n",
       "      <td>3</td>\n",
       "    </tr>\n",
       "    <tr>\n",
       "      <th>14</th>\n",
       "      <td>15</td>\n",
       "      <td>3</td>\n",
       "      <td>Vestrom, Miss. Hulda Amanda Adolfina</td>\n",
       "      <td>2</td>\n",
       "      <td>14.000000</td>\n",
       "      <td>0</td>\n",
       "      <td>0</td>\n",
       "      <td>350406</td>\n",
       "      <td>7.8542</td>\n",
       "      <td>NaN</td>\n",
       "      <td>1</td>\n",
       "      <td>1</td>\n",
       "      <td>0</td>\n",
       "      <td>3</td>\n",
       "      <td>0</td>\n",
       "      <td>6.0</td>\n",
       "      <td>0</td>\n",
       "    </tr>\n",
       "    <tr>\n",
       "      <th>15</th>\n",
       "      <td>16</td>\n",
       "      <td>2</td>\n",
       "      <td>Hewlett, Mrs. (Mary D Kingcome)</td>\n",
       "      <td>2</td>\n",
       "      <td>55.000000</td>\n",
       "      <td>0</td>\n",
       "      <td>0</td>\n",
       "      <td>248706</td>\n",
       "      <td>16.0000</td>\n",
       "      <td>NaN</td>\n",
       "      <td>1</td>\n",
       "      <td>1</td>\n",
       "      <td>0</td>\n",
       "      <td>2</td>\n",
       "      <td>2</td>\n",
       "      <td>6.0</td>\n",
       "      <td>4</td>\n",
       "    </tr>\n",
       "    <tr>\n",
       "      <th>16</th>\n",
       "      <td>17</td>\n",
       "      <td>3</td>\n",
       "      <td>Rice, Master. Eugene</td>\n",
       "      <td>1</td>\n",
       "      <td>2.000000</td>\n",
       "      <td>4</td>\n",
       "      <td>1</td>\n",
       "      <td>382652</td>\n",
       "      <td>29.1250</td>\n",
       "      <td>NaN</td>\n",
       "      <td>3</td>\n",
       "      <td>6</td>\n",
       "      <td>0</td>\n",
       "      <td>4</td>\n",
       "      <td>3</td>\n",
       "      <td>6.0</td>\n",
       "      <td>0</td>\n",
       "    </tr>\n",
       "    <tr>\n",
       "      <th>17</th>\n",
       "      <td>18</td>\n",
       "      <td>2</td>\n",
       "      <td>Williams, Mr. Charles Eugene</td>\n",
       "      <td>1</td>\n",
       "      <td>32.252151</td>\n",
       "      <td>0</td>\n",
       "      <td>0</td>\n",
       "      <td>244373</td>\n",
       "      <td>13.0000</td>\n",
       "      <td>NaN</td>\n",
       "      <td>1</td>\n",
       "      <td>1</td>\n",
       "      <td>0</td>\n",
       "      <td>1</td>\n",
       "      <td>2</td>\n",
       "      <td>6.0</td>\n",
       "      <td>2</td>\n",
       "    </tr>\n",
       "    <tr>\n",
       "      <th>18</th>\n",
       "      <td>19</td>\n",
       "      <td>3</td>\n",
       "      <td>Vander Planke, Mrs. Julius (Emelia Maria Vande...</td>\n",
       "      <td>2</td>\n",
       "      <td>31.000000</td>\n",
       "      <td>1</td>\n",
       "      <td>0</td>\n",
       "      <td>345763</td>\n",
       "      <td>18.0000</td>\n",
       "      <td>NaN</td>\n",
       "      <td>1</td>\n",
       "      <td>2</td>\n",
       "      <td>0</td>\n",
       "      <td>2</td>\n",
       "      <td>2</td>\n",
       "      <td>6.0</td>\n",
       "      <td>2</td>\n",
       "    </tr>\n",
       "    <tr>\n",
       "      <th>19</th>\n",
       "      <td>20</td>\n",
       "      <td>3</td>\n",
       "      <td>Masselmani, Mrs. Fatima</td>\n",
       "      <td>2</td>\n",
       "      <td>36.994118</td>\n",
       "      <td>0</td>\n",
       "      <td>0</td>\n",
       "      <td>2649</td>\n",
       "      <td>7.2250</td>\n",
       "      <td>NaN</td>\n",
       "      <td>2</td>\n",
       "      <td>1</td>\n",
       "      <td>0</td>\n",
       "      <td>2</td>\n",
       "      <td>0</td>\n",
       "      <td>6.0</td>\n",
       "      <td>3</td>\n",
       "    </tr>\n",
       "  </tbody>\n",
       "</table>\n",
       "</div>"
      ],
      "text/plain": [
       "    PassengerId  Pclass                                               Name  \\\n",
       "0             1       3                            Braund, Mr. Owen Harris   \n",
       "1             2       1  Cumings, Mrs. John Bradley (Florence Briggs Th...   \n",
       "2             3       3                             Heikkinen, Miss. Laina   \n",
       "3             4       1       Futrelle, Mrs. Jacques Heath (Lily May Peel)   \n",
       "4             5       3                           Allen, Mr. William Henry   \n",
       "5             6       3                                   Moran, Mr. James   \n",
       "6             7       1                            McCarthy, Mr. Timothy J   \n",
       "7             8       3                     Palsson, Master. Gosta Leonard   \n",
       "8             9       3  Johnson, Mrs. Oscar W (Elisabeth Vilhelmina Berg)   \n",
       "9            10       2                Nasser, Mrs. Nicholas (Adele Achem)   \n",
       "10           11       3                    Sandstrom, Miss. Marguerite Rut   \n",
       "11           12       1                           Bonnell, Miss. Elizabeth   \n",
       "12           13       3                     Saundercock, Mr. William Henry   \n",
       "13           14       3                        Andersson, Mr. Anders Johan   \n",
       "14           15       3               Vestrom, Miss. Hulda Amanda Adolfina   \n",
       "15           16       2                   Hewlett, Mrs. (Mary D Kingcome)    \n",
       "16           17       3                               Rice, Master. Eugene   \n",
       "17           18       2                       Williams, Mr. Charles Eugene   \n",
       "18           19       3  Vander Planke, Mrs. Julius (Emelia Maria Vande...   \n",
       "19           20       3                            Masselmani, Mrs. Fatima   \n",
       "\n",
       "    Sex        Age  SibSp  Parch            Ticket     Fare Cabin  Embarked  \\\n",
       "0     1  22.000000      1      0         A/5 21171   7.2500   NaN         1   \n",
       "1     2  38.000000      1      0          PC 17599  71.2833   C85         2   \n",
       "2     2  26.000000      0      0  STON/O2. 3101282   7.9250   NaN         1   \n",
       "3     2  35.000000      1      0            113803  53.1000  C123         1   \n",
       "4     1  35.000000      0      0            373450   8.0500   NaN         1   \n",
       "5     1  32.252151      0      0            330877   8.4583   NaN         3   \n",
       "6     1  54.000000      0      0             17463  51.8625   E46         1   \n",
       "7     1   2.000000      3      1            349909  21.0750   NaN         1   \n",
       "8     2  27.000000      0      2            347742  11.1333   NaN         1   \n",
       "9     2  14.000000      1      0            237736  30.0708   NaN         2   \n",
       "10    2   4.000000      1      1           PP 9549  16.7000    G6         1   \n",
       "11    2  58.000000      0      0            113783  26.5500  C103         1   \n",
       "12    1  20.000000      0      0         A/5. 2151   8.0500   NaN         1   \n",
       "13    1  39.000000      1      5            347082  31.2750   NaN         1   \n",
       "14    2  14.000000      0      0            350406   7.8542   NaN         1   \n",
       "15    2  55.000000      0      0            248706  16.0000   NaN         1   \n",
       "16    1   2.000000      4      1            382652  29.1250   NaN         3   \n",
       "17    1  32.252151      0      0            244373  13.0000   NaN         1   \n",
       "18    2  31.000000      1      0            345763  18.0000   NaN         1   \n",
       "19    2  36.994118      0      0              2649   7.2250   NaN         2   \n",
       "\n",
       "    Family_size  Cabin_bool  Title  Fare_code Cabin_First  Age_code  \n",
       "0             2           0      1          0         6.0         1  \n",
       "1             2           1      2          4         2.0         3  \n",
       "2             1           0      3          1         6.0         1  \n",
       "3             2           1      2          4         2.0         3  \n",
       "4             1           0      1          1         6.0         3  \n",
       "5             1           0      1          1         6.0         2  \n",
       "6             1           1      1          4         4.0         4  \n",
       "7             5           0      4          2         6.0         0  \n",
       "8             3           0      2          2         6.0         2  \n",
       "9             2           0      2          3         6.0         0  \n",
       "10            3           1      3          2         6.0         0  \n",
       "11            1           1      3          3         2.0         4  \n",
       "12            1           0      1          1         6.0         0  \n",
       "13            7           0      1          3         6.0         3  \n",
       "14            1           0      3          0         6.0         0  \n",
       "15            1           0      2          2         6.0         4  \n",
       "16            6           0      4          3         6.0         0  \n",
       "17            1           0      1          2         6.0         2  \n",
       "18            2           0      2          2         6.0         2  \n",
       "19            1           0      2          0         6.0         3  "
      ]
     },
     "execution_count": 34,
     "metadata": {},
     "output_type": "execute_result"
    }
   ],
   "source": [
    "all_df['Age_code'] = pd.qcut(all_df['Age'], 5, labels=False)\n",
    "all_df.head(20)"
   ]
  },
  {
   "cell_type": "code",
   "execution_count": 35,
   "id": "advisory-median",
   "metadata": {
    "execution": {
     "iopub.execute_input": "2021-07-06T05:28:22.931630Z",
     "iopub.status.busy": "2021-07-06T05:28:22.930923Z",
     "iopub.status.idle": "2021-07-06T05:28:22.935897Z",
     "shell.execute_reply": "2021-07-06T05:28:22.935362Z",
     "shell.execute_reply.started": "2021-07-06T05:25:09.067301Z"
    },
    "papermill": {
     "duration": 0.083226,
     "end_time": "2021-07-06T05:28:22.936045",
     "exception": false,
     "start_time": "2021-07-06T05:28:22.852819",
     "status": "completed"
    },
    "tags": []
   },
   "outputs": [
    {
     "data": {
      "text/plain": [
       "array(['A/5', 'PC', 'STON/O2.', '', 'PP', 'A/5.', 'C.A.', 'A./5.',\n",
       "       'SC/Paris', 'S.C./A.4.', 'A/4.', 'CA', 'S.P.', 'S.O.C.', 'SO/C',\n",
       "       'W./C.', 'SOTON/OQ', 'W.E.P.', 'A4.', 'C', 'SOTON/O.Q.',\n",
       "       'SC/PARIS', 'S.O.P.', 'A.5.', 'Fa', 'CA.', 'F.C.C.', 'W/C',\n",
       "       'SW/PP', 'SCO/W', 'P/PP', 'SC', 'SC/AH', 'A/S', 'A/4', 'WE/P',\n",
       "       'S.W./PP', 'S.O./P.P.', 'F.C.', 'SOTON/O2', 'S.C./PARIS',\n",
       "       'C.A./SOTON', 'SC/A.3', 'STON/OQ.', 'SC/A4', 'AQ/4', 'LP', 'AQ/3.'],\n",
       "      dtype=object)"
      ]
     },
     "execution_count": 35,
     "metadata": {},
     "output_type": "execute_result"
    }
   ],
   "source": [
    "ticket = []\n",
    "\n",
    "for i in all_df['Ticket']:\n",
    "    temp = i.split(' ')\n",
    "    if len(temp) == 2:\n",
    "        ticket.append(temp[0])\n",
    "    else:\n",
    "        ticket.append('')\n",
    "        \n",
    "ticket = pd.Series(ticket)\n",
    "ticket.unique()"
   ]
  },
  {
   "cell_type": "code",
   "execution_count": 36,
   "id": "apart-satin",
   "metadata": {
    "execution": {
     "iopub.execute_input": "2021-07-06T05:28:23.093037Z",
     "iopub.status.busy": "2021-07-06T05:28:23.082214Z",
     "iopub.status.idle": "2021-07-06T05:28:23.097808Z",
     "shell.execute_reply": "2021-07-06T05:28:23.097123Z",
     "shell.execute_reply.started": "2021-07-06T05:25:09.079453Z"
    },
    "papermill": {
     "duration": 0.093535,
     "end_time": "2021-07-06T05:28:23.097957",
     "exception": false,
     "start_time": "2021-07-06T05:28:23.004422",
     "status": "completed"
    },
    "tags": []
   },
   "outputs": [],
   "source": [
    "for idx, one in enumerate(ticket):\n",
    "    if one == 'A/5' or one == 'A/5.' or one == 'A./5.' or one == 'A.5.': ticket[idx] = 1 \n",
    "    elif one == 'PC': ticket[idx] = 2 \n",
    "    elif one == 'C.A.' or one == 'CA' or one == 'CA.': ticket[idx] = 3 \n",
    "    elif one == 'SC/Paris' or one == 'SC/PARIS' or one == 'S.C./PARIS': ticket[idx] = 4 \n",
    "    elif one == 'A/4.' or one == 'A4.' or one == 'A/4': ticket[idx] = 5 \n",
    "    elif one == 'W./C.' or one == 'W/C': ticket[idx] = 6 \n",
    "    elif one == 'SOTON/OQ' or one == 'SOTON/O.Q.' or one == 'SOTON/O2': ticket[idx] = 7 \n",
    "    elif one == 'C': ticket[idx] = 8 \n",
    "    elif one == 'F.C.C.': ticket[idx] = 9 \n",
    "    elif one == 'S.O./P.P.': ticket[idx] = 10 \n",
    "    else: ticket[idx] = 0 "
   ]
  },
  {
   "cell_type": "code",
   "execution_count": 37,
   "id": "reflected-salmon",
   "metadata": {
    "execution": {
     "iopub.execute_input": "2021-07-06T05:28:23.245740Z",
     "iopub.status.busy": "2021-07-06T05:28:23.245065Z",
     "iopub.status.idle": "2021-07-06T05:28:23.249346Z",
     "shell.execute_reply": "2021-07-06T05:28:23.248742Z",
     "shell.execute_reply.started": "2021-07-06T05:25:09.103326Z"
    },
    "papermill": {
     "duration": 0.083376,
     "end_time": "2021-07-06T05:28:23.249480",
     "exception": false,
     "start_time": "2021-07-06T05:28:23.166104",
     "status": "completed"
    },
    "tags": []
   },
   "outputs": [
    {
     "data": {
      "text/plain": [
       "0     1026\n",
       "2       92\n",
       "3       68\n",
       "1       28\n",
       "7       27\n",
       "4       19\n",
       "6       15\n",
       "5       10\n",
       "9        9\n",
       "8        8\n",
       "10       7\n",
       "Name: Ticket_code, dtype: int64"
      ]
     },
     "execution_count": 37,
     "metadata": {},
     "output_type": "execute_result"
    }
   ],
   "source": [
    "ticket = pd.Series(ticket)\n",
    "all_df['Ticket_code'] = ticket\n",
    "\n",
    "all_df['Ticket_code'].value_counts()"
   ]
  },
  {
   "cell_type": "code",
   "execution_count": 38,
   "id": "organized-window",
   "metadata": {
    "execution": {
     "iopub.execute_input": "2021-07-06T05:28:23.394397Z",
     "iopub.status.busy": "2021-07-06T05:28:23.393426Z",
     "iopub.status.idle": "2021-07-06T05:28:23.398078Z",
     "shell.execute_reply": "2021-07-06T05:28:23.397432Z",
     "shell.execute_reply.started": "2021-07-06T05:25:09.120492Z"
    },
    "papermill": {
     "duration": 0.080623,
     "end_time": "2021-07-06T05:28:23.398236",
     "exception": false,
     "start_time": "2021-07-06T05:28:23.317613",
     "status": "completed"
    },
    "tags": []
   },
   "outputs": [
    {
     "data": {
      "text/plain": [
       "((891, 18), (418, 18))"
      ]
     },
     "execution_count": 38,
     "metadata": {},
     "output_type": "execute_result"
    }
   ],
   "source": [
    "## 891, 418\n",
    "train_1 = all_df.iloc[:891]\n",
    "test_1 = all_df.iloc[891:]\n",
    "\n",
    "train_1.shape, test_1.shape"
   ]
  },
  {
   "cell_type": "code",
   "execution_count": 39,
   "id": "composed-religious",
   "metadata": {
    "execution": {
     "iopub.execute_input": "2021-07-06T05:28:23.544245Z",
     "iopub.status.busy": "2021-07-06T05:28:23.543513Z",
     "iopub.status.idle": "2021-07-06T05:28:23.567689Z",
     "shell.execute_reply": "2021-07-06T05:28:23.566931Z",
     "shell.execute_reply.started": "2021-07-06T05:25:09.135487Z"
    },
    "papermill": {
     "duration": 0.099141,
     "end_time": "2021-07-06T05:28:23.567878",
     "exception": false,
     "start_time": "2021-07-06T05:28:23.468737",
     "status": "completed"
    },
    "tags": []
   },
   "outputs": [
    {
     "name": "stderr",
     "output_type": "stream",
     "text": [
      "/opt/conda/lib/python3.7/site-packages/ipykernel_launcher.py:1: SettingWithCopyWarning: \n",
      "A value is trying to be set on a copy of a slice from a DataFrame.\n",
      "Try using .loc[row_indexer,col_indexer] = value instead\n",
      "\n",
      "See the caveats in the documentation: https://pandas.pydata.org/pandas-docs/stable/user_guide/indexing.html#returning-a-view-versus-a-copy\n",
      "  \"\"\"Entry point for launching an IPython kernel.\n"
     ]
    },
    {
     "data": {
      "text/html": [
       "<div>\n",
       "<style scoped>\n",
       "    .dataframe tbody tr th:only-of-type {\n",
       "        vertical-align: middle;\n",
       "    }\n",
       "\n",
       "    .dataframe tbody tr th {\n",
       "        vertical-align: top;\n",
       "    }\n",
       "\n",
       "    .dataframe thead th {\n",
       "        text-align: right;\n",
       "    }\n",
       "</style>\n",
       "<table border=\"1\" class=\"dataframe\">\n",
       "  <thead>\n",
       "    <tr style=\"text-align: right;\">\n",
       "      <th></th>\n",
       "      <th>PassengerId</th>\n",
       "      <th>Pclass</th>\n",
       "      <th>Name</th>\n",
       "      <th>Sex</th>\n",
       "      <th>Age</th>\n",
       "      <th>SibSp</th>\n",
       "      <th>Parch</th>\n",
       "      <th>Ticket</th>\n",
       "      <th>Fare</th>\n",
       "      <th>Cabin</th>\n",
       "      <th>Embarked</th>\n",
       "      <th>Family_size</th>\n",
       "      <th>Cabin_bool</th>\n",
       "      <th>Title</th>\n",
       "      <th>Fare_code</th>\n",
       "      <th>Cabin_First</th>\n",
       "      <th>Age_code</th>\n",
       "      <th>Ticket_code</th>\n",
       "      <th>Survived</th>\n",
       "    </tr>\n",
       "  </thead>\n",
       "  <tbody>\n",
       "    <tr>\n",
       "      <th>0</th>\n",
       "      <td>1</td>\n",
       "      <td>3</td>\n",
       "      <td>Braund, Mr. Owen Harris</td>\n",
       "      <td>1</td>\n",
       "      <td>22.0</td>\n",
       "      <td>1</td>\n",
       "      <td>0</td>\n",
       "      <td>A/5 21171</td>\n",
       "      <td>7.2500</td>\n",
       "      <td>NaN</td>\n",
       "      <td>1</td>\n",
       "      <td>2</td>\n",
       "      <td>0</td>\n",
       "      <td>1</td>\n",
       "      <td>0</td>\n",
       "      <td>6.0</td>\n",
       "      <td>1</td>\n",
       "      <td>1</td>\n",
       "      <td>0</td>\n",
       "    </tr>\n",
       "    <tr>\n",
       "      <th>1</th>\n",
       "      <td>2</td>\n",
       "      <td>1</td>\n",
       "      <td>Cumings, Mrs. John Bradley (Florence Briggs Th...</td>\n",
       "      <td>2</td>\n",
       "      <td>38.0</td>\n",
       "      <td>1</td>\n",
       "      <td>0</td>\n",
       "      <td>PC 17599</td>\n",
       "      <td>71.2833</td>\n",
       "      <td>C85</td>\n",
       "      <td>2</td>\n",
       "      <td>2</td>\n",
       "      <td>1</td>\n",
       "      <td>2</td>\n",
       "      <td>4</td>\n",
       "      <td>2.0</td>\n",
       "      <td>3</td>\n",
       "      <td>2</td>\n",
       "      <td>1</td>\n",
       "    </tr>\n",
       "    <tr>\n",
       "      <th>2</th>\n",
       "      <td>3</td>\n",
       "      <td>3</td>\n",
       "      <td>Heikkinen, Miss. Laina</td>\n",
       "      <td>2</td>\n",
       "      <td>26.0</td>\n",
       "      <td>0</td>\n",
       "      <td>0</td>\n",
       "      <td>STON/O2. 3101282</td>\n",
       "      <td>7.9250</td>\n",
       "      <td>NaN</td>\n",
       "      <td>1</td>\n",
       "      <td>1</td>\n",
       "      <td>0</td>\n",
       "      <td>3</td>\n",
       "      <td>1</td>\n",
       "      <td>6.0</td>\n",
       "      <td>1</td>\n",
       "      <td>0</td>\n",
       "      <td>1</td>\n",
       "    </tr>\n",
       "    <tr>\n",
       "      <th>3</th>\n",
       "      <td>4</td>\n",
       "      <td>1</td>\n",
       "      <td>Futrelle, Mrs. Jacques Heath (Lily May Peel)</td>\n",
       "      <td>2</td>\n",
       "      <td>35.0</td>\n",
       "      <td>1</td>\n",
       "      <td>0</td>\n",
       "      <td>113803</td>\n",
       "      <td>53.1000</td>\n",
       "      <td>C123</td>\n",
       "      <td>1</td>\n",
       "      <td>2</td>\n",
       "      <td>1</td>\n",
       "      <td>2</td>\n",
       "      <td>4</td>\n",
       "      <td>2.0</td>\n",
       "      <td>3</td>\n",
       "      <td>0</td>\n",
       "      <td>1</td>\n",
       "    </tr>\n",
       "    <tr>\n",
       "      <th>4</th>\n",
       "      <td>5</td>\n",
       "      <td>3</td>\n",
       "      <td>Allen, Mr. William Henry</td>\n",
       "      <td>1</td>\n",
       "      <td>35.0</td>\n",
       "      <td>0</td>\n",
       "      <td>0</td>\n",
       "      <td>373450</td>\n",
       "      <td>8.0500</td>\n",
       "      <td>NaN</td>\n",
       "      <td>1</td>\n",
       "      <td>1</td>\n",
       "      <td>0</td>\n",
       "      <td>1</td>\n",
       "      <td>1</td>\n",
       "      <td>6.0</td>\n",
       "      <td>3</td>\n",
       "      <td>0</td>\n",
       "      <td>0</td>\n",
       "    </tr>\n",
       "  </tbody>\n",
       "</table>\n",
       "</div>"
      ],
      "text/plain": [
       "   PassengerId  Pclass                                               Name  \\\n",
       "0            1       3                            Braund, Mr. Owen Harris   \n",
       "1            2       1  Cumings, Mrs. John Bradley (Florence Briggs Th...   \n",
       "2            3       3                             Heikkinen, Miss. Laina   \n",
       "3            4       1       Futrelle, Mrs. Jacques Heath (Lily May Peel)   \n",
       "4            5       3                           Allen, Mr. William Henry   \n",
       "\n",
       "   Sex   Age  SibSp  Parch            Ticket     Fare Cabin  Embarked  \\\n",
       "0    1  22.0      1      0         A/5 21171   7.2500   NaN         1   \n",
       "1    2  38.0      1      0          PC 17599  71.2833   C85         2   \n",
       "2    2  26.0      0      0  STON/O2. 3101282   7.9250   NaN         1   \n",
       "3    2  35.0      1      0            113803  53.1000  C123         1   \n",
       "4    1  35.0      0      0            373450   8.0500   NaN         1   \n",
       "\n",
       "   Family_size  Cabin_bool  Title  Fare_code Cabin_First  Age_code  \\\n",
       "0            2           0      1          0         6.0         1   \n",
       "1            2           1      2          4         2.0         3   \n",
       "2            1           0      3          1         6.0         1   \n",
       "3            2           1      2          4         2.0         3   \n",
       "4            1           0      1          1         6.0         3   \n",
       "\n",
       "  Ticket_code  Survived  \n",
       "0           1         0  \n",
       "1           2         1  \n",
       "2           0         1  \n",
       "3           0         1  \n",
       "4           0         0  "
      ]
     },
     "execution_count": 39,
     "metadata": {},
     "output_type": "execute_result"
    }
   ],
   "source": [
    "train_1['Survived'] = train['Survived']\n",
    "train_1.head()"
   ]
  },
  {
   "cell_type": "code",
   "execution_count": 40,
   "id": "exotic-helping",
   "metadata": {
    "execution": {
     "iopub.execute_input": "2021-07-06T05:28:23.728672Z",
     "iopub.status.busy": "2021-07-06T05:28:23.727550Z",
     "iopub.status.idle": "2021-07-06T05:28:23.737638Z",
     "shell.execute_reply": "2021-07-06T05:28:23.738457Z",
     "shell.execute_reply.started": "2021-07-06T05:25:09.172717Z"
    },
    "papermill": {
     "duration": 0.099713,
     "end_time": "2021-07-06T05:28:23.738789",
     "exception": false,
     "start_time": "2021-07-06T05:28:23.639076",
     "status": "completed"
    },
    "tags": []
   },
   "outputs": [],
   "source": [
    "sel = ['Pclass', 'Sex', 'Age', 'SibSp', 'Parch', 'Fare_code', 'Age_code', 'Embarked', 'Ticket_code', 'Title', 'Cabin_First']\n",
    "\n",
    "X_train = train_1[sel]\n",
    "X_test = test_1[sel]\n",
    "\n",
    "y_train = train_1['Survived']"
   ]
  },
  {
   "cell_type": "code",
   "execution_count": 41,
   "id": "express-project",
   "metadata": {
    "execution": {
     "iopub.execute_input": "2021-07-06T05:28:23.912154Z",
     "iopub.status.busy": "2021-07-06T05:28:23.911080Z",
     "iopub.status.idle": "2021-07-06T05:28:23.916623Z",
     "shell.execute_reply": "2021-07-06T05:28:23.915996Z",
     "shell.execute_reply.started": "2021-07-06T05:25:09.184998Z"
    },
    "papermill": {
     "duration": 0.085366,
     "end_time": "2021-07-06T05:28:23.916799",
     "exception": false,
     "start_time": "2021-07-06T05:28:23.831433",
     "status": "completed"
    },
    "tags": []
   },
   "outputs": [
    {
     "data": {
      "text/plain": [
       "(Pclass         0\n",
       " Sex            0\n",
       " Age            0\n",
       " SibSp          0\n",
       " Parch          0\n",
       " Fare_code      0\n",
       " Age_code       0\n",
       " Embarked       0\n",
       " Ticket_code    0\n",
       " Title          0\n",
       " Cabin_First    0\n",
       " dtype: int64,\n",
       " 0)"
      ]
     },
     "execution_count": 41,
     "metadata": {},
     "output_type": "execute_result"
    }
   ],
   "source": [
    "X_train.isnull().sum(), y_train.isnull().sum()"
   ]
  },
  {
   "cell_type": "code",
   "execution_count": 42,
   "id": "scientific-slovak",
   "metadata": {
    "execution": {
     "iopub.execute_input": "2021-07-06T05:28:24.067977Z",
     "iopub.status.busy": "2021-07-06T05:28:24.067150Z",
     "iopub.status.idle": "2021-07-06T05:28:24.836291Z",
     "shell.execute_reply": "2021-07-06T05:28:24.835730Z",
     "shell.execute_reply.started": "2021-07-06T05:25:09.20362Z"
    },
    "papermill": {
     "duration": 0.846413,
     "end_time": "2021-07-06T05:28:24.836463",
     "exception": false,
     "start_time": "2021-07-06T05:28:23.990050",
     "status": "completed"
    },
    "tags": []
   },
   "outputs": [
    {
     "data": {
      "text/plain": [
       "array([0, 0, 0, 0, 1, 0, 0, 0, 1, 0, 0, 0, 1, 0, 1, 1, 0, 0, 0, 1, 0, 1,\n",
       "       1, 0, 1, 0, 1, 0, 0, 0, 0, 0, 1, 1, 0, 0, 0, 0, 0, 1, 0, 1, 0, 1,\n",
       "       1, 0, 0, 0, 1, 1, 0, 0, 1, 1, 0, 0, 0, 0, 0, 1, 0, 1, 0, 1, 1, 1,\n",
       "       1, 0, 0, 1, 1, 0, 0, 1, 1, 0, 0, 1, 0, 1, 1, 0, 0, 0, 0, 0, 1, 1,\n",
       "       0, 1, 1, 0, 1, 0, 1, 0, 1, 0, 1, 0, 1, 0, 0, 0, 1, 0, 0, 0, 0, 0,\n",
       "       0, 1, 1, 0, 1, 0, 0, 1, 0, 1, 1, 0, 1, 0, 0, 0, 0, 1, 1, 0, 0, 1,\n",
       "       0, 0, 0, 0, 0, 0, 0, 0, 0, 1, 0, 0, 0, 0, 0, 0, 1, 0, 1, 0, 0, 1,\n",
       "       0, 1, 1, 1, 0, 1, 1, 1, 0, 0, 0, 0, 0, 0, 1, 0, 0, 0, 0, 0, 0, 1,\n",
       "       1, 1, 1, 1, 0, 1, 1, 0, 1, 0, 1, 0, 0, 0, 0, 1, 1, 0, 1, 0, 1, 1,\n",
       "       0, 0, 1, 1, 1, 1, 0, 0, 0, 0, 1, 0, 0, 0, 0, 1, 0, 0, 1, 0, 1, 0,\n",
       "       1, 0, 1, 0, 1, 0, 0, 1, 0, 0, 0, 1, 0, 0, 0, 0, 0, 0, 1, 1, 1, 1,\n",
       "       0, 0, 1, 1, 1, 0, 1, 0, 1, 0, 1, 0, 0, 0, 0, 0, 1, 0, 0, 0, 1, 1,\n",
       "       0, 0, 0, 0, 0, 0, 0, 0, 1, 1, 0, 1, 0, 0, 0, 0, 0, 1, 1, 0, 1, 0,\n",
       "       0, 1, 0, 0, 0, 0, 0, 1, 0, 0, 1, 0, 0, 0, 1, 1, 0, 0, 1, 1, 0, 1,\n",
       "       0, 0, 0, 0, 0, 0, 1, 1, 0, 0, 1, 0, 0, 0, 0, 1, 1, 0, 1, 0, 0, 0,\n",
       "       1, 0, 0, 0, 0, 0, 1, 0, 0, 1, 0, 1, 0, 1, 1, 0, 0, 1, 0, 1, 1, 0,\n",
       "       0, 0, 1, 1, 1, 0, 0, 0, 0, 1, 1, 0, 1, 0, 0, 0, 1, 0, 0, 1, 0, 0,\n",
       "       1, 1, 0, 0, 0, 0, 0, 0, 1, 0, 0, 1, 0, 0, 0, 0, 0, 1, 1, 0, 0, 1,\n",
       "       0, 1, 0, 0, 1, 0, 1, 0, 1, 0, 0, 0, 1, 1, 1, 1, 0, 0, 1, 0, 0, 1])"
      ]
     },
     "execution_count": 42,
     "metadata": {},
     "output_type": "execute_result"
    }
   ],
   "source": [
    "from sklearn.ensemble import RandomForestClassifier\n",
    "\n",
    "dc_tree = RandomForestClassifier()\n",
    "dc_tree.fit(X_train, y_train)\n",
    "\n",
    "pred = dc_tree.predict(X_test)\n",
    "pred"
   ]
  },
  {
   "cell_type": "code",
   "execution_count": 43,
   "id": "moderate-elite",
   "metadata": {
    "execution": {
     "iopub.execute_input": "2021-07-06T05:28:24.986708Z",
     "iopub.status.busy": "2021-07-06T05:28:24.986028Z",
     "iopub.status.idle": "2021-07-06T05:28:25.004842Z",
     "shell.execute_reply": "2021-07-06T05:28:25.004215Z",
     "shell.execute_reply.started": "2021-07-06T05:25:32.956064Z"
    },
    "papermill": {
     "duration": 0.096153,
     "end_time": "2021-07-06T05:28:25.005019",
     "exception": false,
     "start_time": "2021-07-06T05:28:24.908866",
     "status": "completed"
    },
    "tags": []
   },
   "outputs": [],
   "source": [
    "from sklearn.metrics import accuracy_score\n",
    "\n",
    "sub = pd.read_csv('/kaggle/input/titanic/gender_submission.csv')\n",
    "# sub_1 = sub.copy()\n",
    "\n",
    "sub['Survived'] = pred\n",
    "# accuracy_score(sub['Survived'], pred)\n",
    "\n",
    "\n",
    "sub.to_csv('decision_second_model.csv', index=False)"
   ]
  },
  {
   "cell_type": "code",
   "execution_count": 44,
   "id": "interracial-crazy",
   "metadata": {
    "execution": {
     "iopub.execute_input": "2021-07-06T05:28:25.155904Z",
     "iopub.status.busy": "2021-07-06T05:28:25.155190Z",
     "iopub.status.idle": "2021-07-06T05:28:25.161438Z",
     "shell.execute_reply": "2021-07-06T05:28:25.161917Z",
     "shell.execute_reply.started": "2021-07-06T05:25:09.475683Z"
    },
    "papermill": {
     "duration": 0.082589,
     "end_time": "2021-07-06T05:28:25.162135",
     "exception": false,
     "start_time": "2021-07-06T05:28:25.079546",
     "status": "completed"
    },
    "tags": []
   },
   "outputs": [
    {
     "data": {
      "text/plain": [
       "0      0\n",
       "1      0\n",
       "2      0\n",
       "3      0\n",
       "4      1\n",
       "      ..\n",
       "413    0\n",
       "414    1\n",
       "415    0\n",
       "416    0\n",
       "417    1\n",
       "Name: Survived, Length: 418, dtype: int64"
      ]
     },
     "execution_count": 44,
     "metadata": {},
     "output_type": "execute_result"
    }
   ],
   "source": [
    "sub['Survived']"
   ]
  },
  {
   "cell_type": "code",
   "execution_count": null,
   "id": "breathing-snake",
   "metadata": {
    "papermill": {
     "duration": 0.07068,
     "end_time": "2021-07-06T05:28:25.303584",
     "exception": false,
     "start_time": "2021-07-06T05:28:25.232904",
     "status": "completed"
    },
    "tags": []
   },
   "outputs": [],
   "source": []
  },
  {
   "cell_type": "code",
   "execution_count": null,
   "id": "featured-department",
   "metadata": {
    "papermill": {
     "duration": 0.070766,
     "end_time": "2021-07-06T05:28:25.446467",
     "exception": false,
     "start_time": "2021-07-06T05:28:25.375701",
     "status": "completed"
    },
    "tags": []
   },
   "outputs": [],
   "source": []
  },
  {
   "cell_type": "code",
   "execution_count": null,
   "id": "moving-measurement",
   "metadata": {
    "papermill": {
     "duration": 0.070595,
     "end_time": "2021-07-06T05:28:25.588039",
     "exception": false,
     "start_time": "2021-07-06T05:28:25.517444",
     "status": "completed"
    },
    "tags": []
   },
   "outputs": [],
   "source": []
  },
  {
   "cell_type": "code",
   "execution_count": null,
   "id": "popular-niagara",
   "metadata": {
    "papermill": {
     "duration": 0.070362,
     "end_time": "2021-07-06T05:28:25.729004",
     "exception": false,
     "start_time": "2021-07-06T05:28:25.658642",
     "status": "completed"
    },
    "tags": []
   },
   "outputs": [],
   "source": []
  },
  {
   "cell_type": "code",
   "execution_count": null,
   "id": "previous-headline",
   "metadata": {
    "papermill": {
     "duration": 0.071704,
     "end_time": "2021-07-06T05:28:25.871532",
     "exception": false,
     "start_time": "2021-07-06T05:28:25.799828",
     "status": "completed"
    },
    "tags": []
   },
   "outputs": [],
   "source": []
  },
  {
   "cell_type": "code",
   "execution_count": null,
   "id": "consecutive-rogers",
   "metadata": {
    "papermill": {
     "duration": 0.070605,
     "end_time": "2021-07-06T05:28:26.013613",
     "exception": false,
     "start_time": "2021-07-06T05:28:25.943008",
     "status": "completed"
    },
    "tags": []
   },
   "outputs": [],
   "source": []
  },
  {
   "cell_type": "code",
   "execution_count": null,
   "id": "imperial-reasoning",
   "metadata": {
    "papermill": {
     "duration": 0.069454,
     "end_time": "2021-07-06T05:28:26.153006",
     "exception": false,
     "start_time": "2021-07-06T05:28:26.083552",
     "status": "completed"
    },
    "tags": []
   },
   "outputs": [],
   "source": []
  },
  {
   "cell_type": "code",
   "execution_count": null,
   "id": "numerical-wildlife",
   "metadata": {
    "papermill": {
     "duration": 0.069501,
     "end_time": "2021-07-06T05:28:26.292511",
     "exception": false,
     "start_time": "2021-07-06T05:28:26.223010",
     "status": "completed"
    },
    "tags": []
   },
   "outputs": [],
   "source": []
  },
  {
   "cell_type": "code",
   "execution_count": null,
   "id": "focused-payday",
   "metadata": {
    "papermill": {
     "duration": 0.070129,
     "end_time": "2021-07-06T05:28:26.433678",
     "exception": false,
     "start_time": "2021-07-06T05:28:26.363549",
     "status": "completed"
    },
    "tags": []
   },
   "outputs": [],
   "source": []
  },
  {
   "cell_type": "code",
   "execution_count": null,
   "id": "transsexual-marker",
   "metadata": {
    "papermill": {
     "duration": 0.069303,
     "end_time": "2021-07-06T05:28:26.572508",
     "exception": false,
     "start_time": "2021-07-06T05:28:26.503205",
     "status": "completed"
    },
    "tags": []
   },
   "outputs": [],
   "source": []
  },
  {
   "cell_type": "code",
   "execution_count": null,
   "id": "elder-complexity",
   "metadata": {
    "papermill": {
     "duration": 0.069359,
     "end_time": "2021-07-06T05:28:26.711471",
     "exception": false,
     "start_time": "2021-07-06T05:28:26.642112",
     "status": "completed"
    },
    "tags": []
   },
   "outputs": [],
   "source": []
  }
 ],
 "metadata": {
  "kernelspec": {
   "display_name": "Python 3",
   "language": "python",
   "name": "python3"
  },
  "language_info": {
   "codemirror_mode": {
    "name": "ipython",
    "version": 3
   },
   "file_extension": ".py",
   "mimetype": "text/x-python",
   "name": "python",
   "nbconvert_exporter": "python",
   "pygments_lexer": "ipython3",
   "version": "3.7.10"
  },
  "papermill": {
   "default_parameters": {},
   "duration": 35.92056,
   "end_time": "2021-07-06T05:28:28.943975",
   "environment_variables": {},
   "exception": null,
   "input_path": "__notebook__.ipynb",
   "output_path": "__notebook__.ipynb",
   "parameters": {},
   "start_time": "2021-07-06T05:27:53.023415",
   "version": "2.3.3"
  }
 },
 "nbformat": 4,
 "nbformat_minor": 5
}
