{
 "cells": [
  {
   "cell_type": "code",
   "execution_count": 1,
   "id": "korean-flesh",
   "metadata": {
    "_cell_guid": "b1076dfc-b9ad-4769-8c92-a6c4dae69d19",
    "_uuid": "8f2839f25d086af736a60e9eeb907d3b93b6e0e5",
    "execution": {
     "iopub.execute_input": "2021-07-05T06:38:31.070986Z",
     "iopub.status.busy": "2021-07-05T06:38:31.069956Z",
     "iopub.status.idle": "2021-07-05T06:38:31.081415Z",
     "shell.execute_reply": "2021-07-05T06:38:31.080712Z",
     "shell.execute_reply.started": "2021-07-05T06:11:03.153128Z"
    },
    "papermill": {
     "duration": 0.043252,
     "end_time": "2021-07-05T06:38:31.081590",
     "exception": false,
     "start_time": "2021-07-05T06:38:31.038338",
     "status": "completed"
    },
    "tags": []
   },
   "outputs": [
    {
     "name": "stdout",
     "output_type": "stream",
     "text": [
      "/kaggle/input/titanic/train.csv\n",
      "/kaggle/input/titanic/test.csv\n",
      "/kaggle/input/titanic/gender_submission.csv\n"
     ]
    }
   ],
   "source": [
    "import numpy as np # linear algebra\n",
    "import pandas as pd # data processing, CSV file I/O (e.g. pd.read_csv)\n",
    "\n",
    "import os\n",
    "for dirname, _, filenames in os.walk('/kaggle/input'):\n",
    "    for filename in filenames:\n",
    "        print(os.path.join(dirname, filename))"
   ]
  },
  {
   "cell_type": "code",
   "execution_count": 2,
   "id": "level-holder",
   "metadata": {
    "execution": {
     "iopub.execute_input": "2021-07-05T06:38:31.154455Z",
     "iopub.status.busy": "2021-07-05T06:38:31.153542Z",
     "iopub.status.idle": "2021-07-05T06:38:31.189899Z",
     "shell.execute_reply": "2021-07-05T06:38:31.190434Z",
     "shell.execute_reply.started": "2021-07-05T06:11:03.174131Z"
    },
    "papermill": {
     "duration": 0.080972,
     "end_time": "2021-07-05T06:38:31.190653",
     "exception": false,
     "start_time": "2021-07-05T06:38:31.109681",
     "status": "completed"
    },
    "tags": []
   },
   "outputs": [
    {
     "data": {
      "text/plain": [
       "((891, 12), (418, 11), (418, 2))"
      ]
     },
     "execution_count": 2,
     "metadata": {},
     "output_type": "execute_result"
    }
   ],
   "source": [
    "train = pd.read_csv('/kaggle/input/titanic/train.csv')\n",
    "test = pd.read_csv('/kaggle/input/titanic/test.csv')\n",
    "sub = pd.read_csv('/kaggle/input/titanic/gender_submission.csv')\n",
    "\n",
    "train.shape, test.shape, sub.shape"
   ]
  },
  {
   "cell_type": "code",
   "execution_count": 3,
   "id": "stretch-expansion",
   "metadata": {
    "execution": {
     "iopub.execute_input": "2021-07-05T06:38:31.268876Z",
     "iopub.status.busy": "2021-07-05T06:38:31.268226Z",
     "iopub.status.idle": "2021-07-05T06:38:31.285704Z",
     "shell.execute_reply": "2021-07-05T06:38:31.286151Z",
     "shell.execute_reply.started": "2021-07-05T06:11:03.218714Z"
    },
    "papermill": {
     "duration": 0.063571,
     "end_time": "2021-07-05T06:38:31.286341",
     "exception": false,
     "start_time": "2021-07-05T06:38:31.222770",
     "status": "completed"
    },
    "tags": []
   },
   "outputs": [
    {
     "name": "stdout",
     "output_type": "stream",
     "text": [
      "<class 'pandas.core.frame.DataFrame'>\n",
      "RangeIndex: 891 entries, 0 to 890\n",
      "Data columns (total 12 columns):\n",
      " #   Column       Non-Null Count  Dtype  \n",
      "---  ------       --------------  -----  \n",
      " 0   PassengerId  891 non-null    int64  \n",
      " 1   Survived     891 non-null    int64  \n",
      " 2   Pclass       891 non-null    int64  \n",
      " 3   Name         891 non-null    object \n",
      " 4   Sex          891 non-null    object \n",
      " 5   Age          714 non-null    float64\n",
      " 6   SibSp        891 non-null    int64  \n",
      " 7   Parch        891 non-null    int64  \n",
      " 8   Ticket       891 non-null    object \n",
      " 9   Fare         891 non-null    float64\n",
      " 10  Cabin        204 non-null    object \n",
      " 11  Embarked     889 non-null    object \n",
      "dtypes: float64(2), int64(5), object(5)\n",
      "memory usage: 83.7+ KB\n"
     ]
    }
   ],
   "source": [
    "train.info()"
   ]
  },
  {
   "cell_type": "code",
   "execution_count": 4,
   "id": "worse-corpus",
   "metadata": {
    "execution": {
     "iopub.execute_input": "2021-07-05T06:38:31.348541Z",
     "iopub.status.busy": "2021-07-05T06:38:31.347924Z",
     "iopub.status.idle": "2021-07-05T06:38:31.360081Z",
     "shell.execute_reply": "2021-07-05T06:38:31.360485Z",
     "shell.execute_reply.started": "2021-07-05T06:11:03.245590Z"
    },
    "papermill": {
     "duration": 0.045242,
     "end_time": "2021-07-05T06:38:31.360674",
     "exception": false,
     "start_time": "2021-07-05T06:38:31.315432",
     "status": "completed"
    },
    "tags": []
   },
   "outputs": [
    {
     "name": "stdout",
     "output_type": "stream",
     "text": [
      "<class 'pandas.core.frame.DataFrame'>\n",
      "RangeIndex: 418 entries, 0 to 417\n",
      "Data columns (total 11 columns):\n",
      " #   Column       Non-Null Count  Dtype  \n",
      "---  ------       --------------  -----  \n",
      " 0   PassengerId  418 non-null    int64  \n",
      " 1   Pclass       418 non-null    int64  \n",
      " 2   Name         418 non-null    object \n",
      " 3   Sex          418 non-null    object \n",
      " 4   Age          332 non-null    float64\n",
      " 5   SibSp        418 non-null    int64  \n",
      " 6   Parch        418 non-null    int64  \n",
      " 7   Ticket       418 non-null    object \n",
      " 8   Fare         417 non-null    float64\n",
      " 9   Cabin        91 non-null     object \n",
      " 10  Embarked     418 non-null    object \n",
      "dtypes: float64(2), int64(4), object(5)\n",
      "memory usage: 36.0+ KB\n"
     ]
    }
   ],
   "source": [
    "test.info()"
   ]
  },
  {
   "cell_type": "code",
   "execution_count": 5,
   "id": "specified-timing",
   "metadata": {
    "execution": {
     "iopub.execute_input": "2021-07-05T06:38:31.427293Z",
     "iopub.status.busy": "2021-07-05T06:38:31.426436Z",
     "iopub.status.idle": "2021-07-05T06:38:31.442380Z",
     "shell.execute_reply": "2021-07-05T06:38:31.442923Z",
     "shell.execute_reply.started": "2021-07-05T06:11:03.267545Z"
    },
    "papermill": {
     "duration": 0.052705,
     "end_time": "2021-07-05T06:38:31.443101",
     "exception": false,
     "start_time": "2021-07-05T06:38:31.390396",
     "status": "completed"
    },
    "tags": []
   },
   "outputs": [
    {
     "data": {
      "text/plain": [
       "(PassengerId      0\n",
       " Survived         0\n",
       " Pclass           0\n",
       " Name             0\n",
       " Sex              0\n",
       " Age            177\n",
       " SibSp            0\n",
       " Parch            0\n",
       " Ticket           0\n",
       " Fare             0\n",
       " Cabin          687\n",
       " Embarked         0\n",
       " dtype: int64,\n",
       " PassengerId      0\n",
       " Pclass           0\n",
       " Name             0\n",
       " Sex              0\n",
       " Age             86\n",
       " SibSp            0\n",
       " Parch            0\n",
       " Ticket           0\n",
       " Fare             0\n",
       " Cabin          327\n",
       " Embarked         0\n",
       " dtype: int64)"
      ]
     },
     "execution_count": 5,
     "metadata": {},
     "output_type": "execute_result"
    }
   ],
   "source": [
    "### 결측치 처리하기\n",
    "## train - Embarked\n",
    "## test - Fare\n",
    "\n",
    "train['Embarked'].value_counts()  # 확인용\n",
    "train['Embarked'] = train['Embarked'].fillna('Q')\n",
    "\n",
    "test['Fare'] = test['Fare'].fillna(test['Fare'].mean())\n",
    "\n",
    "train.isnull().sum(), test.isnull().sum()"
   ]
  },
  {
   "cell_type": "code",
   "execution_count": 6,
   "id": "productive-costa",
   "metadata": {
    "execution": {
     "iopub.execute_input": "2021-07-05T06:38:31.512604Z",
     "iopub.status.busy": "2021-07-05T06:38:31.511919Z",
     "iopub.status.idle": "2021-07-05T06:38:31.531828Z",
     "shell.execute_reply": "2021-07-05T06:38:31.531212Z",
     "shell.execute_reply.started": "2021-07-05T06:11:03.293624Z"
    },
    "papermill": {
     "duration": 0.055061,
     "end_time": "2021-07-05T06:38:31.531966",
     "exception": false,
     "start_time": "2021-07-05T06:38:31.476905",
     "status": "completed"
    },
    "tags": []
   },
   "outputs": [
    {
     "data": {
      "text/html": [
       "<div>\n",
       "<style scoped>\n",
       "    .dataframe tbody tr th:only-of-type {\n",
       "        vertical-align: middle;\n",
       "    }\n",
       "\n",
       "    .dataframe tbody tr th {\n",
       "        vertical-align: top;\n",
       "    }\n",
       "\n",
       "    .dataframe thead th {\n",
       "        text-align: right;\n",
       "    }\n",
       "</style>\n",
       "<table border=\"1\" class=\"dataframe\">\n",
       "  <thead>\n",
       "    <tr style=\"text-align: right;\">\n",
       "      <th></th>\n",
       "      <th>PassengerId</th>\n",
       "      <th>Survived</th>\n",
       "      <th>Pclass</th>\n",
       "      <th>Name</th>\n",
       "      <th>Sex</th>\n",
       "      <th>Age</th>\n",
       "      <th>SibSp</th>\n",
       "      <th>Parch</th>\n",
       "      <th>Ticket</th>\n",
       "      <th>Fare</th>\n",
       "      <th>Cabin</th>\n",
       "      <th>Embarked</th>\n",
       "    </tr>\n",
       "  </thead>\n",
       "  <tbody>\n",
       "    <tr>\n",
       "      <th>0</th>\n",
       "      <td>1</td>\n",
       "      <td>0</td>\n",
       "      <td>3</td>\n",
       "      <td>Braund, Mr. Owen Harris</td>\n",
       "      <td>male</td>\n",
       "      <td>22.0</td>\n",
       "      <td>1</td>\n",
       "      <td>0</td>\n",
       "      <td>A/5 21171</td>\n",
       "      <td>7.2500</td>\n",
       "      <td>NaN</td>\n",
       "      <td>S</td>\n",
       "    </tr>\n",
       "    <tr>\n",
       "      <th>1</th>\n",
       "      <td>2</td>\n",
       "      <td>1</td>\n",
       "      <td>1</td>\n",
       "      <td>Cumings, Mrs. John Bradley (Florence Briggs Th...</td>\n",
       "      <td>female</td>\n",
       "      <td>38.0</td>\n",
       "      <td>1</td>\n",
       "      <td>0</td>\n",
       "      <td>PC 17599</td>\n",
       "      <td>71.2833</td>\n",
       "      <td>C85</td>\n",
       "      <td>C</td>\n",
       "    </tr>\n",
       "    <tr>\n",
       "      <th>2</th>\n",
       "      <td>3</td>\n",
       "      <td>1</td>\n",
       "      <td>3</td>\n",
       "      <td>Heikkinen, Miss. Laina</td>\n",
       "      <td>female</td>\n",
       "      <td>26.0</td>\n",
       "      <td>0</td>\n",
       "      <td>0</td>\n",
       "      <td>STON/O2. 3101282</td>\n",
       "      <td>7.9250</td>\n",
       "      <td>NaN</td>\n",
       "      <td>S</td>\n",
       "    </tr>\n",
       "    <tr>\n",
       "      <th>3</th>\n",
       "      <td>4</td>\n",
       "      <td>1</td>\n",
       "      <td>1</td>\n",
       "      <td>Futrelle, Mrs. Jacques Heath (Lily May Peel)</td>\n",
       "      <td>female</td>\n",
       "      <td>35.0</td>\n",
       "      <td>1</td>\n",
       "      <td>0</td>\n",
       "      <td>113803</td>\n",
       "      <td>53.1000</td>\n",
       "      <td>C123</td>\n",
       "      <td>S</td>\n",
       "    </tr>\n",
       "    <tr>\n",
       "      <th>4</th>\n",
       "      <td>5</td>\n",
       "      <td>0</td>\n",
       "      <td>3</td>\n",
       "      <td>Allen, Mr. William Henry</td>\n",
       "      <td>male</td>\n",
       "      <td>35.0</td>\n",
       "      <td>0</td>\n",
       "      <td>0</td>\n",
       "      <td>373450</td>\n",
       "      <td>8.0500</td>\n",
       "      <td>NaN</td>\n",
       "      <td>S</td>\n",
       "    </tr>\n",
       "  </tbody>\n",
       "</table>\n",
       "</div>"
      ],
      "text/plain": [
       "   PassengerId  Survived  Pclass  \\\n",
       "0            1         0       3   \n",
       "1            2         1       1   \n",
       "2            3         1       3   \n",
       "3            4         1       1   \n",
       "4            5         0       3   \n",
       "\n",
       "                                                Name     Sex   Age  SibSp  \\\n",
       "0                            Braund, Mr. Owen Harris    male  22.0      1   \n",
       "1  Cumings, Mrs. John Bradley (Florence Briggs Th...  female  38.0      1   \n",
       "2                             Heikkinen, Miss. Laina  female  26.0      0   \n",
       "3       Futrelle, Mrs. Jacques Heath (Lily May Peel)  female  35.0      1   \n",
       "4                           Allen, Mr. William Henry    male  35.0      0   \n",
       "\n",
       "   Parch            Ticket     Fare Cabin Embarked  \n",
       "0      0         A/5 21171   7.2500   NaN        S  \n",
       "1      0          PC 17599  71.2833   C85        C  \n",
       "2      0  STON/O2. 3101282   7.9250   NaN        S  \n",
       "3      0            113803  53.1000  C123        S  \n",
       "4      0            373450   8.0500   NaN        S  "
      ]
     },
     "execution_count": 6,
     "metadata": {},
     "output_type": "execute_result"
    }
   ],
   "source": [
    "train.head()"
   ]
  },
  {
   "cell_type": "code",
   "execution_count": 7,
   "id": "documentary-award",
   "metadata": {
    "execution": {
     "iopub.execute_input": "2021-07-05T06:38:31.597414Z",
     "iopub.status.busy": "2021-07-05T06:38:31.596786Z",
     "iopub.status.idle": "2021-07-05T06:38:31.599801Z",
     "shell.execute_reply": "2021-07-05T06:38:31.599341Z",
     "shell.execute_reply.started": "2021-07-05T06:11:03.316962Z"
    },
    "papermill": {
     "duration": 0.038813,
     "end_time": "2021-07-05T06:38:31.599935",
     "exception": false,
     "start_time": "2021-07-05T06:38:31.561122",
     "status": "completed"
    },
    "tags": []
   },
   "outputs": [],
   "source": [
    "sel = ['Pclass', 'SibSp', 'Parch']\n",
    "\n",
    "X_train = train[sel]\n",
    "X_test = test[sel]\n",
    "y_train = train['Survived']"
   ]
  },
  {
   "cell_type": "code",
   "execution_count": 8,
   "id": "thick-color",
   "metadata": {
    "execution": {
     "iopub.execute_input": "2021-07-05T06:38:31.663481Z",
     "iopub.status.busy": "2021-07-05T06:38:31.662810Z",
     "iopub.status.idle": "2021-07-05T06:38:33.004082Z",
     "shell.execute_reply": "2021-07-05T06:38:33.003591Z",
     "shell.execute_reply.started": "2021-07-05T06:11:03.332714Z"
    },
    "papermill": {
     "duration": 1.374672,
     "end_time": "2021-07-05T06:38:33.004220",
     "exception": false,
     "start_time": "2021-07-05T06:38:31.629548",
     "status": "completed"
    },
    "tags": []
   },
   "outputs": [
    {
     "data": {
      "text/plain": [
       "array([0, 0, 0, 0, 0, 0, 0, 1, 0, 0, 0, 1, 1, 0, 1])"
      ]
     },
     "execution_count": 8,
     "metadata": {},
     "output_type": "execute_result"
    }
   ],
   "source": [
    "from sklearn.tree import DecisionTreeClassifier\n",
    "\n",
    "dc_tree = DecisionTreeClassifier()\n",
    "dc_tree.fit(X_train, y_train)\n",
    "\n",
    "# 예측\n",
    "pred = dc_tree.predict(X_test)\n",
    "pred[:15]"
   ]
  },
  {
   "cell_type": "markdown",
   "id": "precious-lithuania",
   "metadata": {
    "papermill": {
     "duration": 0.030052,
     "end_time": "2021-07-05T06:38:33.070825",
     "exception": false,
     "start_time": "2021-07-05T06:38:33.040773",
     "status": "completed"
    },
    "tags": []
   },
   "source": [
    "---"
   ]
  },
  {
   "cell_type": "code",
   "execution_count": 9,
   "id": "atmospheric-catalyst",
   "metadata": {
    "execution": {
     "iopub.execute_input": "2021-07-05T06:38:33.139746Z",
     "iopub.status.busy": "2021-07-05T06:38:33.138968Z",
     "iopub.status.idle": "2021-07-05T06:38:33.143409Z",
     "shell.execute_reply": "2021-07-05T06:38:33.143853Z",
     "shell.execute_reply.started": "2021-07-05T06:11:03.360016Z"
    },
    "papermill": {
     "duration": 0.0437,
     "end_time": "2021-07-05T06:38:33.144030",
     "exception": false,
     "start_time": "2021-07-05T06:38:33.100330",
     "status": "completed"
    },
    "tags": []
   },
   "outputs": [],
   "source": [
    "train['Sex'] = train['Sex'].map({'female':1, 'male':0}).astype(int)\n",
    "test['Sex'] = test['Sex'].map({'female':1, 'male':0}).astype(int)\n",
    "\n",
    "train['Embarked'] = train['Embarked'].map({'S':0, 'C':1, 'Q':2}).astype(int)\n",
    "test['Embarked'] = test['Embarked'].map({'S':0, 'C':1, 'Q':2}).astype(int)"
   ]
  },
  {
   "cell_type": "code",
   "execution_count": 10,
   "id": "buried-chess",
   "metadata": {
    "execution": {
     "iopub.execute_input": "2021-07-05T06:38:33.216835Z",
     "iopub.status.busy": "2021-07-05T06:38:33.213105Z",
     "iopub.status.idle": "2021-07-05T06:38:33.232137Z",
     "shell.execute_reply": "2021-07-05T06:38:33.231574Z",
     "shell.execute_reply.started": "2021-07-05T06:11:03.378056Z"
    },
    "papermill": {
     "duration": 0.058456,
     "end_time": "2021-07-05T06:38:33.232266",
     "exception": false,
     "start_time": "2021-07-05T06:38:33.173810",
     "status": "completed"
    },
    "tags": []
   },
   "outputs": [
    {
     "name": "stdout",
     "output_type": "stream",
     "text": [
      "<class 'pandas.core.frame.DataFrame'>\n",
      "RangeIndex: 891 entries, 0 to 890\n",
      "Data columns (total 12 columns):\n",
      " #   Column       Non-Null Count  Dtype  \n",
      "---  ------       --------------  -----  \n",
      " 0   PassengerId  891 non-null    int64  \n",
      " 1   Survived     891 non-null    int64  \n",
      " 2   Pclass       891 non-null    int64  \n",
      " 3   Name         891 non-null    object \n",
      " 4   Sex          891 non-null    int64  \n",
      " 5   Age          714 non-null    float64\n",
      " 6   SibSp        891 non-null    int64  \n",
      " 7   Parch        891 non-null    int64  \n",
      " 8   Ticket       891 non-null    object \n",
      " 9   Fare         891 non-null    float64\n",
      " 10  Cabin        204 non-null    object \n",
      " 11  Embarked     891 non-null    int64  \n",
      "dtypes: float64(2), int64(7), object(3)\n",
      "memory usage: 83.7+ KB\n",
      "<class 'pandas.core.frame.DataFrame'>\n",
      "RangeIndex: 418 entries, 0 to 417\n",
      "Data columns (total 11 columns):\n",
      " #   Column       Non-Null Count  Dtype  \n",
      "---  ------       --------------  -----  \n",
      " 0   PassengerId  418 non-null    int64  \n",
      " 1   Pclass       418 non-null    int64  \n",
      " 2   Name         418 non-null    object \n",
      " 3   Sex          418 non-null    int64  \n",
      " 4   Age          332 non-null    float64\n",
      " 5   SibSp        418 non-null    int64  \n",
      " 6   Parch        418 non-null    int64  \n",
      " 7   Ticket       418 non-null    object \n",
      " 8   Fare         418 non-null    float64\n",
      " 9   Cabin        91 non-null     object \n",
      " 10  Embarked     418 non-null    int64  \n",
      "dtypes: float64(2), int64(6), object(3)\n",
      "memory usage: 36.0+ KB\n"
     ]
    },
    {
     "data": {
      "text/plain": [
       "(None, None)"
      ]
     },
     "execution_count": 10,
     "metadata": {},
     "output_type": "execute_result"
    }
   ],
   "source": [
    "train.info(), test.info()"
   ]
  },
  {
   "cell_type": "code",
   "execution_count": 11,
   "id": "partial-standing",
   "metadata": {
    "execution": {
     "iopub.execute_input": "2021-07-05T06:38:33.307962Z",
     "iopub.status.busy": "2021-07-05T06:38:33.307176Z",
     "iopub.status.idle": "2021-07-05T06:38:33.310308Z",
     "shell.execute_reply": "2021-07-05T06:38:33.310962Z",
     "shell.execute_reply.started": "2021-07-05T06:11:03.420252Z"
    },
    "papermill": {
     "duration": 0.048614,
     "end_time": "2021-07-05T06:38:33.311180",
     "exception": false,
     "start_time": "2021-07-05T06:38:33.262566",
     "status": "completed"
    },
    "tags": []
   },
   "outputs": [
    {
     "data": {
      "text/plain": [
       "(0          Mr.\n",
       " 1         Mrs.\n",
       " 2          Mr.\n",
       " 3          Mr.\n",
       " 4         Mrs.\n",
       "         ...   \n",
       " 413        Mr.\n",
       " 414      Dona.\n",
       " 415        Mr.\n",
       " 416        Mr.\n",
       " 417    Master.\n",
       " Length: 418, dtype: object,\n",
       " array(['Mr.', 'Mrs.', 'Miss.', 'Master.', 'Ms.', 'Col.', 'Rev.', 'Dr.',\n",
       "        'Dona.'], dtype=object))"
      ]
     },
     "execution_count": 11,
     "metadata": {},
     "output_type": "execute_result"
    }
   ],
   "source": [
    "name = []\n",
    "\n",
    "for i in test['Name']:\n",
    "    name_tmp = i.split(', ')[1]\n",
    "    name_tmp = name_tmp.split(' ')[0]\n",
    "    name.append(name_tmp)\n",
    "    \n",
    "name_ser = pd.Series(name)    \n",
    "name_ser, name_ser.unique()"
   ]
  },
  {
   "cell_type": "code",
   "execution_count": 12,
   "id": "progressive-homework",
   "metadata": {
    "execution": {
     "iopub.execute_input": "2021-07-05T06:38:33.395203Z",
     "iopub.status.busy": "2021-07-05T06:38:33.394598Z",
     "iopub.status.idle": "2021-07-05T06:38:33.402431Z",
     "shell.execute_reply": "2021-07-05T06:38:33.402996Z",
     "shell.execute_reply.started": "2021-07-05T06:11:03.436008Z"
    },
    "papermill": {
     "duration": 0.056337,
     "end_time": "2021-07-05T06:38:33.403163",
     "exception": false,
     "start_time": "2021-07-05T06:38:33.346826",
     "status": "completed"
    },
    "tags": []
   },
   "outputs": [],
   "source": [
    "for idx, one in enumerate(name):\n",
    "    if one == 'Mr.': name[idx] = 0 \n",
    "    elif one == 'Ms.' or one == 'Mrs.' or one == 'Miss.': name[idx] = 1 \n",
    "    elif one == 'Master.': name[idx] = 2 \n",
    "    elif one == 'Rev.': name[idx] = 3 \n",
    "    elif one == 'Dr.': name[idx] = 4 \n",
    "    elif one == 'Major.': name[idx] = 5 \n",
    "    elif one == 'Col.': name[idx] = 6 \n",
    "    else: name[idx] = 7"
   ]
  },
  {
   "cell_type": "code",
   "execution_count": 13,
   "id": "separated-thought",
   "metadata": {
    "execution": {
     "iopub.execute_input": "2021-07-05T06:38:33.481538Z",
     "iopub.status.busy": "2021-07-05T06:38:33.480887Z",
     "iopub.status.idle": "2021-07-05T06:38:33.501374Z",
     "shell.execute_reply": "2021-07-05T06:38:33.500683Z",
     "shell.execute_reply.started": "2021-07-05T06:11:03.449288Z"
    },
    "papermill": {
     "duration": 0.061154,
     "end_time": "2021-07-05T06:38:33.501545",
     "exception": false,
     "start_time": "2021-07-05T06:38:33.440391",
     "status": "completed"
    },
    "tags": []
   },
   "outputs": [
    {
     "data": {
      "text/plain": [
       "(array([0, 1, 2, 6, 3, 4, 7]),\n",
       "    PassengerId  Pclass                                          Name  Sex  \\\n",
       " 0          892       3                              Kelly, Mr. James    0   \n",
       " 1          893       3              Wilkes, Mrs. James (Ellen Needs)    1   \n",
       " 2          894       2                     Myles, Mr. Thomas Francis    0   \n",
       " 3          895       3                              Wirz, Mr. Albert    0   \n",
       " 4          896       3  Hirvonen, Mrs. Alexander (Helga E Lindqvist)    1   \n",
       " 5          897       3                    Svensson, Mr. Johan Cervin    0   \n",
       " 6          898       3                          Connolly, Miss. Kate    1   \n",
       " 7          899       2                  Caldwell, Mr. Albert Francis    0   \n",
       " 8          900       3     Abrahim, Mrs. Joseph (Sophie Halaut Easu)    1   \n",
       " 9          901       3                       Davies, Mr. John Samuel    0   \n",
       " \n",
       "     Age  SibSp  Parch     Ticket     Fare Cabin  Embarked  Name_code  \n",
       " 0  34.5      0      0     330911   7.8292   NaN         2          0  \n",
       " 1  47.0      1      0     363272   7.0000   NaN         0          1  \n",
       " 2  62.0      0      0     240276   9.6875   NaN         2          0  \n",
       " 3  27.0      0      0     315154   8.6625   NaN         0          0  \n",
       " 4  22.0      1      1    3101298  12.2875   NaN         0          1  \n",
       " 5  14.0      0      0       7538   9.2250   NaN         0          0  \n",
       " 6  30.0      0      0     330972   7.6292   NaN         2          1  \n",
       " 7  26.0      1      1     248738  29.0000   NaN         0          0  \n",
       " 8  18.0      0      0       2657   7.2292   NaN         1          1  \n",
       " 9  21.0      2      0  A/4 48871  24.1500   NaN         0          0  )"
      ]
     },
     "execution_count": 13,
     "metadata": {},
     "output_type": "execute_result"
    }
   ],
   "source": [
    "name = pd.Series(name)\n",
    "test['Name_code'] = name\n",
    "name.unique(), test.head(10)"
   ]
  },
  {
   "cell_type": "code",
   "execution_count": 14,
   "id": "collectible-ordinance",
   "metadata": {
    "execution": {
     "iopub.execute_input": "2021-07-05T06:38:33.581729Z",
     "iopub.status.busy": "2021-07-05T06:38:33.580768Z",
     "iopub.status.idle": "2021-07-05T06:38:33.586342Z",
     "shell.execute_reply": "2021-07-05T06:38:33.586932Z",
     "shell.execute_reply.started": "2021-07-05T06:11:03.480130Z"
    },
    "papermill": {
     "duration": 0.053054,
     "end_time": "2021-07-05T06:38:33.587112",
     "exception": false,
     "start_time": "2021-07-05T06:38:33.534058",
     "status": "completed"
    },
    "tags": []
   },
   "outputs": [
    {
     "data": {
      "text/plain": [
       "(0        Mr.\n",
       " 1       Mrs.\n",
       " 2      Miss.\n",
       " 3       Mrs.\n",
       " 4        Mr.\n",
       "        ...  \n",
       " 886     Rev.\n",
       " 887    Miss.\n",
       " 888    Miss.\n",
       " 889      Mr.\n",
       " 890      Mr.\n",
       " Length: 891, dtype: object,\n",
       " array(['Mr.', 'Mrs.', 'Miss.', 'Master.', 'Don.', 'Rev.', 'Dr.', 'Mme.',\n",
       "        'Ms.', 'Major.', 'Lady.', 'Sir.', 'Mlle.', 'Col.', 'Capt.', 'the',\n",
       "        'Jonkheer.'], dtype=object))"
      ]
     },
     "execution_count": 14,
     "metadata": {},
     "output_type": "execute_result"
    }
   ],
   "source": [
    "name = []\n",
    "\n",
    "for i in train['Name']:\n",
    "    name_tmp = i.split(', ')[1]\n",
    "    name_tmp = name_tmp.split(' ')[0]\n",
    "    name.append(name_tmp)\n",
    "\n",
    "name_ser = pd.Series(name)    \n",
    "name_ser, name_ser.unique()"
   ]
  },
  {
   "cell_type": "code",
   "execution_count": 15,
   "id": "sudden-clear",
   "metadata": {
    "execution": {
     "iopub.execute_input": "2021-07-05T06:38:33.671001Z",
     "iopub.status.busy": "2021-07-05T06:38:33.669947Z",
     "iopub.status.idle": "2021-07-05T06:38:33.677843Z",
     "shell.execute_reply": "2021-07-05T06:38:33.677302Z",
     "shell.execute_reply.started": "2021-07-05T06:11:03.499271Z"
    },
    "papermill": {
     "duration": 0.056084,
     "end_time": "2021-07-05T06:38:33.677992",
     "exception": false,
     "start_time": "2021-07-05T06:38:33.621908",
     "status": "completed"
    },
    "tags": []
   },
   "outputs": [],
   "source": [
    "for idx, one in enumerate(name):\n",
    "    if one == 'Mr.': name[idx] = 0 \n",
    "    elif one == 'Ms.' or one == 'Mrs.' or one == 'Miss.': name[idx] = 1 \n",
    "    elif one == 'Master.': name[idx] = 2 \n",
    "    elif one == 'Rev.': name[idx] = 3 \n",
    "    elif one == 'Dr.': name[idx] = 4 \n",
    "    elif one == 'Major.': name[idx] = 5 \n",
    "    elif one == 'Col.': name[idx] = 6 \n",
    "    else: name[idx] = 7"
   ]
  },
  {
   "cell_type": "code",
   "execution_count": 16,
   "id": "magnetic-number",
   "metadata": {
    "execution": {
     "iopub.execute_input": "2021-07-05T06:38:33.750419Z",
     "iopub.status.busy": "2021-07-05T06:38:33.749624Z",
     "iopub.status.idle": "2021-07-05T06:38:33.752945Z",
     "shell.execute_reply": "2021-07-05T06:38:33.753410Z",
     "shell.execute_reply.started": "2021-07-05T06:11:03.509035Z"
    },
    "papermill": {
     "duration": 0.042729,
     "end_time": "2021-07-05T06:38:33.753608",
     "exception": false,
     "start_time": "2021-07-05T06:38:33.710879",
     "status": "completed"
    },
    "tags": []
   },
   "outputs": [
    {
     "data": {
      "text/plain": [
       "0    517\n",
       "1    308\n",
       "2     40\n",
       "7      9\n",
       "4      7\n",
       "3      6\n",
       "5      2\n",
       "6      2\n",
       "dtype: int64"
      ]
     },
     "execution_count": 16,
     "metadata": {},
     "output_type": "execute_result"
    }
   ],
   "source": [
    "name = pd.Series(name)\n",
    "name.value_counts().head(10)"
   ]
  },
  {
   "cell_type": "code",
   "execution_count": 17,
   "id": "protective-compromise",
   "metadata": {
    "execution": {
     "iopub.execute_input": "2021-07-05T06:38:33.821247Z",
     "iopub.status.busy": "2021-07-05T06:38:33.820339Z",
     "iopub.status.idle": "2021-07-05T06:38:33.837735Z",
     "shell.execute_reply": "2021-07-05T06:38:33.838238Z",
     "shell.execute_reply.started": "2021-07-05T06:11:03.524671Z"
    },
    "papermill": {
     "duration": 0.053184,
     "end_time": "2021-07-05T06:38:33.838403",
     "exception": false,
     "start_time": "2021-07-05T06:38:33.785219",
     "status": "completed"
    },
    "tags": []
   },
   "outputs": [
    {
     "data": {
      "text/html": [
       "<div>\n",
       "<style scoped>\n",
       "    .dataframe tbody tr th:only-of-type {\n",
       "        vertical-align: middle;\n",
       "    }\n",
       "\n",
       "    .dataframe tbody tr th {\n",
       "        vertical-align: top;\n",
       "    }\n",
       "\n",
       "    .dataframe thead th {\n",
       "        text-align: right;\n",
       "    }\n",
       "</style>\n",
       "<table border=\"1\" class=\"dataframe\">\n",
       "  <thead>\n",
       "    <tr style=\"text-align: right;\">\n",
       "      <th></th>\n",
       "      <th>PassengerId</th>\n",
       "      <th>Survived</th>\n",
       "      <th>Pclass</th>\n",
       "      <th>Name</th>\n",
       "      <th>Sex</th>\n",
       "      <th>Age</th>\n",
       "      <th>SibSp</th>\n",
       "      <th>Parch</th>\n",
       "      <th>Ticket</th>\n",
       "      <th>Fare</th>\n",
       "      <th>Cabin</th>\n",
       "      <th>Embarked</th>\n",
       "      <th>Name_code</th>\n",
       "    </tr>\n",
       "  </thead>\n",
       "  <tbody>\n",
       "    <tr>\n",
       "      <th>0</th>\n",
       "      <td>1</td>\n",
       "      <td>0</td>\n",
       "      <td>3</td>\n",
       "      <td>Braund, Mr. Owen Harris</td>\n",
       "      <td>0</td>\n",
       "      <td>22.0</td>\n",
       "      <td>1</td>\n",
       "      <td>0</td>\n",
       "      <td>A/5 21171</td>\n",
       "      <td>7.2500</td>\n",
       "      <td>NaN</td>\n",
       "      <td>0</td>\n",
       "      <td>0</td>\n",
       "    </tr>\n",
       "    <tr>\n",
       "      <th>1</th>\n",
       "      <td>2</td>\n",
       "      <td>1</td>\n",
       "      <td>1</td>\n",
       "      <td>Cumings, Mrs. John Bradley (Florence Briggs Th...</td>\n",
       "      <td>1</td>\n",
       "      <td>38.0</td>\n",
       "      <td>1</td>\n",
       "      <td>0</td>\n",
       "      <td>PC 17599</td>\n",
       "      <td>71.2833</td>\n",
       "      <td>C85</td>\n",
       "      <td>1</td>\n",
       "      <td>1</td>\n",
       "    </tr>\n",
       "    <tr>\n",
       "      <th>2</th>\n",
       "      <td>3</td>\n",
       "      <td>1</td>\n",
       "      <td>3</td>\n",
       "      <td>Heikkinen, Miss. Laina</td>\n",
       "      <td>1</td>\n",
       "      <td>26.0</td>\n",
       "      <td>0</td>\n",
       "      <td>0</td>\n",
       "      <td>STON/O2. 3101282</td>\n",
       "      <td>7.9250</td>\n",
       "      <td>NaN</td>\n",
       "      <td>0</td>\n",
       "      <td>1</td>\n",
       "    </tr>\n",
       "    <tr>\n",
       "      <th>3</th>\n",
       "      <td>4</td>\n",
       "      <td>1</td>\n",
       "      <td>1</td>\n",
       "      <td>Futrelle, Mrs. Jacques Heath (Lily May Peel)</td>\n",
       "      <td>1</td>\n",
       "      <td>35.0</td>\n",
       "      <td>1</td>\n",
       "      <td>0</td>\n",
       "      <td>113803</td>\n",
       "      <td>53.1000</td>\n",
       "      <td>C123</td>\n",
       "      <td>0</td>\n",
       "      <td>1</td>\n",
       "    </tr>\n",
       "    <tr>\n",
       "      <th>4</th>\n",
       "      <td>5</td>\n",
       "      <td>0</td>\n",
       "      <td>3</td>\n",
       "      <td>Allen, Mr. William Henry</td>\n",
       "      <td>0</td>\n",
       "      <td>35.0</td>\n",
       "      <td>0</td>\n",
       "      <td>0</td>\n",
       "      <td>373450</td>\n",
       "      <td>8.0500</td>\n",
       "      <td>NaN</td>\n",
       "      <td>0</td>\n",
       "      <td>0</td>\n",
       "    </tr>\n",
       "    <tr>\n",
       "      <th>5</th>\n",
       "      <td>6</td>\n",
       "      <td>0</td>\n",
       "      <td>3</td>\n",
       "      <td>Moran, Mr. James</td>\n",
       "      <td>0</td>\n",
       "      <td>NaN</td>\n",
       "      <td>0</td>\n",
       "      <td>0</td>\n",
       "      <td>330877</td>\n",
       "      <td>8.4583</td>\n",
       "      <td>NaN</td>\n",
       "      <td>2</td>\n",
       "      <td>0</td>\n",
       "    </tr>\n",
       "    <tr>\n",
       "      <th>6</th>\n",
       "      <td>7</td>\n",
       "      <td>0</td>\n",
       "      <td>1</td>\n",
       "      <td>McCarthy, Mr. Timothy J</td>\n",
       "      <td>0</td>\n",
       "      <td>54.0</td>\n",
       "      <td>0</td>\n",
       "      <td>0</td>\n",
       "      <td>17463</td>\n",
       "      <td>51.8625</td>\n",
       "      <td>E46</td>\n",
       "      <td>0</td>\n",
       "      <td>0</td>\n",
       "    </tr>\n",
       "    <tr>\n",
       "      <th>7</th>\n",
       "      <td>8</td>\n",
       "      <td>0</td>\n",
       "      <td>3</td>\n",
       "      <td>Palsson, Master. Gosta Leonard</td>\n",
       "      <td>0</td>\n",
       "      <td>2.0</td>\n",
       "      <td>3</td>\n",
       "      <td>1</td>\n",
       "      <td>349909</td>\n",
       "      <td>21.0750</td>\n",
       "      <td>NaN</td>\n",
       "      <td>0</td>\n",
       "      <td>2</td>\n",
       "    </tr>\n",
       "    <tr>\n",
       "      <th>8</th>\n",
       "      <td>9</td>\n",
       "      <td>1</td>\n",
       "      <td>3</td>\n",
       "      <td>Johnson, Mrs. Oscar W (Elisabeth Vilhelmina Berg)</td>\n",
       "      <td>1</td>\n",
       "      <td>27.0</td>\n",
       "      <td>0</td>\n",
       "      <td>2</td>\n",
       "      <td>347742</td>\n",
       "      <td>11.1333</td>\n",
       "      <td>NaN</td>\n",
       "      <td>0</td>\n",
       "      <td>1</td>\n",
       "    </tr>\n",
       "    <tr>\n",
       "      <th>9</th>\n",
       "      <td>10</td>\n",
       "      <td>1</td>\n",
       "      <td>2</td>\n",
       "      <td>Nasser, Mrs. Nicholas (Adele Achem)</td>\n",
       "      <td>1</td>\n",
       "      <td>14.0</td>\n",
       "      <td>1</td>\n",
       "      <td>0</td>\n",
       "      <td>237736</td>\n",
       "      <td>30.0708</td>\n",
       "      <td>NaN</td>\n",
       "      <td>1</td>\n",
       "      <td>1</td>\n",
       "    </tr>\n",
       "  </tbody>\n",
       "</table>\n",
       "</div>"
      ],
      "text/plain": [
       "   PassengerId  Survived  Pclass  \\\n",
       "0            1         0       3   \n",
       "1            2         1       1   \n",
       "2            3         1       3   \n",
       "3            4         1       1   \n",
       "4            5         0       3   \n",
       "5            6         0       3   \n",
       "6            7         0       1   \n",
       "7            8         0       3   \n",
       "8            9         1       3   \n",
       "9           10         1       2   \n",
       "\n",
       "                                                Name  Sex   Age  SibSp  Parch  \\\n",
       "0                            Braund, Mr. Owen Harris    0  22.0      1      0   \n",
       "1  Cumings, Mrs. John Bradley (Florence Briggs Th...    1  38.0      1      0   \n",
       "2                             Heikkinen, Miss. Laina    1  26.0      0      0   \n",
       "3       Futrelle, Mrs. Jacques Heath (Lily May Peel)    1  35.0      1      0   \n",
       "4                           Allen, Mr. William Henry    0  35.0      0      0   \n",
       "5                                   Moran, Mr. James    0   NaN      0      0   \n",
       "6                            McCarthy, Mr. Timothy J    0  54.0      0      0   \n",
       "7                     Palsson, Master. Gosta Leonard    0   2.0      3      1   \n",
       "8  Johnson, Mrs. Oscar W (Elisabeth Vilhelmina Berg)    1  27.0      0      2   \n",
       "9                Nasser, Mrs. Nicholas (Adele Achem)    1  14.0      1      0   \n",
       "\n",
       "             Ticket     Fare Cabin  Embarked  Name_code  \n",
       "0         A/5 21171   7.2500   NaN         0          0  \n",
       "1          PC 17599  71.2833   C85         1          1  \n",
       "2  STON/O2. 3101282   7.9250   NaN         0          1  \n",
       "3            113803  53.1000  C123         0          1  \n",
       "4            373450   8.0500   NaN         0          0  \n",
       "5            330877   8.4583   NaN         2          0  \n",
       "6             17463  51.8625   E46         0          0  \n",
       "7            349909  21.0750   NaN         0          2  \n",
       "8            347742  11.1333   NaN         0          1  \n",
       "9            237736  30.0708   NaN         1          1  "
      ]
     },
     "execution_count": 17,
     "metadata": {},
     "output_type": "execute_result"
    }
   ],
   "source": [
    "train['Name_code'] = name\n",
    "train.head(10)"
   ]
  },
  {
   "cell_type": "code",
   "execution_count": 18,
   "id": "convertible-listening",
   "metadata": {
    "execution": {
     "iopub.execute_input": "2021-07-05T06:38:33.908643Z",
     "iopub.status.busy": "2021-07-05T06:38:33.907730Z",
     "iopub.status.idle": "2021-07-05T06:38:33.914571Z",
     "shell.execute_reply": "2021-07-05T06:38:33.915060Z",
     "shell.execute_reply.started": "2021-07-05T06:11:03.555908Z"
    },
    "papermill": {
     "duration": 0.043395,
     "end_time": "2021-07-05T06:38:33.915232",
     "exception": false,
     "start_time": "2021-07-05T06:38:33.871837",
     "status": "completed"
    },
    "tags": []
   },
   "outputs": [
    {
     "data": {
      "text/plain": [
       "0    517\n",
       "1    308\n",
       "2     40\n",
       "7      9\n",
       "4      7\n",
       "3      6\n",
       "5      2\n",
       "6      2\n",
       "Name: Name_code, dtype: int64"
      ]
     },
     "execution_count": 18,
     "metadata": {},
     "output_type": "execute_result"
    }
   ],
   "source": [
    "train['Name_code'].value_counts()"
   ]
  },
  {
   "cell_type": "code",
   "execution_count": 19,
   "id": "victorian-surgeon",
   "metadata": {
    "execution": {
     "iopub.execute_input": "2021-07-05T06:38:33.984635Z",
     "iopub.status.busy": "2021-07-05T06:38:33.983666Z",
     "iopub.status.idle": "2021-07-05T06:38:33.992226Z",
     "shell.execute_reply": "2021-07-05T06:38:33.992768Z",
     "shell.execute_reply.started": "2021-07-05T06:11:03.575768Z"
    },
    "papermill": {
     "duration": 0.045218,
     "end_time": "2021-07-05T06:38:33.992946",
     "exception": false,
     "start_time": "2021-07-05T06:38:33.947728",
     "status": "completed"
    },
    "tags": []
   },
   "outputs": [
    {
     "data": {
      "text/plain": [
       "PassengerId      0\n",
       "Survived         0\n",
       "Pclass           0\n",
       "Name             0\n",
       "Sex              0\n",
       "Age            177\n",
       "SibSp            0\n",
       "Parch            0\n",
       "Ticket           0\n",
       "Fare             0\n",
       "Cabin          687\n",
       "Embarked         0\n",
       "Name_code        0\n",
       "dtype: int64"
      ]
     },
     "execution_count": 19,
     "metadata": {},
     "output_type": "execute_result"
    }
   ],
   "source": [
    "### 새로운 특징(feature(특성), variable(변수)) 만들기\n",
    "train.isnull().sum()"
   ]
  },
  {
   "cell_type": "code",
   "execution_count": 20,
   "id": "fleet-looking",
   "metadata": {
    "execution": {
     "iopub.execute_input": "2021-07-05T06:38:34.064234Z",
     "iopub.status.busy": "2021-07-05T06:38:34.063235Z",
     "iopub.status.idle": "2021-07-05T06:38:34.070818Z",
     "shell.execute_reply": "2021-07-05T06:38:34.071266Z",
     "shell.execute_reply.started": "2021-07-05T06:11:03.591797Z"
    },
    "papermill": {
     "duration": 0.044316,
     "end_time": "2021-07-05T06:38:34.071449",
     "exception": false,
     "start_time": "2021-07-05T06:38:34.027133",
     "status": "completed"
    },
    "tags": []
   },
   "outputs": [
    {
     "data": {
      "text/plain": [
       "0       True\n",
       "1      False\n",
       "2       True\n",
       "3      False\n",
       "4       True\n",
       "       ...  \n",
       "886     True\n",
       "887    False\n",
       "888     True\n",
       "889    False\n",
       "890     True\n",
       "Name: Cabin, Length: 891, dtype: bool"
      ]
     },
     "execution_count": 20,
     "metadata": {},
     "output_type": "execute_result"
    }
   ],
   "source": [
    "train['Cabin'].isnull()"
   ]
  },
  {
   "cell_type": "code",
   "execution_count": 21,
   "id": "infectious-registration",
   "metadata": {
    "execution": {
     "iopub.execute_input": "2021-07-05T06:38:34.140673Z",
     "iopub.status.busy": "2021-07-05T06:38:34.139775Z",
     "iopub.status.idle": "2021-07-05T06:38:34.148158Z",
     "shell.execute_reply": "2021-07-05T06:38:34.147633Z",
     "shell.execute_reply.started": "2021-07-05T06:11:03.607317Z"
    },
    "papermill": {
     "duration": 0.043493,
     "end_time": "2021-07-05T06:38:34.148292",
     "exception": false,
     "start_time": "2021-07-05T06:38:34.104799",
     "status": "completed"
    },
    "tags": []
   },
   "outputs": [
    {
     "data": {
      "text/plain": [
       "0       True\n",
       "1      False\n",
       "2       True\n",
       "3      False\n",
       "4       True\n",
       "       ...  \n",
       "886     True\n",
       "887    False\n",
       "888     True\n",
       "889    False\n",
       "890     True\n",
       "Name: Cabin, Length: 891, dtype: bool"
      ]
     },
     "execution_count": 21,
     "metadata": {},
     "output_type": "execute_result"
    }
   ],
   "source": [
    "train['Cabin'].isnull()"
   ]
  },
  {
   "cell_type": "code",
   "execution_count": 22,
   "id": "metallic-physiology",
   "metadata": {
    "execution": {
     "iopub.execute_input": "2021-07-05T06:38:34.228128Z",
     "iopub.status.busy": "2021-07-05T06:38:34.227229Z",
     "iopub.status.idle": "2021-07-05T06:38:34.231564Z",
     "shell.execute_reply": "2021-07-05T06:38:34.230941Z",
     "shell.execute_reply.started": "2021-07-05T06:11:03.622046Z"
    },
    "papermill": {
     "duration": 0.049863,
     "end_time": "2021-07-05T06:38:34.231698",
     "exception": false,
     "start_time": "2021-07-05T06:38:34.181835",
     "status": "completed"
    },
    "tags": []
   },
   "outputs": [
    {
     "data": {
      "text/plain": [
       "(0    0\n",
       " 1    1\n",
       " 2    0\n",
       " 3    1\n",
       " 4    0\n",
       " Name: Cabin_bool, dtype: int64,\n",
       " 0    0\n",
       " 1    0\n",
       " 2    0\n",
       " 3    0\n",
       " 4    0\n",
       " Name: Cabin_bool, dtype: int64)"
      ]
     },
     "execution_count": 22,
     "metadata": {},
     "output_type": "execute_result"
    }
   ],
   "source": [
    "train['Cabin_bool'] = ~train['Cabin'].isnull()\n",
    "test['Cabin_bool'] = ~test['Cabin'].isnull()\n",
    "train['Cabin_bool'] = train['Cabin_bool'].map({True:1, False:0})\n",
    "test['Cabin_bool'] = test['Cabin_bool'].map({True:1, False:0})\n",
    "\n",
    "train['Cabin_bool'].head(), test['Cabin_bool'].head()"
   ]
  },
  {
   "cell_type": "code",
   "execution_count": 23,
   "id": "printable-nickname",
   "metadata": {
    "execution": {
     "iopub.execute_input": "2021-07-05T06:38:34.302073Z",
     "iopub.status.busy": "2021-07-05T06:38:34.301512Z",
     "iopub.status.idle": "2021-07-05T06:38:34.307073Z",
     "shell.execute_reply": "2021-07-05T06:38:34.307553Z",
     "shell.execute_reply.started": "2021-07-05T06:11:03.645730Z"
    },
    "papermill": {
     "duration": 0.042433,
     "end_time": "2021-07-05T06:38:34.307721",
     "exception": false,
     "start_time": "2021-07-05T06:38:34.265288",
     "status": "completed"
    },
    "tags": []
   },
   "outputs": [
    {
     "data": {
      "text/plain": [
       "Index(['PassengerId', 'Survived', 'Pclass', 'Name', 'Sex', 'Age', 'SibSp',\n",
       "       'Parch', 'Ticket', 'Fare', 'Cabin', 'Embarked', 'Name_code',\n",
       "       'Cabin_bool'],\n",
       "      dtype='object')"
      ]
     },
     "execution_count": 23,
     "metadata": {},
     "output_type": "execute_result"
    }
   ],
   "source": [
    "train.columns"
   ]
  },
  {
   "cell_type": "code",
   "execution_count": 24,
   "id": "prospective-crash",
   "metadata": {
    "execution": {
     "iopub.execute_input": "2021-07-05T06:38:34.378441Z",
     "iopub.status.busy": "2021-07-05T06:38:34.377873Z",
     "iopub.status.idle": "2021-07-05T06:38:34.381312Z",
     "shell.execute_reply": "2021-07-05T06:38:34.380849Z",
     "shell.execute_reply.started": "2021-07-05T06:11:03.659301Z"
    },
    "papermill": {
     "duration": 0.040446,
     "end_time": "2021-07-05T06:38:34.381450",
     "exception": false,
     "start_time": "2021-07-05T06:38:34.341004",
     "status": "completed"
    },
    "tags": []
   },
   "outputs": [],
   "source": [
    "### 의사결정트리 decision tree : 0.76555"
   ]
  },
  {
   "cell_type": "code",
   "execution_count": 25,
   "id": "green-probe",
   "metadata": {
    "execution": {
     "iopub.execute_input": "2021-07-05T06:38:34.456841Z",
     "iopub.status.busy": "2021-07-05T06:38:34.456213Z",
     "iopub.status.idle": "2021-07-05T06:38:34.458927Z",
     "shell.execute_reply": "2021-07-05T06:38:34.459449Z",
     "shell.execute_reply.started": "2021-07-05T06:11:03.670598Z"
    },
    "papermill": {
     "duration": 0.044714,
     "end_time": "2021-07-05T06:38:34.459632",
     "exception": false,
     "start_time": "2021-07-05T06:38:34.414918",
     "status": "completed"
    },
    "tags": []
   },
   "outputs": [
    {
     "data": {
      "text/plain": [
       "array(['A/5', 'PC', 'STON/O2.', '', 'PP', 'A/5.', 'C.A.', 'A./5.',\n",
       "       'SC/Paris', 'S.C./A.4.', 'A/4.', 'CA', 'S.P.', 'S.O.C.', 'SO/C',\n",
       "       'W./C.', 'SOTON/OQ', 'W.E.P.', 'A4.', 'C', 'SOTON/O.Q.',\n",
       "       'SC/PARIS', 'S.O.P.', 'A.5.', 'Fa', 'CA.', 'F.C.C.', 'W/C',\n",
       "       'SW/PP', 'SCO/W', 'P/PP', 'SC', 'SC/AH', 'A/S', 'A/4', 'WE/P',\n",
       "       'S.W./PP', 'S.O./P.P.', 'F.C.', 'SOTON/O2', 'S.C./PARIS',\n",
       "       'C.A./SOTON'], dtype=object)"
      ]
     },
     "execution_count": 25,
     "metadata": {},
     "output_type": "execute_result"
    }
   ],
   "source": [
    "# pd.set_option('display.max_rows', None)\n",
    "\n",
    "ticket = []\n",
    "\n",
    "for i in train['Ticket']:\n",
    "    temp = i.split(' ')\n",
    "    if len(temp) == 2:\n",
    "        ticket.append(temp[0])\n",
    "    else:\n",
    "        ticket.append('')\n",
    "        \n",
    "ticket = pd.Series(ticket)\n",
    "ticket.unique()"
   ]
  },
  {
   "cell_type": "code",
   "execution_count": 26,
   "id": "successful-gentleman",
   "metadata": {
    "execution": {
     "iopub.execute_input": "2021-07-05T06:38:34.530581Z",
     "iopub.status.busy": "2021-07-05T06:38:34.529974Z",
     "iopub.status.idle": "2021-07-05T06:38:34.541579Z",
     "shell.execute_reply": "2021-07-05T06:38:34.542075Z",
     "shell.execute_reply.started": "2021-07-05T06:11:03.686447Z"
    },
    "papermill": {
     "duration": 0.04879,
     "end_time": "2021-07-05T06:38:34.542248",
     "exception": false,
     "start_time": "2021-07-05T06:38:34.493458",
     "status": "completed"
    },
    "tags": []
   },
   "outputs": [],
   "source": [
    "for idx, one in enumerate(ticket):\n",
    "    if one == 'A/5' or one == 'A/5.' or one == 'A./5.' or one == 'A.5.': ticket[idx] = 1 \n",
    "    elif one == 'PC': ticket[idx] = 2 \n",
    "    elif one == 'C.A.' or one == 'CA' or one == 'CA.': ticket[idx] = 3 \n",
    "    elif one == 'SC/Paris' or one == 'SC/PARIS' or one == 'S.C./PARIS': ticket[idx] = 4 \n",
    "    elif one == 'A/4.' or one == 'A4.' or one == 'A/4': ticket[idx] = 5 \n",
    "    elif one == 'W./C.' or one == 'W/C': ticket[idx] = 6 \n",
    "    elif one == 'SOTON/OQ' or one == 'SOTON/O.Q.' or one == 'SOTON/O2': ticket[idx] = 7 \n",
    "    elif one == 'C': ticket[idx] = 8 \n",
    "    elif one == 'F.C.C.': ticket[idx] = 9 \n",
    "    elif one == 'S.O./P.P.': ticket[idx] = 10 \n",
    "    else: ticket[idx] = 0 "
   ]
  },
  {
   "cell_type": "code",
   "execution_count": 27,
   "id": "continuous-calibration",
   "metadata": {
    "execution": {
     "iopub.execute_input": "2021-07-05T06:38:34.612980Z",
     "iopub.status.busy": "2021-07-05T06:38:34.612400Z",
     "iopub.status.idle": "2021-07-05T06:38:34.619080Z",
     "shell.execute_reply": "2021-07-05T06:38:34.619472Z",
     "shell.execute_reply.started": "2021-07-05T06:11:03.705157Z"
    },
    "papermill": {
     "duration": 0.043201,
     "end_time": "2021-07-05T06:38:34.619653",
     "exception": false,
     "start_time": "2021-07-05T06:38:34.576452",
     "status": "completed"
    },
    "tags": []
   },
   "outputs": [
    {
     "data": {
      "text/plain": [
       "0     711\n",
       "2      60\n",
       "3      41\n",
       "1      21\n",
       "7      17\n",
       "4      11\n",
       "6      10\n",
       "5       7\n",
       "8       5\n",
       "9       5\n",
       "10      3\n",
       "dtype: int64"
      ]
     },
     "execution_count": 27,
     "metadata": {},
     "output_type": "execute_result"
    }
   ],
   "source": [
    "ticket = pd.Series(ticket)\n",
    "ticket.value_counts()"
   ]
  },
  {
   "cell_type": "code",
   "execution_count": 28,
   "id": "comparable-constraint",
   "metadata": {
    "execution": {
     "iopub.execute_input": "2021-07-05T06:38:34.703932Z",
     "iopub.status.busy": "2021-07-05T06:38:34.703288Z",
     "iopub.status.idle": "2021-07-05T06:38:34.706419Z",
     "shell.execute_reply": "2021-07-05T06:38:34.706836Z",
     "shell.execute_reply.started": "2021-07-05T06:11:03.725309Z"
    },
    "papermill": {
     "duration": 0.053335,
     "end_time": "2021-07-05T06:38:34.707001",
     "exception": false,
     "start_time": "2021-07-05T06:38:34.653666",
     "status": "completed"
    },
    "tags": []
   },
   "outputs": [
    {
     "data": {
      "text/html": [
       "<div>\n",
       "<style scoped>\n",
       "    .dataframe tbody tr th:only-of-type {\n",
       "        vertical-align: middle;\n",
       "    }\n",
       "\n",
       "    .dataframe tbody tr th {\n",
       "        vertical-align: top;\n",
       "    }\n",
       "\n",
       "    .dataframe thead th {\n",
       "        text-align: right;\n",
       "    }\n",
       "</style>\n",
       "<table border=\"1\" class=\"dataframe\">\n",
       "  <thead>\n",
       "    <tr style=\"text-align: right;\">\n",
       "      <th></th>\n",
       "      <th>PassengerId</th>\n",
       "      <th>Survived</th>\n",
       "      <th>Pclass</th>\n",
       "      <th>Name</th>\n",
       "      <th>Sex</th>\n",
       "      <th>Age</th>\n",
       "      <th>SibSp</th>\n",
       "      <th>Parch</th>\n",
       "      <th>Ticket</th>\n",
       "      <th>Fare</th>\n",
       "      <th>Cabin</th>\n",
       "      <th>Embarked</th>\n",
       "      <th>Name_code</th>\n",
       "      <th>Cabin_bool</th>\n",
       "      <th>Ticket_code</th>\n",
       "    </tr>\n",
       "  </thead>\n",
       "  <tbody>\n",
       "    <tr>\n",
       "      <th>0</th>\n",
       "      <td>1</td>\n",
       "      <td>0</td>\n",
       "      <td>3</td>\n",
       "      <td>Braund, Mr. Owen Harris</td>\n",
       "      <td>0</td>\n",
       "      <td>22.0</td>\n",
       "      <td>1</td>\n",
       "      <td>0</td>\n",
       "      <td>A/5 21171</td>\n",
       "      <td>7.2500</td>\n",
       "      <td>NaN</td>\n",
       "      <td>0</td>\n",
       "      <td>0</td>\n",
       "      <td>0</td>\n",
       "      <td>1</td>\n",
       "    </tr>\n",
       "    <tr>\n",
       "      <th>1</th>\n",
       "      <td>2</td>\n",
       "      <td>1</td>\n",
       "      <td>1</td>\n",
       "      <td>Cumings, Mrs. John Bradley (Florence Briggs Th...</td>\n",
       "      <td>1</td>\n",
       "      <td>38.0</td>\n",
       "      <td>1</td>\n",
       "      <td>0</td>\n",
       "      <td>PC 17599</td>\n",
       "      <td>71.2833</td>\n",
       "      <td>C85</td>\n",
       "      <td>1</td>\n",
       "      <td>1</td>\n",
       "      <td>1</td>\n",
       "      <td>2</td>\n",
       "    </tr>\n",
       "    <tr>\n",
       "      <th>2</th>\n",
       "      <td>3</td>\n",
       "      <td>1</td>\n",
       "      <td>3</td>\n",
       "      <td>Heikkinen, Miss. Laina</td>\n",
       "      <td>1</td>\n",
       "      <td>26.0</td>\n",
       "      <td>0</td>\n",
       "      <td>0</td>\n",
       "      <td>STON/O2. 3101282</td>\n",
       "      <td>7.9250</td>\n",
       "      <td>NaN</td>\n",
       "      <td>0</td>\n",
       "      <td>1</td>\n",
       "      <td>0</td>\n",
       "      <td>0</td>\n",
       "    </tr>\n",
       "    <tr>\n",
       "      <th>3</th>\n",
       "      <td>4</td>\n",
       "      <td>1</td>\n",
       "      <td>1</td>\n",
       "      <td>Futrelle, Mrs. Jacques Heath (Lily May Peel)</td>\n",
       "      <td>1</td>\n",
       "      <td>35.0</td>\n",
       "      <td>1</td>\n",
       "      <td>0</td>\n",
       "      <td>113803</td>\n",
       "      <td>53.1000</td>\n",
       "      <td>C123</td>\n",
       "      <td>0</td>\n",
       "      <td>1</td>\n",
       "      <td>1</td>\n",
       "      <td>0</td>\n",
       "    </tr>\n",
       "    <tr>\n",
       "      <th>4</th>\n",
       "      <td>5</td>\n",
       "      <td>0</td>\n",
       "      <td>3</td>\n",
       "      <td>Allen, Mr. William Henry</td>\n",
       "      <td>0</td>\n",
       "      <td>35.0</td>\n",
       "      <td>0</td>\n",
       "      <td>0</td>\n",
       "      <td>373450</td>\n",
       "      <td>8.0500</td>\n",
       "      <td>NaN</td>\n",
       "      <td>0</td>\n",
       "      <td>0</td>\n",
       "      <td>0</td>\n",
       "      <td>0</td>\n",
       "    </tr>\n",
       "  </tbody>\n",
       "</table>\n",
       "</div>"
      ],
      "text/plain": [
       "   PassengerId  Survived  Pclass  \\\n",
       "0            1         0       3   \n",
       "1            2         1       1   \n",
       "2            3         1       3   \n",
       "3            4         1       1   \n",
       "4            5         0       3   \n",
       "\n",
       "                                                Name  Sex   Age  SibSp  Parch  \\\n",
       "0                            Braund, Mr. Owen Harris    0  22.0      1      0   \n",
       "1  Cumings, Mrs. John Bradley (Florence Briggs Th...    1  38.0      1      0   \n",
       "2                             Heikkinen, Miss. Laina    1  26.0      0      0   \n",
       "3       Futrelle, Mrs. Jacques Heath (Lily May Peel)    1  35.0      1      0   \n",
       "4                           Allen, Mr. William Henry    0  35.0      0      0   \n",
       "\n",
       "             Ticket     Fare Cabin  Embarked  Name_code  Cabin_bool  \\\n",
       "0         A/5 21171   7.2500   NaN         0          0           0   \n",
       "1          PC 17599  71.2833   C85         1          1           1   \n",
       "2  STON/O2. 3101282   7.9250   NaN         0          1           0   \n",
       "3            113803  53.1000  C123         0          1           1   \n",
       "4            373450   8.0500   NaN         0          0           0   \n",
       "\n",
       "  Ticket_code  \n",
       "0           1  \n",
       "1           2  \n",
       "2           0  \n",
       "3           0  \n",
       "4           0  "
      ]
     },
     "execution_count": 28,
     "metadata": {},
     "output_type": "execute_result"
    }
   ],
   "source": [
    "train['Ticket_code'] = ticket\n",
    "train.head()"
   ]
  },
  {
   "cell_type": "code",
   "execution_count": 29,
   "id": "entitled-marble",
   "metadata": {
    "execution": {
     "iopub.execute_input": "2021-07-05T06:38:34.785234Z",
     "iopub.status.busy": "2021-07-05T06:38:34.784485Z",
     "iopub.status.idle": "2021-07-05T06:38:34.788154Z",
     "shell.execute_reply": "2021-07-05T06:38:34.788605Z",
     "shell.execute_reply.started": "2021-07-05T06:11:03.754067Z"
    },
    "papermill": {
     "duration": 0.046897,
     "end_time": "2021-07-05T06:38:34.788780",
     "exception": false,
     "start_time": "2021-07-05T06:38:34.741883",
     "status": "completed"
    },
    "tags": []
   },
   "outputs": [
    {
     "data": {
      "text/plain": [
       "array(['', 'A/4', 'W.E.P.', 'SC/PARIS', 'STON/O2.', 'PC', 'C', 'A/5.',\n",
       "       'SC/AH', 'C.A.', 'W./C.', 'SOTON/O.Q.', 'SC/A.3', 'F.C.C.', 'F.C.',\n",
       "       'A./5.', 'PP', 'STON/OQ.', 'SOTON/OQ', 'CA', 'SC/A4', 'S.O./P.P.',\n",
       "       'CA.', 'S.O.C.', 'SOTON/O2', 'AQ/4', 'SC', 'A/5', 'SC/Paris', 'LP',\n",
       "       'AQ/3.', 'S.C./PARIS', 'A.5.'], dtype=object)"
      ]
     },
     "execution_count": 29,
     "metadata": {},
     "output_type": "execute_result"
    }
   ],
   "source": [
    "pd.set_option('display.max_rows', 10)\n",
    "\n",
    "ticket = []\n",
    "\n",
    "for i in test['Ticket']:\n",
    "    temp = i.split(' ')\n",
    "    if len(temp) == 2:\n",
    "        ticket.append(temp[0])\n",
    "    else:\n",
    "        ticket.append('')\n",
    "        \n",
    "ticket = pd.Series(ticket)\n",
    "ticket.unique()"
   ]
  },
  {
   "cell_type": "code",
   "execution_count": 30,
   "id": "diverse-excerpt",
   "metadata": {
    "execution": {
     "iopub.execute_input": "2021-07-05T06:38:34.861063Z",
     "iopub.status.busy": "2021-07-05T06:38:34.860436Z",
     "iopub.status.idle": "2021-07-05T06:38:34.870911Z",
     "shell.execute_reply": "2021-07-05T06:38:34.870380Z",
     "shell.execute_reply.started": "2021-07-05T06:11:03.767524Z"
    },
    "papermill": {
     "duration": 0.04773,
     "end_time": "2021-07-05T06:38:34.871059",
     "exception": false,
     "start_time": "2021-07-05T06:38:34.823329",
     "status": "completed"
    },
    "tags": []
   },
   "outputs": [],
   "source": [
    "for idx, one in enumerate(ticket):\n",
    "    if one == 'A/5' or one == 'A/5.' or one == 'A./5.' or one == 'A.5.': ticket[idx] = 1 \n",
    "    elif one == 'PC': ticket[idx] = 2 \n",
    "    elif one == 'C.A.' or one == 'CA' or one == 'CA.': ticket[idx] = 3 \n",
    "    elif one == 'SC/Paris' or one == 'SC/PARIS' or one == 'S.C./PARIS': ticket[idx] = 4 \n",
    "    elif one == 'A/4.' or one == 'A4.' or one == 'A/4': ticket[idx] = 5 \n",
    "    elif one == 'W./C.' or one == 'W/C': ticket[idx] = 6 \n",
    "    elif one == 'SOTON/OQ' or one == 'SOTON/O.Q.' or one == 'SOTON/O2': ticket[idx] = 7 \n",
    "    elif one == 'C': ticket[idx] = 8 \n",
    "    elif one == 'F.C.C.': ticket[idx] = 9 \n",
    "    elif one == 'S.O./P.P.': ticket[idx] = 10 \n",
    "    else: ticket[idx] = 0 "
   ]
  },
  {
   "cell_type": "code",
   "execution_count": 31,
   "id": "conditional-craft",
   "metadata": {
    "execution": {
     "iopub.execute_input": "2021-07-05T06:38:34.949678Z",
     "iopub.status.busy": "2021-07-05T06:38:34.949037Z",
     "iopub.status.idle": "2021-07-05T06:38:34.952617Z",
     "shell.execute_reply": "2021-07-05T06:38:34.953095Z",
     "shell.execute_reply.started": "2021-07-05T06:11:03.782786Z"
    },
    "papermill": {
     "duration": 0.047405,
     "end_time": "2021-07-05T06:38:34.953264",
     "exception": false,
     "start_time": "2021-07-05T06:38:34.905859",
     "status": "completed"
    },
    "tags": []
   },
   "outputs": [
    {
     "data": {
      "text/plain": [
       "0     315\n",
       "2      32\n",
       "3      27\n",
       "7      10\n",
       "4       8\n",
       "     ... \n",
       "6       5\n",
       "9       4\n",
       "10      4\n",
       "5       3\n",
       "8       3\n",
       "Name: Ticket_code, Length: 11, dtype: int64"
      ]
     },
     "execution_count": 31,
     "metadata": {},
     "output_type": "execute_result"
    }
   ],
   "source": [
    "ticket = pd.Series(ticket)\n",
    "test['Ticket_code'] = ticket\n",
    "\n",
    "test['Ticket_code'].value_counts()"
   ]
  },
  {
   "cell_type": "code",
   "execution_count": 32,
   "id": "purple-suffering",
   "metadata": {
    "execution": {
     "iopub.execute_input": "2021-07-05T06:38:35.026017Z",
     "iopub.status.busy": "2021-07-05T06:38:35.025408Z",
     "iopub.status.idle": "2021-07-05T06:38:35.050420Z",
     "shell.execute_reply": "2021-07-05T06:38:35.049867Z",
     "shell.execute_reply.started": "2021-07-05T06:11:03.801381Z"
    },
    "papermill": {
     "duration": 0.062326,
     "end_time": "2021-07-05T06:38:35.050607",
     "exception": false,
     "start_time": "2021-07-05T06:38:34.988281",
     "status": "completed"
    },
    "tags": []
   },
   "outputs": [],
   "source": [
    "train['Family_size'] = train['SibSp'] + train['Parch'] + 1\n",
    "test['Family_size'] = test['SibSp'] + test['Parch'] + 1"
   ]
  },
  {
   "cell_type": "code",
   "execution_count": 33,
   "id": "passing-austria",
   "metadata": {
    "execution": {
     "iopub.execute_input": "2021-07-05T06:38:35.127869Z",
     "iopub.status.busy": "2021-07-05T06:38:35.126888Z",
     "iopub.status.idle": "2021-07-05T06:38:35.134615Z",
     "shell.execute_reply": "2021-07-05T06:38:35.133901Z",
     "shell.execute_reply.started": "2021-07-05T06:11:03.814886Z"
    },
    "papermill": {
     "duration": 0.048028,
     "end_time": "2021-07-05T06:38:35.134761",
     "exception": false,
     "start_time": "2021-07-05T06:38:35.086733",
     "status": "completed"
    },
    "tags": []
   },
   "outputs": [],
   "source": [
    "sel = ['Pclass', 'SibSp', 'Parch', 'Fare', 'Cabin_bool', 'Embarked', 'Ticket_code']\n",
    "\n",
    "X_train = train[sel]\n",
    "X_test = test[sel]\n",
    "y_train = train['Survived']"
   ]
  },
  {
   "cell_type": "code",
   "execution_count": 34,
   "id": "angry-memorabilia",
   "metadata": {
    "execution": {
     "iopub.execute_input": "2021-07-05T06:38:35.213782Z",
     "iopub.status.busy": "2021-07-05T06:38:35.212857Z",
     "iopub.status.idle": "2021-07-05T06:38:35.222754Z",
     "shell.execute_reply": "2021-07-05T06:38:35.222274Z",
     "shell.execute_reply.started": "2021-07-05T06:11:03.831193Z"
    },
    "papermill": {
     "duration": 0.051453,
     "end_time": "2021-07-05T06:38:35.222895",
     "exception": false,
     "start_time": "2021-07-05T06:38:35.171442",
     "status": "completed"
    },
    "tags": []
   },
   "outputs": [
    {
     "data": {
      "text/plain": [
       "array([0, 0, 1, 0, 1, 0, 0, 1, 0, 0, 0, 0, 1, 1, 0])"
      ]
     },
     "execution_count": 34,
     "metadata": {},
     "output_type": "execute_result"
    }
   ],
   "source": [
    "from sklearn.tree import DecisionTreeClassifier\n",
    "\n",
    "dc_tree = DecisionTreeClassifier()\n",
    "dc_tree.fit(X_train, y_train)\n",
    "\n",
    "# 예측\n",
    "pred = dc_tree.predict(X_test)\n",
    "pred[:15]"
   ]
  },
  {
   "cell_type": "code",
   "execution_count": 35,
   "id": "blind-transparency",
   "metadata": {
    "execution": {
     "iopub.execute_input": "2021-07-05T06:38:35.297320Z",
     "iopub.status.busy": "2021-07-05T06:38:35.296362Z",
     "iopub.status.idle": "2021-07-05T06:38:35.307218Z",
     "shell.execute_reply": "2021-07-05T06:38:35.306739Z",
     "shell.execute_reply.started": "2021-07-05T06:11:03.856713Z"
    },
    "papermill": {
     "duration": 0.049442,
     "end_time": "2021-07-05T06:38:35.307359",
     "exception": false,
     "start_time": "2021-07-05T06:38:35.257917",
     "status": "completed"
    },
    "tags": []
   },
   "outputs": [
    {
     "name": "stdout",
     "output_type": "stream",
     "text": [
      "Index(['PassengerId', 'Survived'], dtype='object')\n"
     ]
    }
   ],
   "source": [
    "print(sub.columns)\n",
    "sub['Survived'] = pred\n",
    "\n",
    "sub.to_csv('decision_first_model.csv', index=False)"
   ]
  },
  {
   "cell_type": "code",
   "execution_count": 36,
   "id": "fitted-arkansas",
   "metadata": {
    "execution": {
     "iopub.execute_input": "2021-07-05T06:38:35.391517Z",
     "iopub.status.busy": "2021-07-05T06:38:35.388715Z",
     "iopub.status.idle": "2021-07-05T06:38:35.394460Z",
     "shell.execute_reply": "2021-07-05T06:38:35.394960Z",
     "shell.execute_reply.started": "2021-07-05T06:11:10.825867Z"
    },
    "papermill": {
     "duration": 0.051767,
     "end_time": "2021-07-05T06:38:35.395124",
     "exception": false,
     "start_time": "2021-07-05T06:38:35.343357",
     "status": "completed"
    },
    "tags": []
   },
   "outputs": [
    {
     "data": {
      "text/plain": [
       "((1309, 15),\n",
       " Index(['PassengerId', 'Pclass', 'Name', 'Sex', 'Age', 'SibSp', 'Parch',\n",
       "        'Ticket', 'Fare', 'Cabin', 'Embarked', 'Name_code', 'Cabin_bool',\n",
       "        'Ticket_code', 'Family_size'],\n",
       "       dtype='object'))"
      ]
     },
     "execution_count": 36,
     "metadata": {},
     "output_type": "execute_result"
    }
   ],
   "source": [
    "all_titanic = pd.concat([train, test], join='inner')\n",
    "all_titanic.shape, all_titanic.columns"
   ]
  },
  {
   "cell_type": "code",
   "execution_count": 37,
   "id": "different-switch",
   "metadata": {
    "execution": {
     "iopub.execute_input": "2021-07-05T06:38:35.486094Z",
     "iopub.status.busy": "2021-07-05T06:38:35.485158Z",
     "iopub.status.idle": "2021-07-05T06:38:35.490532Z",
     "shell.execute_reply": "2021-07-05T06:38:35.490065Z",
     "shell.execute_reply.started": "2021-07-05T06:13:14.678758Z"
    },
    "papermill": {
     "duration": 0.058882,
     "end_time": "2021-07-05T06:38:35.490671",
     "exception": false,
     "start_time": "2021-07-05T06:38:35.431789",
     "status": "completed"
    },
    "tags": []
   },
   "outputs": [
    {
     "name": "stdout",
     "output_type": "stream",
     "text": [
      "<class 'pandas.core.frame.DataFrame'>\n",
      "Int64Index: 1309 entries, 0 to 417\n",
      "Data columns (total 15 columns):\n",
      " #   Column       Non-Null Count  Dtype  \n",
      "---  ------       --------------  -----  \n",
      " 0   PassengerId  1309 non-null   int64  \n",
      " 1   Pclass       1309 non-null   int64  \n",
      " 2   Name         1309 non-null   object \n",
      " 3   Sex          1309 non-null   int64  \n",
      " 4   Age          1309 non-null   float64\n",
      " 5   SibSp        1309 non-null   int64  \n",
      " 6   Parch        1309 non-null   int64  \n",
      " 7   Ticket       1309 non-null   object \n",
      " 8   Fare         1309 non-null   float64\n",
      " 9   Cabin        295 non-null    object \n",
      " 10  Embarked     1309 non-null   int64  \n",
      " 11  Name_code    1309 non-null   int64  \n",
      " 12  Cabin_bool   1309 non-null   int64  \n",
      " 13  Ticket_code  1309 non-null   object \n",
      " 14  Family_size  1309 non-null   int64  \n",
      "dtypes: float64(2), int64(9), object(4)\n",
      "memory usage: 163.6+ KB\n"
     ]
    }
   ],
   "source": [
    "all_titanic['Age'] = all_titanic['Age'].fillna( all_titanic['Age'].mean()  )\n",
    "all_titanic.info()"
   ]
  },
  {
   "cell_type": "code",
   "execution_count": 38,
   "id": "photographic-laundry",
   "metadata": {
    "execution": {
     "iopub.execute_input": "2021-07-05T06:38:35.569569Z",
     "iopub.status.busy": "2021-07-05T06:38:35.568913Z",
     "iopub.status.idle": "2021-07-05T06:38:35.576208Z",
     "shell.execute_reply": "2021-07-05T06:38:35.575666Z",
     "shell.execute_reply.started": "2021-07-05T06:13:48.358531Z"
    },
    "papermill": {
     "duration": 0.04953,
     "end_time": "2021-07-05T06:38:35.576347",
     "exception": false,
     "start_time": "2021-07-05T06:38:35.526817",
     "status": "completed"
    },
    "tags": []
   },
   "outputs": [
    {
     "data": {
      "text/plain": [
       "array([1, 3, 2, 4, 0])"
      ]
     },
     "execution_count": 38,
     "metadata": {},
     "output_type": "execute_result"
    }
   ],
   "source": [
    "## qcut  : 전체를 동일한 사이즈로 나눠줌\n",
    "all_titanic['qcut_Age'] = pd.qcut(all_titanic['Age'], 5, labels=False)   # 5 등분\n",
    "all_titanic['qcut_Age'].unique()"
   ]
  },
  {
   "cell_type": "code",
   "execution_count": null,
   "id": "prostate-track",
   "metadata": {
    "papermill": {
     "duration": 0.035678,
     "end_time": "2021-07-05T06:38:35.648530",
     "exception": false,
     "start_time": "2021-07-05T06:38:35.612852",
     "status": "completed"
    },
    "tags": []
   },
   "outputs": [],
   "source": []
  },
  {
   "cell_type": "code",
   "execution_count": null,
   "id": "committed-deployment",
   "metadata": {
    "papermill": {
     "duration": 0.035973,
     "end_time": "2021-07-05T06:38:35.720650",
     "exception": false,
     "start_time": "2021-07-05T06:38:35.684677",
     "status": "completed"
    },
    "tags": []
   },
   "outputs": [],
   "source": []
  },
  {
   "cell_type": "code",
   "execution_count": null,
   "id": "legitimate-skiing",
   "metadata": {
    "papermill": {
     "duration": 0.035794,
     "end_time": "2021-07-05T06:38:35.792399",
     "exception": false,
     "start_time": "2021-07-05T06:38:35.756605",
     "status": "completed"
    },
    "tags": []
   },
   "outputs": [],
   "source": []
  },
  {
   "cell_type": "code",
   "execution_count": null,
   "id": "falling-jerusalem",
   "metadata": {
    "papermill": {
     "duration": 0.035787,
     "end_time": "2021-07-05T06:38:35.864750",
     "exception": false,
     "start_time": "2021-07-05T06:38:35.828963",
     "status": "completed"
    },
    "tags": []
   },
   "outputs": [],
   "source": []
  },
  {
   "cell_type": "code",
   "execution_count": null,
   "id": "relative-mediterranean",
   "metadata": {
    "papermill": {
     "duration": 0.036031,
     "end_time": "2021-07-05T06:38:35.936733",
     "exception": false,
     "start_time": "2021-07-05T06:38:35.900702",
     "status": "completed"
    },
    "tags": []
   },
   "outputs": [],
   "source": []
  },
  {
   "cell_type": "code",
   "execution_count": null,
   "id": "analyzed-destruction",
   "metadata": {
    "papermill": {
     "duration": 0.036892,
     "end_time": "2021-07-05T06:38:36.009852",
     "exception": false,
     "start_time": "2021-07-05T06:38:35.972960",
     "status": "completed"
    },
    "tags": []
   },
   "outputs": [],
   "source": []
  },
  {
   "cell_type": "code",
   "execution_count": null,
   "id": "advised-treasure",
   "metadata": {
    "papermill": {
     "duration": 0.037887,
     "end_time": "2021-07-05T06:38:36.085346",
     "exception": false,
     "start_time": "2021-07-05T06:38:36.047459",
     "status": "completed"
    },
    "tags": []
   },
   "outputs": [],
   "source": []
  },
  {
   "cell_type": "code",
   "execution_count": null,
   "id": "confirmed-waterproof",
   "metadata": {
    "papermill": {
     "duration": 0.036153,
     "end_time": "2021-07-05T06:38:36.157887",
     "exception": false,
     "start_time": "2021-07-05T06:38:36.121734",
     "status": "completed"
    },
    "tags": []
   },
   "outputs": [],
   "source": []
  },
  {
   "cell_type": "code",
   "execution_count": null,
   "id": "canadian-solid",
   "metadata": {
    "papermill": {
     "duration": 0.037053,
     "end_time": "2021-07-05T06:38:36.231661",
     "exception": false,
     "start_time": "2021-07-05T06:38:36.194608",
     "status": "completed"
    },
    "tags": []
   },
   "outputs": [],
   "source": []
  },
  {
   "cell_type": "code",
   "execution_count": null,
   "id": "sonic-record",
   "metadata": {
    "papermill": {
     "duration": 0.036869,
     "end_time": "2021-07-05T06:38:36.305220",
     "exception": false,
     "start_time": "2021-07-05T06:38:36.268351",
     "status": "completed"
    },
    "tags": []
   },
   "outputs": [],
   "source": []
  },
  {
   "cell_type": "code",
   "execution_count": null,
   "id": "sexual-slide",
   "metadata": {
    "papermill": {
     "duration": 0.036231,
     "end_time": "2021-07-05T06:38:36.378024",
     "exception": false,
     "start_time": "2021-07-05T06:38:36.341793",
     "status": "completed"
    },
    "tags": []
   },
   "outputs": [],
   "source": [
    "\n"
   ]
  }
 ],
 "metadata": {
  "kernelspec": {
   "display_name": "Python 3",
   "language": "python",
   "name": "python3"
  },
  "language_info": {
   "codemirror_mode": {
    "name": "ipython",
    "version": 3
   },
   "file_extension": ".py",
   "mimetype": "text/x-python",
   "name": "python",
   "nbconvert_exporter": "python",
   "pygments_lexer": "ipython3",
   "version": "3.7.10"
  },
  "papermill": {
   "default_parameters": {},
   "duration": 13.542084,
   "end_time": "2021-07-05T06:38:37.123834",
   "environment_variables": {},
   "exception": null,
   "input_path": "__notebook__.ipynb",
   "output_path": "__notebook__.ipynb",
   "parameters": {},
   "start_time": "2021-07-05T06:38:23.581750",
   "version": "2.3.3"
  }
 },
 "nbformat": 4,
 "nbformat_minor": 5
}
